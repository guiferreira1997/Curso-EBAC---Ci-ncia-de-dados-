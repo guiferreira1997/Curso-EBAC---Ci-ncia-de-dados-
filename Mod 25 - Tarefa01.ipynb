{
 "cells": [
  {
   "attachments": {},
   "cell_type": "markdown",
   "metadata": {},
   "source": [
    "# Cálculo - Tarefa 01\n",
    "\n",
    "1. Marque quais desses métodos/algoritmos muito populares em ciência de dados são baseados no uso de derivada:\n",
    "\n",
    "    1. Método Mínimos Quadrados\n",
    "    2. Gradiente descendente\n",
    "    3. Newton Raphson\n",
    "    4. CART (Árvore de decisão)"
   ]
  },
  {
   "attachments": {},
   "cell_type": "markdown",
   "metadata": {},
   "source": [
    "- Método Mínimos Quadrados:É baseado na minimização da soma dos quadrados dos erros, e isso é feito derivando a função de erro em relação aos parâmetros (por exemplo, coeficientes da regressão) e igualando a zero..\n",
    "- Gradiente descendente: é baseado no uso de derivada, pois utiliza o cálculo do gradiente para encontrar a direção de maior descida.\n",
    "- Newton Raphson: é baseado no uso de derivada, pois utiliza a matriz Hessiana (que contém as segundas derivadas) para encontrar os pontos críticos.\n",
    "- CART (Árvore de decisão): não é baseado no uso de derivada."
   ]
  },
  {
   "attachments": {},
   "cell_type": "markdown",
   "metadata": {},
   "source": [
    "2. Dada uma base de dados com uma variável resposta $y$ e um conjunto de variáveis explicativas. Considere uma estrutura de um modelo de regressão. Explique com suas palavras por que não é possível obter parâmetros que forneçam um erro quadrático médio (EQM) menor que o obtido com estimadores de mínimos quadrados."
   ]
  },
  {
   "attachments": {},
   "cell_type": "markdown",
   "metadata": {},
   "source": [
    "O método dos mínimos quadrados é amplamente utilizado para ajustar modelos de regressão, pois tem como objetivo encontrar os coeficientes que minimizam a soma dos quadrados dos erros — ou seja, a diferença entre os valores observados e os valores estimados pelo modelo.\n",
    "\n",
    "Uma das razões pelas quais pode não ser possível encontrar estimadores com erro quadrático médio (EQM) menor do que os obtidos por esse método é que, quando assumimos que os erros do modelo seguem uma distribuição normal, os mínimos quadrados coincidem com o estimador de máxima verossimilhança. Isso significa que, sob essa suposição, ele é estatisticamente o mais adequado.\n",
    "\n",
    "Por outro lado, se os erros não tiverem distribuição normal, o método pode deixar de ser o mais eficaz. Nesses casos, outras abordagens podem ser mais apropriadas, como técnicas de regressão robusta, que são menos sensíveis a outliers, ou métodos com regularização, que ajudam a evitar sobreajuste.\n",
    "\n",
    "Mesmo assim, os mínimos quadrados continuam sendo uma ferramenta eficiente e confiável na maioria das situações, sendo frequentemente a primeira escolha para o ajuste de modelos de regressão."
   ]
  },
  {
   "attachments": {},
   "cell_type": "markdown",
   "metadata": {},
   "source": []
  }
 ],
 "metadata": {
  "kernelspec": {
   "display_name": "Python 3",
   "language": "python",
   "name": "python3"
  },
  "language_info": {
   "codemirror_mode": {
    "name": "ipython",
    "version": 3
   },
   "file_extension": ".py",
   "mimetype": "text/x-python",
   "name": "python",
   "nbconvert_exporter": "python",
   "pygments_lexer": "ipython3",
   "version": "3.8.5"
  },
  "toc": {
   "base_numbering": 1,
   "nav_menu": {},
   "number_sections": true,
   "sideBar": true,
   "skip_h1_title": true,
   "title_cell": "Índice",
   "title_sidebar": "Conteúdo",
   "toc_cell": false,
   "toc_position": {},
   "toc_section_display": true,
   "toc_window_display": false
  },
  "varInspector": {
   "cols": {
    "lenName": 16,
    "lenType": 16,
    "lenVar": 40
   },
   "kernels_config": {
    "python": {
     "delete_cmd_postfix": "",
     "delete_cmd_prefix": "del ",
     "library": "var_list.py",
     "varRefreshCmd": "print(var_dic_list())"
    },
    "r": {
     "delete_cmd_postfix": ") ",
     "delete_cmd_prefix": "rm(",
     "library": "var_list.r",
     "varRefreshCmd": "cat(var_dic_list()) "
    }
   },
   "types_to_exclude": [
    "module",
    "function",
    "builtin_function_or_method",
    "instance",
    "_Feature"
   ],
   "window_display": false
  }
 },
 "nbformat": 4,
 "nbformat_minor": 4
}
