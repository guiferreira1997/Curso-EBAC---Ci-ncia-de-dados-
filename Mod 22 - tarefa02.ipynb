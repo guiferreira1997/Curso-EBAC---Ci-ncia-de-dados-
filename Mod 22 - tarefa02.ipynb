{
 "cells": [
  {
   "cell_type": "markdown",
   "metadata": {},
   "source": [
    "# Tarefa 02\n",
    "\n",
    "- Leia os enunciados com atenção\n",
    "- Saiba que pode haver mais de uma resposta correta\n",
    "- Insira novas células de código sempre que achar necessário\n",
    "- Em caso de dúvidas, procure os monitores\n",
    "- Divirta-se :)"
   ]
  },
  {
   "cell_type": "code",
   "execution_count": 1,
   "metadata": {},
   "outputs": [],
   "source": [
    "\n",
    "import plotly.express as px\n",
    "from plotly import graph_objects\n",
    "import yfinance as yf\n",
    "\n",
    "\n",
    "import datetime as dt\n",
    "import pandas as pd\n",
    "import numpy as np"
   ]
  },
  {
   "cell_type": "markdown",
   "metadata": {},
   "source": [
    "#### 1. Carregue os dados da tarefa anterior"
   ]
  },
  {
   "cell_type": "code",
   "execution_count": 2,
   "metadata": {},
   "outputs": [
    {
     "data": {
      "text/html": [
       "<div>\n",
       "<style scoped>\n",
       "    .dataframe tbody tr th:only-of-type {\n",
       "        vertical-align: middle;\n",
       "    }\n",
       "\n",
       "    .dataframe tbody tr th {\n",
       "        vertical-align: top;\n",
       "    }\n",
       "\n",
       "    .dataframe thead tr th {\n",
       "        text-align: left;\n",
       "    }\n",
       "\n",
       "    .dataframe thead tr:last-of-type th {\n",
       "        text-align: right;\n",
       "    }\n",
       "</style>\n",
       "<table border=\"1\" class=\"dataframe\">\n",
       "  <thead>\n",
       "    <tr>\n",
       "      <th>Price</th>\n",
       "      <th colspan=\"3\" halign=\"left\">Close</th>\n",
       "      <th colspan=\"3\" halign=\"left\">High</th>\n",
       "      <th colspan=\"3\" halign=\"left\">Low</th>\n",
       "      <th colspan=\"3\" halign=\"left\">Open</th>\n",
       "      <th colspan=\"3\" halign=\"left\">Volume</th>\n",
       "    </tr>\n",
       "    <tr>\n",
       "      <th>Ticker</th>\n",
       "      <th>HGRE11.SA</th>\n",
       "      <th>ITSA4.SA</th>\n",
       "      <th>WEGE3.SA</th>\n",
       "      <th>HGRE11.SA</th>\n",
       "      <th>ITSA4.SA</th>\n",
       "      <th>WEGE3.SA</th>\n",
       "      <th>HGRE11.SA</th>\n",
       "      <th>ITSA4.SA</th>\n",
       "      <th>WEGE3.SA</th>\n",
       "      <th>HGRE11.SA</th>\n",
       "      <th>ITSA4.SA</th>\n",
       "      <th>WEGE3.SA</th>\n",
       "      <th>HGRE11.SA</th>\n",
       "      <th>ITSA4.SA</th>\n",
       "      <th>WEGE3.SA</th>\n",
       "    </tr>\n",
       "    <tr>\n",
       "      <th>Date</th>\n",
       "      <th></th>\n",
       "      <th></th>\n",
       "      <th></th>\n",
       "      <th></th>\n",
       "      <th></th>\n",
       "      <th></th>\n",
       "      <th></th>\n",
       "      <th></th>\n",
       "      <th></th>\n",
       "      <th></th>\n",
       "      <th></th>\n",
       "      <th></th>\n",
       "      <th></th>\n",
       "      <th></th>\n",
       "      <th></th>\n",
       "    </tr>\n",
       "  </thead>\n",
       "  <tbody>\n",
       "    <tr>\n",
       "      <th>2021-01-04</th>\n",
       "      <td>117.847694</td>\n",
       "      <td>8.102570</td>\n",
       "      <td>34.756062</td>\n",
       "      <td>120.933249</td>\n",
       "      <td>8.306011</td>\n",
       "      <td>35.580480</td>\n",
       "      <td>117.839946</td>\n",
       "      <td>8.018387</td>\n",
       "      <td>34.700167</td>\n",
       "      <td>120.933249</td>\n",
       "      <td>8.306011</td>\n",
       "      <td>35.328962</td>\n",
       "      <td>40835</td>\n",
       "      <td>50047855</td>\n",
       "      <td>7219800</td>\n",
       "    </tr>\n",
       "    <tr>\n",
       "      <th>2021-01-05</th>\n",
       "      <td>117.235275</td>\n",
       "      <td>8.039433</td>\n",
       "      <td>36.889297</td>\n",
       "      <td>118.227611</td>\n",
       "      <td>8.067495</td>\n",
       "      <td>36.889297</td>\n",
       "      <td>116.677085</td>\n",
       "      <td>7.899129</td>\n",
       "      <td>34.467274</td>\n",
       "      <td>117.847728</td>\n",
       "      <td>8.053464</td>\n",
       "      <td>34.770028</td>\n",
       "      <td>32200</td>\n",
       "      <td>35387872</td>\n",
       "      <td>16633600</td>\n",
       "    </tr>\n",
       "    <tr>\n",
       "      <th>2021-01-06</th>\n",
       "      <td>116.514236</td>\n",
       "      <td>8.200784</td>\n",
       "      <td>37.867443</td>\n",
       "      <td>117.739153</td>\n",
       "      <td>8.306012</td>\n",
       "      <td>38.878172</td>\n",
       "      <td>116.258410</td>\n",
       "      <td>8.004358</td>\n",
       "      <td>36.390936</td>\n",
       "      <td>117.452310</td>\n",
       "      <td>8.039434</td>\n",
       "      <td>36.968499</td>\n",
       "      <td>33682</td>\n",
       "      <td>39637619</td>\n",
       "      <td>21507400</td>\n",
       "    </tr>\n",
       "    <tr>\n",
       "      <th>2021-01-07</th>\n",
       "      <td>116.537498</td>\n",
       "      <td>8.530499</td>\n",
       "      <td>39.432426</td>\n",
       "      <td>116.793325</td>\n",
       "      <td>8.572590</td>\n",
       "      <td>39.595447</td>\n",
       "      <td>115.901777</td>\n",
       "      <td>8.158692</td>\n",
       "      <td>38.118940</td>\n",
       "      <td>116.677040</td>\n",
       "      <td>8.214814</td>\n",
       "      <td>38.370459</td>\n",
       "      <td>31770</td>\n",
       "      <td>51306807</td>\n",
       "      <td>15129600</td>\n",
       "    </tr>\n",
       "    <tr>\n",
       "      <th>2021-01-08</th>\n",
       "      <td>116.405678</td>\n",
       "      <td>8.509454</td>\n",
       "      <td>41.817196</td>\n",
       "      <td>116.979376</td>\n",
       "      <td>8.663789</td>\n",
       "      <td>41.915008</td>\n",
       "      <td>115.521879</td>\n",
       "      <td>8.432287</td>\n",
       "      <td>39.520930</td>\n",
       "      <td>116.537483</td>\n",
       "      <td>8.593637</td>\n",
       "      <td>39.567506</td>\n",
       "      <td>39046</td>\n",
       "      <td>33298484</td>\n",
       "      <td>17381000</td>\n",
       "    </tr>\n",
       "    <tr>\n",
       "      <th>...</th>\n",
       "      <td>...</td>\n",
       "      <td>...</td>\n",
       "      <td>...</td>\n",
       "      <td>...</td>\n",
       "      <td>...</td>\n",
       "      <td>...</td>\n",
       "      <td>...</td>\n",
       "      <td>...</td>\n",
       "      <td>...</td>\n",
       "      <td>...</td>\n",
       "      <td>...</td>\n",
       "      <td>...</td>\n",
       "      <td>...</td>\n",
       "      <td>...</td>\n",
       "      <td>...</td>\n",
       "    </tr>\n",
       "    <tr>\n",
       "      <th>2023-06-26</th>\n",
       "      <td>114.382446</td>\n",
       "      <td>8.108636</td>\n",
       "      <td>35.213219</td>\n",
       "      <td>115.677590</td>\n",
       "      <td>8.159000</td>\n",
       "      <td>35.474412</td>\n",
       "      <td>113.266218</td>\n",
       "      <td>8.033089</td>\n",
       "      <td>34.652127</td>\n",
       "      <td>114.697710</td>\n",
       "      <td>8.100242</td>\n",
       "      <td>35.455068</td>\n",
       "      <td>21966</td>\n",
       "      <td>12094204</td>\n",
       "      <td>6546100</td>\n",
       "    </tr>\n",
       "    <tr>\n",
       "      <th>2023-06-27</th>\n",
       "      <td>115.873566</td>\n",
       "      <td>8.024694</td>\n",
       "      <td>35.309956</td>\n",
       "      <td>115.873566</td>\n",
       "      <td>8.150604</td>\n",
       "      <td>35.455066</td>\n",
       "      <td>113.342904</td>\n",
       "      <td>7.982725</td>\n",
       "      <td>34.797237</td>\n",
       "      <td>114.382436</td>\n",
       "      <td>8.108635</td>\n",
       "      <td>35.280935</td>\n",
       "      <td>28786</td>\n",
       "      <td>20561232</td>\n",
       "      <td>6131000</td>\n",
       "    </tr>\n",
       "    <tr>\n",
       "      <th>2023-06-28</th>\n",
       "      <td>116.521126</td>\n",
       "      <td>7.940754</td>\n",
       "      <td>35.387348</td>\n",
       "      <td>117.160181</td>\n",
       "      <td>8.033089</td>\n",
       "      <td>35.580824</td>\n",
       "      <td>114.450592</td>\n",
       "      <td>7.932360</td>\n",
       "      <td>35.097126</td>\n",
       "      <td>115.694613</td>\n",
       "      <td>7.974330</td>\n",
       "      <td>35.445390</td>\n",
       "      <td>16891</td>\n",
       "      <td>15595274</td>\n",
       "      <td>6256700</td>\n",
       "    </tr>\n",
       "    <tr>\n",
       "      <th>2023-06-29</th>\n",
       "      <td>118.591667</td>\n",
       "      <td>8.058270</td>\n",
       "      <td>35.638870</td>\n",
       "      <td>119.196646</td>\n",
       "      <td>8.100241</td>\n",
       "      <td>35.793653</td>\n",
       "      <td>115.916155</td>\n",
       "      <td>7.949149</td>\n",
       "      <td>35.242238</td>\n",
       "      <td>116.521133</td>\n",
       "      <td>7.949149</td>\n",
       "      <td>35.532456</td>\n",
       "      <td>15029</td>\n",
       "      <td>14034285</td>\n",
       "      <td>9004800</td>\n",
       "    </tr>\n",
       "    <tr>\n",
       "      <th>2023-06-30</th>\n",
       "      <td>120.645157</td>\n",
       "      <td>8.091846</td>\n",
       "      <td>36.519196</td>\n",
       "      <td>120.985994</td>\n",
       "      <td>8.192575</td>\n",
       "      <td>36.799741</td>\n",
       "      <td>118.353076</td>\n",
       "      <td>8.075059</td>\n",
       "      <td>35.561472</td>\n",
       "      <td>118.591655</td>\n",
       "      <td>8.100241</td>\n",
       "      <td>35.871042</td>\n",
       "      <td>15991</td>\n",
       "      <td>21136957</td>\n",
       "      <td>8007900</td>\n",
       "    </tr>\n",
       "  </tbody>\n",
       "</table>\n",
       "<p>621 rows × 15 columns</p>\n",
       "</div>"
      ],
      "text/plain": [
       "Price            Close                             High                       \\\n",
       "Ticker       HGRE11.SA  ITSA4.SA   WEGE3.SA   HGRE11.SA  ITSA4.SA   WEGE3.SA   \n",
       "Date                                                                           \n",
       "2021-01-04  117.847694  8.102570  34.756062  120.933249  8.306011  35.580480   \n",
       "2021-01-05  117.235275  8.039433  36.889297  118.227611  8.067495  36.889297   \n",
       "2021-01-06  116.514236  8.200784  37.867443  117.739153  8.306012  38.878172   \n",
       "2021-01-07  116.537498  8.530499  39.432426  116.793325  8.572590  39.595447   \n",
       "2021-01-08  116.405678  8.509454  41.817196  116.979376  8.663789  41.915008   \n",
       "...                ...       ...        ...         ...       ...        ...   \n",
       "2023-06-26  114.382446  8.108636  35.213219  115.677590  8.159000  35.474412   \n",
       "2023-06-27  115.873566  8.024694  35.309956  115.873566  8.150604  35.455066   \n",
       "2023-06-28  116.521126  7.940754  35.387348  117.160181  8.033089  35.580824   \n",
       "2023-06-29  118.591667  8.058270  35.638870  119.196646  8.100241  35.793653   \n",
       "2023-06-30  120.645157  8.091846  36.519196  120.985994  8.192575  36.799741   \n",
       "\n",
       "Price              Low                             Open                       \\\n",
       "Ticker       HGRE11.SA  ITSA4.SA   WEGE3.SA   HGRE11.SA  ITSA4.SA   WEGE3.SA   \n",
       "Date                                                                           \n",
       "2021-01-04  117.839946  8.018387  34.700167  120.933249  8.306011  35.328962   \n",
       "2021-01-05  116.677085  7.899129  34.467274  117.847728  8.053464  34.770028   \n",
       "2021-01-06  116.258410  8.004358  36.390936  117.452310  8.039434  36.968499   \n",
       "2021-01-07  115.901777  8.158692  38.118940  116.677040  8.214814  38.370459   \n",
       "2021-01-08  115.521879  8.432287  39.520930  116.537483  8.593637  39.567506   \n",
       "...                ...       ...        ...         ...       ...        ...   \n",
       "2023-06-26  113.266218  8.033089  34.652127  114.697710  8.100242  35.455068   \n",
       "2023-06-27  113.342904  7.982725  34.797237  114.382436  8.108635  35.280935   \n",
       "2023-06-28  114.450592  7.932360  35.097126  115.694613  7.974330  35.445390   \n",
       "2023-06-29  115.916155  7.949149  35.242238  116.521133  7.949149  35.532456   \n",
       "2023-06-30  118.353076  8.075059  35.561472  118.591655  8.100241  35.871042   \n",
       "\n",
       "Price         Volume                      \n",
       "Ticker     HGRE11.SA  ITSA4.SA  WEGE3.SA  \n",
       "Date                                      \n",
       "2021-01-04     40835  50047855   7219800  \n",
       "2021-01-05     32200  35387872  16633600  \n",
       "2021-01-06     33682  39637619  21507400  \n",
       "2021-01-07     31770  51306807  15129600  \n",
       "2021-01-08     39046  33298484  17381000  \n",
       "...              ...       ...       ...  \n",
       "2023-06-26     21966  12094204   6546100  \n",
       "2023-06-27     28786  20561232   6131000  \n",
       "2023-06-28     16891  15595274   6256700  \n",
       "2023-06-29     15029  14034285   9004800  \n",
       "2023-06-30     15991  21136957   8007900  \n",
       "\n",
       "[621 rows x 15 columns]"
      ]
     },
     "execution_count": 2,
     "metadata": {},
     "output_type": "execute_result"
    }
   ],
   "source": [
    "df_yahoo = pd.read_csv('./dadosLimpos.csv', header=[0, 1], index_col=[0])\n",
    "df_yahoo"
   ]
  },
  {
   "cell_type": "markdown",
   "metadata": {},
   "source": [
    "#### 2. Média móvel\n",
    "\n",
    "1. Faça uma média móvel  em 90 dias dos valores de fechamento ajustados dos ativos que você escolheu\n",
    "2. Utilizando a fução ```rolling()```, calcule o desvio pardão desses ativos ao longo do tempo, utilizando a mesma janela móvel do item acima\n",
    "2. Monte um gráfico de linhas para as médias móveis dos ativos da sua base\n",
    "4. Monte um gráfico de linhas para os desvios padrão em janela móvel\n",
    "5. Compare os dois gráficos que você fez com o da tarefa anterior. Veja se eles apontam conclusões semelhantes quanto aos períodos de maior volatilidade (variação) dos ativos."
   ]
  },
  {
   "cell_type": "code",
   "execution_count": 5,
   "metadata": {},
   "outputs": [
    {
     "data": {
      "application/vnd.plotly.v1+json": {
       "config": {
        "plotlyServerURL": "https://plot.ly"
       },
       "data": [
        {
         "hovertemplate": "ativo=HGRE11.SA<br>data=%{x}<br>média móvel=%{y}<extra></extra>",
         "legendgroup": "HGRE11.SA",
         "line": {
          "color": "#636efa",
          "dash": "solid"
         },
         "marker": {
          "symbol": "circle"
         },
         "mode": "lines",
         "name": "HGRE11.SA",
         "showlegend": true,
         "type": "scattergl",
         "x": [
          "2021-01-04",
          "2021-01-05",
          "2021-01-06",
          "2021-01-07",
          "2021-01-08",
          "2021-01-11",
          "2021-01-12",
          "2021-01-13",
          "2021-01-14",
          "2021-01-15",
          "2021-01-18",
          "2021-01-19",
          "2021-01-20",
          "2021-01-21",
          "2021-01-22",
          "2021-01-26",
          "2021-01-27",
          "2021-01-28",
          "2021-01-29",
          "2021-02-01",
          "2021-02-02",
          "2021-02-03",
          "2021-02-04",
          "2021-02-05",
          "2021-02-08",
          "2021-02-09",
          "2021-02-10",
          "2021-02-11",
          "2021-02-12",
          "2021-02-17",
          "2021-02-18",
          "2021-02-19",
          "2021-02-22",
          "2021-02-23",
          "2021-02-24",
          "2021-02-25",
          "2021-02-26",
          "2021-03-01",
          "2021-03-02",
          "2021-03-03",
          "2021-03-04",
          "2021-03-05",
          "2021-03-08",
          "2021-03-09",
          "2021-03-10",
          "2021-03-11",
          "2021-03-12",
          "2021-03-15",
          "2021-03-16",
          "2021-03-17",
          "2021-03-18",
          "2021-03-19",
          "2021-03-22",
          "2021-03-23",
          "2021-03-24",
          "2021-03-25",
          "2021-03-26",
          "2021-03-29",
          "2021-03-30",
          "2021-03-31",
          "2021-04-01",
          "2021-04-05",
          "2021-04-06",
          "2021-04-07",
          "2021-04-08",
          "2021-04-09",
          "2021-04-12",
          "2021-04-13",
          "2021-04-14",
          "2021-04-15",
          "2021-04-16",
          "2021-04-19",
          "2021-04-20",
          "2021-04-22",
          "2021-04-23",
          "2021-04-26",
          "2021-04-27",
          "2021-04-28",
          "2021-04-29",
          "2021-04-30",
          "2021-05-03",
          "2021-05-04",
          "2021-05-05",
          "2021-05-06",
          "2021-05-07",
          "2021-05-10",
          "2021-05-11",
          "2021-05-12",
          "2021-05-13",
          "2021-05-14",
          "2021-05-17",
          "2021-05-18",
          "2021-05-19",
          "2021-05-20",
          "2021-05-21",
          "2021-05-24",
          "2021-05-25",
          "2021-05-26",
          "2021-05-27",
          "2021-05-28",
          "2021-05-31",
          "2021-06-01",
          "2021-06-02",
          "2021-06-04",
          "2021-06-07",
          "2021-06-08",
          "2021-06-09",
          "2021-06-10",
          "2021-06-11",
          "2021-06-14",
          "2021-06-15",
          "2021-06-16",
          "2021-06-17",
          "2021-06-18",
          "2021-06-21",
          "2021-06-22",
          "2021-06-23",
          "2021-06-24",
          "2021-06-25",
          "2021-06-28",
          "2021-06-29",
          "2021-06-30",
          "2021-07-01",
          "2021-07-02",
          "2021-07-05",
          "2021-07-06",
          "2021-07-07",
          "2021-07-08",
          "2021-07-12",
          "2021-07-13",
          "2021-07-14",
          "2021-07-15",
          "2021-07-16",
          "2021-07-19",
          "2021-07-20",
          "2021-07-21",
          "2021-07-22",
          "2021-07-23",
          "2021-07-26",
          "2021-07-27",
          "2021-07-28",
          "2021-07-29",
          "2021-07-30",
          "2021-08-02",
          "2021-08-03",
          "2021-08-04",
          "2021-08-05",
          "2021-08-06",
          "2021-08-09",
          "2021-08-10",
          "2021-08-11",
          "2021-08-12",
          "2021-08-13",
          "2021-08-16",
          "2021-08-17",
          "2021-08-18",
          "2021-08-19",
          "2021-08-20",
          "2021-08-23",
          "2021-08-24",
          "2021-08-25",
          "2021-08-26",
          "2021-08-27",
          "2021-08-30",
          "2021-08-31",
          "2021-09-01",
          "2021-09-02",
          "2021-09-03",
          "2021-09-06",
          "2021-09-08",
          "2021-09-09",
          "2021-09-10",
          "2021-09-13",
          "2021-09-14",
          "2021-09-15",
          "2021-09-16",
          "2021-09-17",
          "2021-09-20",
          "2021-09-21",
          "2021-09-22",
          "2021-09-23",
          "2021-09-24",
          "2021-09-27",
          "2021-09-28",
          "2021-09-29",
          "2021-09-30",
          "2021-10-01",
          "2021-10-04",
          "2021-10-05",
          "2021-10-06",
          "2021-10-07",
          "2021-10-08",
          "2021-10-11",
          "2021-10-13",
          "2021-10-14",
          "2021-10-15",
          "2021-10-18",
          "2021-10-19",
          "2021-10-20",
          "2021-10-21",
          "2021-10-22",
          "2021-10-25",
          "2021-10-26",
          "2021-10-27",
          "2021-10-28",
          "2021-10-29",
          "2021-11-01",
          "2021-11-03",
          "2021-11-04",
          "2021-11-05",
          "2021-11-08",
          "2021-11-09",
          "2021-11-10",
          "2021-11-11",
          "2021-11-12",
          "2021-11-16",
          "2021-11-17",
          "2021-11-18",
          "2021-11-19",
          "2021-11-22",
          "2021-11-23",
          "2021-11-24",
          "2021-11-25",
          "2021-11-26",
          "2021-11-29",
          "2021-11-30",
          "2021-12-01",
          "2021-12-02",
          "2021-12-03",
          "2021-12-06",
          "2021-12-07",
          "2021-12-08",
          "2021-12-09",
          "2021-12-10",
          "2021-12-13",
          "2021-12-14",
          "2021-12-15",
          "2021-12-16",
          "2021-12-17",
          "2021-12-20",
          "2021-12-21",
          "2021-12-22",
          "2021-12-23",
          "2021-12-27",
          "2021-12-28",
          "2021-12-29",
          "2021-12-30",
          "2022-01-03",
          "2022-01-04",
          "2022-01-05",
          "2022-01-06",
          "2022-01-07",
          "2022-01-10",
          "2022-01-11",
          "2022-01-12",
          "2022-01-13",
          "2022-01-14",
          "2022-01-17",
          "2022-01-18",
          "2022-01-19",
          "2022-01-20",
          "2022-01-21",
          "2022-01-24",
          "2022-01-25",
          "2022-01-26",
          "2022-01-27",
          "2022-01-28",
          "2022-01-31",
          "2022-02-01",
          "2022-02-02",
          "2022-02-03",
          "2022-02-04",
          "2022-02-07",
          "2022-02-08",
          "2022-02-09",
          "2022-02-10",
          "2022-02-11",
          "2022-02-14",
          "2022-02-15",
          "2022-02-16",
          "2022-02-17",
          "2022-02-18",
          "2022-02-21",
          "2022-02-22",
          "2022-02-23",
          "2022-02-24",
          "2022-02-25",
          "2022-03-02",
          "2022-03-03",
          "2022-03-04",
          "2022-03-07",
          "2022-03-08",
          "2022-03-09",
          "2022-03-10",
          "2022-03-11",
          "2022-03-14",
          "2022-03-15",
          "2022-03-16",
          "2022-03-17",
          "2022-03-18",
          "2022-03-21",
          "2022-03-22",
          "2022-03-23",
          "2022-03-24",
          "2022-03-25",
          "2022-03-28",
          "2022-03-29",
          "2022-03-30",
          "2022-03-31",
          "2022-04-01",
          "2022-04-04",
          "2022-04-05",
          "2022-04-06",
          "2022-04-07",
          "2022-04-08",
          "2022-04-11",
          "2022-04-12",
          "2022-04-13",
          "2022-04-14",
          "2022-04-18",
          "2022-04-19",
          "2022-04-20",
          "2022-04-22",
          "2022-04-25",
          "2022-04-26",
          "2022-04-27",
          "2022-04-28",
          "2022-04-29",
          "2022-05-02",
          "2022-05-03",
          "2022-05-04",
          "2022-05-05",
          "2022-05-06",
          "2022-05-09",
          "2022-05-10",
          "2022-05-11",
          "2022-05-12",
          "2022-05-13",
          "2022-05-16",
          "2022-05-17",
          "2022-05-18",
          "2022-05-19",
          "2022-05-20",
          "2022-05-23",
          "2022-05-24",
          "2022-05-25",
          "2022-05-26",
          "2022-05-27",
          "2022-05-30",
          "2022-05-31",
          "2022-06-01",
          "2022-06-02",
          "2022-06-03",
          "2022-06-06",
          "2022-06-07",
          "2022-06-08",
          "2022-06-09",
          "2022-06-10",
          "2022-06-13",
          "2022-06-14",
          "2022-06-15",
          "2022-06-17",
          "2022-06-20",
          "2022-06-21",
          "2022-06-22",
          "2022-06-23",
          "2022-06-24",
          "2022-06-27",
          "2022-06-28",
          "2022-06-29",
          "2022-06-30",
          "2022-07-01",
          "2022-07-04",
          "2022-07-05",
          "2022-07-06",
          "2022-07-07",
          "2022-07-08",
          "2022-07-11",
          "2022-07-12",
          "2022-07-13",
          "2022-07-14",
          "2022-07-15",
          "2022-07-18",
          "2022-07-19",
          "2022-07-20",
          "2022-07-21",
          "2022-07-22",
          "2022-07-25",
          "2022-07-26",
          "2022-07-27",
          "2022-07-28",
          "2022-07-29",
          "2022-08-01",
          "2022-08-02",
          "2022-08-03",
          "2022-08-04",
          "2022-08-05",
          "2022-08-08",
          "2022-08-09",
          "2022-08-10",
          "2022-08-11",
          "2022-08-12",
          "2022-08-15",
          "2022-08-16",
          "2022-08-17",
          "2022-08-18",
          "2022-08-19",
          "2022-08-22",
          "2022-08-23",
          "2022-08-24",
          "2022-08-25",
          "2022-08-26",
          "2022-08-29",
          "2022-08-30",
          "2022-08-31",
          "2022-09-01",
          "2022-09-02",
          "2022-09-05",
          "2022-09-06",
          "2022-09-08",
          "2022-09-09",
          "2022-09-12",
          "2022-09-13",
          "2022-09-14",
          "2022-09-15",
          "2022-09-16",
          "2022-09-19",
          "2022-09-20",
          "2022-09-21",
          "2022-09-22",
          "2022-09-23",
          "2022-09-26",
          "2022-09-27",
          "2022-09-28",
          "2022-09-29",
          "2022-09-30",
          "2022-10-03",
          "2022-10-04",
          "2022-10-05",
          "2022-10-06",
          "2022-10-07",
          "2022-10-10",
          "2022-10-11",
          "2022-10-13",
          "2022-10-14",
          "2022-10-17",
          "2022-10-18",
          "2022-10-19",
          "2022-10-20",
          "2022-10-21",
          "2022-10-24",
          "2022-10-25",
          "2022-10-26",
          "2022-10-27",
          "2022-10-28",
          "2022-10-31",
          "2022-11-01",
          "2022-11-03",
          "2022-11-04",
          "2022-11-07",
          "2022-11-08",
          "2022-11-09",
          "2022-11-10",
          "2022-11-11",
          "2022-11-14",
          "2022-11-16",
          "2022-11-17",
          "2022-11-18",
          "2022-11-21",
          "2022-11-22",
          "2022-11-23",
          "2022-11-24",
          "2022-11-25",
          "2022-11-28",
          "2022-11-29",
          "2022-11-30",
          "2022-12-01",
          "2022-12-02",
          "2022-12-05",
          "2022-12-06",
          "2022-12-07",
          "2022-12-08",
          "2022-12-09",
          "2022-12-12",
          "2022-12-13",
          "2022-12-14",
          "2022-12-15",
          "2022-12-16",
          "2022-12-19",
          "2022-12-20",
          "2022-12-21",
          "2022-12-22",
          "2022-12-23",
          "2022-12-26",
          "2022-12-27",
          "2022-12-28",
          "2022-12-29",
          "2023-01-02",
          "2023-01-03",
          "2023-01-04",
          "2023-01-05",
          "2023-01-06",
          "2023-01-09",
          "2023-01-10",
          "2023-01-11",
          "2023-01-12",
          "2023-01-13",
          "2023-01-16",
          "2023-01-17",
          "2023-01-18",
          "2023-01-19",
          "2023-01-20",
          "2023-01-23",
          "2023-01-24",
          "2023-01-25",
          "2023-01-26",
          "2023-01-27",
          "2023-01-30",
          "2023-01-31",
          "2023-02-01",
          "2023-02-02",
          "2023-02-03",
          "2023-02-06",
          "2023-02-07",
          "2023-02-08",
          "2023-02-09",
          "2023-02-10",
          "2023-02-13",
          "2023-02-14",
          "2023-02-15",
          "2023-02-16",
          "2023-02-17",
          "2023-02-22",
          "2023-02-23",
          "2023-02-24",
          "2023-02-27",
          "2023-02-28",
          "2023-03-01",
          "2023-03-02",
          "2023-03-03",
          "2023-03-06",
          "2023-03-07",
          "2023-03-08",
          "2023-03-09",
          "2023-03-10",
          "2023-03-13",
          "2023-03-14",
          "2023-03-15",
          "2023-03-16",
          "2023-03-17",
          "2023-03-20",
          "2023-03-21",
          "2023-03-22",
          "2023-03-23",
          "2023-03-24",
          "2023-03-27",
          "2023-03-28",
          "2023-03-29",
          "2023-03-30",
          "2023-03-31",
          "2023-04-03",
          "2023-04-04",
          "2023-04-05",
          "2023-04-06",
          "2023-04-10",
          "2023-04-11",
          "2023-04-12",
          "2023-04-13",
          "2023-04-14",
          "2023-04-17",
          "2023-04-18",
          "2023-04-19",
          "2023-04-20",
          "2023-04-24",
          "2023-04-25",
          "2023-04-26",
          "2023-04-27",
          "2023-04-28",
          "2023-05-02",
          "2023-05-03",
          "2023-05-04",
          "2023-05-05",
          "2023-05-08",
          "2023-05-09",
          "2023-05-10",
          "2023-05-11",
          "2023-05-12",
          "2023-05-15",
          "2023-05-16",
          "2023-05-17",
          "2023-05-18",
          "2023-05-19",
          "2023-05-22",
          "2023-05-23",
          "2023-05-24",
          "2023-05-25",
          "2023-05-26",
          "2023-05-29",
          "2023-05-30",
          "2023-05-31",
          "2023-06-01",
          "2023-06-02",
          "2023-06-05",
          "2023-06-06",
          "2023-06-07",
          "2023-06-09",
          "2023-06-12",
          "2023-06-13",
          "2023-06-14",
          "2023-06-15",
          "2023-06-16",
          "2023-06-19",
          "2023-06-20",
          "2023-06-21",
          "2023-06-22",
          "2023-06-23",
          "2023-06-26",
          "2023-06-27",
          "2023-06-28",
          "2023-06-29",
          "2023-06-30"
         ],
         "xaxis": "x",
         "y": {
          "bdata": "AAAAoEB2XUAAAACwp2JdQKuqqoq9TF1AAAAAwCdCXUDNzMzsHTpdQAAAAGDwMl1ASZIkifsgXUAAAAA83xVdQMdxHMfyFF1AMzMzs7QUXUAvuuiCQBJdQFVVVQXlEl1AntiJ3awSXUC3bdvG7BVdQJqZmbmyFV1AAAAAMGAVXUA8PDw8NRVdQI7jOA4PFV1AQ3kN5ewUXUDNzMxUxxFdQAAAAMCDEF1AXXTRtb8PXUC96U0P5g5dQAAAAKw3DF1AZmZmxuEKXUDFTux0mgpdQHIcx3E5CV1AkiRJcskJXUCx3NPIRAtdQFVVVUUwDF1AKaWU0kENXUAAAAD0aw1dQOGDD56uCV1Al5aWFnYHXUCogzpI5gRdQDmO4+h6Al1A6wZT5DcAXUDKayiPb/1cQBqkQbrN+VxAMzMzr2L1XEBRuxK1SvFcQAzDMIxY7VxAR9wRV9XoXEAAAABIKuRcQNiCLRjp3lxAC1nI0gvaXEBHfWdjwdRcQFVVVbXVzVxA+9BYX1XFXEBmZmbmLLpcQDc3N9cLr1xAT+zEniGnXEATjLfSSKFcQEJ7Ca0cm1xATwnyNLSUXEBu27b1woxcQNxHcD+GhVxAwnJPw499XEBxUvel0XZcQN7d3UVTb1xAm/cpjkNnXECttdbKX15cQH7f913QVVxAAAAAIK1NXEBDL/SCCEZcQOGDD+48QVxAYI2JNBU6XEAtLS1lvjNcQGQhC1lHLlxAUAd18LYoXEA2BxKN5iRcQHIcx7nMIFxAbdmyRb4cXEBaN5jCBBhcQNpAp+0DFFxAAAAA8HYPXECjiy76/AlcQDuxE+t9BVxA/a4Wl54AXEAAAABIdfxbQAaebk3R91tAg/MxiMPyW0CLgRIeee1bQNu2bVuC6FtAl5aW9rPjW0DWlDU1gN5bQGRSvCDp2FtAF110pX7SW0Cb2tRmeMtbQMdxHKd5xFtAHMdxvHC4W0B90idtzaxbQCh90je5oFtAHMdx7E6UW0AzMzOTpIhbQFVVVTVPf1tAzczMvLt1W0ALtmDLwWpbQKuqqjrLXltAW7AFi8ZSW0D6pE9aSUdbQImIiAh4OltAx3Ecl5gtW0BVVVXFVyBbQERERBSkE1tAUPqkf3QIW0AAAABAFf9aQJ/0ST/b9FpAjuM43u7qWkDpkz5ZA+JaQLZgCzay2FpAHMdxfLPOWkDkOI6jD8RaQFuwBWtQulpAmpmZibuwWkCf9El/+aZaQN7d3W3QnFpAmpmZebWSWkAAAABQwIZaQBEREVG/e1pAgy3YovdxWkB3d3c3g2haQEqf9Pm6X1pAHMdxTKJWWkA/6ZOeUE5aQBzHcSwDRlpAvLu7u4U9WkBhC7ZQhzVaQHd3d/ecL1pAgy3YMlcrWkCf9EkfzSdaQBdswYYzJFpAq6qqKmUhWkAiIiKCix5aQJ/0Sf/VHFpAtmALVoobWkBVVVWFqBpaQDMzMzOsG1pAAAAAcCYdWkB90ict4B5aQC7Ygl3qIFpAZmZmprwhWkCf9EnPIiFaQERERCQoH1pAMzMzIzwcWkA5juNIXBpaQD/pk85/F1pAERERIe4UWkCJiIi4ORFaQBdswSYHDlpA6ZM+qVoLWkCf9ElPXAhaQBzHccymBlpAlD7p8/8DWkAu2IKtYv9ZQAAAAPAu+VlA2IItOCn0WUCamZl5g+9ZQJqZmQmh6llA3t3dLbTmWUC2YAt2xuFZQHd3d6dq3FlA5DiOg3vXWUBbsAWb/dRZQD/pk87G0VlAF2zBViPOWUBERETEt8tZQKuqqkoUyFlAIiIi4l/EWUARERHx7L9ZQGELtpA2vVlAKH3SRye6WUAofdI3NLdZQLy7u0sftFlA5DiOY3GxWUAGW7CVAa9ZQJQ+6aOSrVlA9Umf9HasWUDe3d2NRaxZQAAAAPDfq1lA+qRP+i6sWUBhC7bw96tZQKuqqrohrVlAERERUc+tWUD6pE/aXa5ZQAu2YGsurVlAYQu2AH6sWUDBFmxxzqxZQM3MzEwgrVlA9UmfVIetWUCf9ElPt61ZQFuwBWtTr1lAwRZswQuxWUAGW7AVxLJZQIMt2EL+tFlAAAAAUOS1WUDkOI5j9LRZQD/pk55JtFlAF2zBBtWyWUD6pE9a8rBZQJQ+6cO2rllAmpmZCc2sWUAGW7DVoatZQAu2YMvcqVlAlD7pAyWnWUDpkz7JHKRZQFD6pA8zollAiYiIqBWfWUA/6ZOeoZxZQMEWbDEdmVlAOY7jGLaTWUCamZlpE4xZQFVVVRUyhVlA9UmfpCp+WUAAAADgGXZZQImIiLinbVlARERE1PFkWUAzMzMTyVxZQGELtoAwUllAd3d3V3RFWUDpkz7ZFzdZQO/u7g5fKVlAKH3SJ7AbWUC2YAsm2w1ZQH3SJ21i/1hAzczM/DHzWEA5juNYxutYQD/pk76p5FhAERERkUbdWEBhC7ZQ69ZYQC7Ygi2G0FhAfdInnSrIWEAiIiJih8FYQBEREbE5vFhA9UmfhIm4WEBVVVWltLRYQH3SJ11UslhAwRZs4T6wWEDNzMw8q65YQJqZmUk8rVhAYQu2UC2sWEAiIiJC7axYQKVP+sR9rFhAq6qq6lCuWEBmZmYWAbJYQERERNT3tVhAq6qquvq6WEAXbMHW9L1YQBdswXYuwVhAC7ZgazTDWEAofdI3uMJYQHIcx0F9xFhA+qRPmgXGWEBKn/RpIMZYQFVVVRWlxlhAREREBCzIWECO4zhuGctYQC7Ygu07z1hAbMEWLMPSWEAiIiICENdYQKuqqorz2VhAfdInPcvdWECwBVtgROFYQM3MzOz341hAfdInLZPkWEB90idt3eVYQGZmZhZ65lhABluwxZXnWEBEREREBehYQBEREbFk6VhAKH3Sp8TpWED6pE96PetYQKuqqhpz61hA0id9oknsWEDNzMzsG+1YQGELtgCK7VhAF2zB1uruWEDSJ32CHvBYQFD6pO998VhAF2zBluHyWEBVVVWlXvRYQOmTPjkk9VhAbMEWvEv1WEAiIiLy6PRYQH3SJ41B81hA2IItCN3wWEAzMzMTTfBYQGZmZnbP71hALtiCDVjuWEARERExqOxYQJQ+6UPM6FhAYQu2QL/mWEBswRYcJeRYQC7Ygt3a4lhAvLu7a57fWECf9EkPCdxYQMEWbIGm2FhAYQu2EFLVWEBhC7YQLdNYQHIcx4HO0lhAC7ZgmwzTWEC2YAtmW9ZYQAAAABAd2VhAMzMzw2bbWEClT/q0S95YQDMzM9NF4VhAq6qqitXkWEBKn/Tp6ehYQKuqqppP7lhAYQu2oJP1WEBERES0Xv1YQPVJn+RjBFlApU/6VH0JWUAu2IJ9HBBZQDmO4/iMFllAvLu7O2kaWUCJiIiIlRpZQPqkTypRGVlAHMdxzIgaWUDHcRw3TxxZQDMzM2PDHVlAKH3SB2UgWUC8u7sLPyJZQOQ4jpMpJFlA+qRPyj8lWUByHMcRjyVZQIMt2OLpJFlAZmZmVockWUDBFmxBwiNZQM3MzAziIllAYQu2kDkhWUAGW7BVMCBZQFVVVfXsHllAOY7jOAccWUBVVVVlWhpZQLAFW6D4F1lAsAVbYI4UWUB3d3c3bRJZQJQ+6UMaEFlAC7Zg++MNWUDNzMyMnQ1ZQH3SJw1bC1lA5DiO44YJWUDSJ32SmwdZQImIiPiPBVlA6ZM+GR8DWUB3d3d3Ef5YQFVVVTVa+VhAERERYZP2WECf9EkPx/NYQCIiIpIW8VhAYQu2gDHuWEDYgi3YsOxYQPqkT8q67FhAP+mTbprtWEC8u7v7n+5YQDmO47gT71hAchzHId3vWEBbsAV7RfBYQJ/0Sf+M71hA0id9QuruWEDBFmyBl+5YQJ/0ST9J71hAAAAAcHvwWEA5juO4ffFYQMEWbHH68lhAKH3SN9fzWEAzMzOTYfVYQEqf9Dlw9lhAiYiI+IP2WEBEREQEq/ZYQMEWbCEH+FhAsAVbkE36WECwBVsgAfxYQImIiLh3/lhAUPqkfw0BWUD6pE8KpQBZQFD6pJ/SAFlAn/RJ7+UAWUD6pE96gv9YQLy7u4sUAVlApU/6dEIBWUC8u7v7BwJZQAZbsHX7AVlA7+7uHq4FWUBswRYM1QpZQAZbsOVxD1lAZmZmxssUWUD6pE8qAhlZQLZgC+YJG1lAC7ZgW1ccWUAofdLH7BxZQHd3dyeSH1lAvLu7uy8iWUC8u7vLeCRZQGELtgBkJ1lAERER0S4rWUBhC7aQiS5ZQFD6pN8JMllAYQu2sO41WUBQ+qSfyzpZQC7Ygn27QFlAHMdxnC1KWUA5juMISlJZQAZbsKUuW1lAx3Ecx3tkWUARERHx3mtZQGzBFgyVc1lAOY7j6E96WUAcx3FsqoBZQNiCLShzh1lAP+mTXrmOWUAXbMGWBJZZQAu2YPtnnllALtiCvbKnWUDHcRw38K9ZQNInfUIduVlAx3Ect5DCWUDv7u5+q8tZQN7d3X2y1VlAgy3Y4nTgWUCDLdiCw+lZQDmO41iS8llA0id9Apb7WUAiIiJSpgJaQHd3dwedClpA5DiOo4kTWkCrqqp6qBxaQImIiPiOJVpAtmALNj0vWkCamZn5IzlaQJ/0Sa/hQ1pAd3d3N0hOWkCUPuljZ1haQM3MzGwTYlpAd3d35+tsWkA/6ZM+/XVaQHIcxwGRfVpAd3d39wGFWkD1SZ8EfYtaQERERARRk1pA6ZM+CRaaWkBVVVUVg6FaQIMt2NLRqFpAAAAA4KKwWkCf9En/4rdaQLAFWyAwwFpAOY7jSCzIWkAGW7AFvNBaQFD6pC+P2VpA3t3dXUPiWkD1SZ8UI+paQIMt2PLO8VpA6ZM+idz4WkAiIiIiof9aQCh90genBVtAvLu7q68LW0Dpkz55URJbQEqf9BnfGFtAfdInLckfW0Acx3EMHiZbQPqkT2pqKVtAgy3Y0nsrW0C2YAt2fi5bQLy7u8uFMVtA3t3d7eI1W0B90idd+DhbQAu2YNuOPFtA6ZM+6eM/W0DNzMy8B0RbQHd3d1f0R1tAVVVVpXhMW0AGW7DFEFFbQFVVVVWEVFtAzczMbFpWW0AXbMG2O1hbQAu2YOtlXFtAIiIiUo1gW0CDLdiyBGVbQLZgC1YEaltApU/6xHhuW0ALtmCL3HFbQC7Ygm3Gc1tA6ZM+mWp1W0ByHMexK3ZbQJ/0Sd90dltALtiCPQd1W0D6pE+KqnNbQBEREbFEcFtA7+7ujsprW0ByHMfxPWdbQBzHccxGYltAtmALxj9bW0Acx3FcXlRbQOmTPrm8TFtAbMEW/JlGW0BVVVXVhD9bQC7Ygq1UOVtAF2zBdncyW0CUPumjGilbQM3MzPw0H1tAx3Ec5/wTW0C2YAuGaQhbQBEREWE7+1pASp/0KbfrWkByHMcRRt5aQFVVVVWc0FpApU/6JDfEWkDYgi3YM7daQNiCLQjNqVpAP+mTjmGbWkCwBVtw0YxaQJ/0Sd/FflpAx3EcNzlwWkBERERUy2JaQFuwBbuHVFpAF2zBliZGWkARERFRjjdaQFVVVXVSKVpARERE5LcYWkAofdL34AhaQAAAAFDb+FlAq6qqCsnnWUCUPumD0NZZQOQ4jkOhxVlAmpmZWZ+zWUAGW7AlT6RZQKVP+pRilVlAERERkTuGWUAiIiLii3dZQH3SJw0HaFlAMzMzM6pbWUA5juP4TkxZQAAAANDkOllA9UmfRG0qWUC8u7tLLBpZQKuqqrqOC1lAq6qqOnT6WECJiIg4W+pYQDMzM+OF2lhA7+7uPm/LWEDBFmzB5LxYQAAAAFBsrlhAmpmZ2bKfWECrqqqKCpFYQBzHcZzyglhASp/0eUJ0WEByHMdR82RYQFVVVaVZVVhAUPqkzzVGWEC8u7srUjdYQMEWbOEoKlhAvLu7qw4eWEDpkz6ZZBNYQOQ4jpMFCVhAP+mTTsH9V0AiIiLCTPVXQGzBFlyV61dAzczMHDfkV0BQ+qRfRt5XQNiCLXho1ldAchzH4RPOV0Dpkz7JoMVXQJ/0SW8lv1dALtiCLYe5V0AAAABwzrNXQMdxHCcMrVdAzczM7HemV0C2YAs2tqBXQFuwBbuPm1dALtiCfY2XV0DBFmzBqJVXQO/u7i4GlFdASp/0qUOUV0CO4zjOdZZXQMEWbJHTl1dAfdInrXOdV0DYgi0o86FXQLAFW8ABo1dApU/6pCOmV0DSJ32iT6hXQJqZmZnUqVdA+qRP2lGrV0D6pE864a5XQJqZmckZs1dAwRZsseq2V0Cf9EnvtLtXQHIcxzGGvldAjuM4nqfCV0ClT/q0KcpXQI7jOF5o0VdAUPqkj7XZV0ARERERxeJXQOmTPhn97FdAW7AF60n5V0D1SZ8UcgZYQOQ4jjOLFFhAwRZskZkfWECrqqpKGy5YQEqf9PnBOlhAchzHUaVFWEB90ieNSFFYQPVJn8QtXlhAbMEWDDpsWEA/6ZP+mnpYQJQ+6UNaiVhAchzHQaiXWEC2YAtmcaVYQD/pk96es1hAfdInTTXCWEDe3d2tk9FYQJqZmTni4FhA0id90tXwWECUPumzjf9YQHIcxxG8DllAsAVbgAEgWUClT/pUATFZQPVJn7QcQ1lAjuM4DjVVWUD1SZ9EvWhZQN7d3X1OfVlA",
          "dtype": "f8"
         },
         "yaxis": "y"
        },
        {
         "hovertemplate": "ativo=ITSA4.SA<br>data=%{x}<br>média móvel=%{y}<extra></extra>",
         "legendgroup": "ITSA4.SA",
         "line": {
          "color": "#EF553B",
          "dash": "solid"
         },
         "marker": {
          "symbol": "circle"
         },
         "mode": "lines",
         "name": "ITSA4.SA",
         "showlegend": true,
         "type": "scattergl",
         "x": [
          "2021-01-04",
          "2021-01-05",
          "2021-01-06",
          "2021-01-07",
          "2021-01-08",
          "2021-01-11",
          "2021-01-12",
          "2021-01-13",
          "2021-01-14",
          "2021-01-15",
          "2021-01-18",
          "2021-01-19",
          "2021-01-20",
          "2021-01-21",
          "2021-01-22",
          "2021-01-26",
          "2021-01-27",
          "2021-01-28",
          "2021-01-29",
          "2021-02-01",
          "2021-02-02",
          "2021-02-03",
          "2021-02-04",
          "2021-02-05",
          "2021-02-08",
          "2021-02-09",
          "2021-02-10",
          "2021-02-11",
          "2021-02-12",
          "2021-02-17",
          "2021-02-18",
          "2021-02-19",
          "2021-02-22",
          "2021-02-23",
          "2021-02-24",
          "2021-02-25",
          "2021-02-26",
          "2021-03-01",
          "2021-03-02",
          "2021-03-03",
          "2021-03-04",
          "2021-03-05",
          "2021-03-08",
          "2021-03-09",
          "2021-03-10",
          "2021-03-11",
          "2021-03-12",
          "2021-03-15",
          "2021-03-16",
          "2021-03-17",
          "2021-03-18",
          "2021-03-19",
          "2021-03-22",
          "2021-03-23",
          "2021-03-24",
          "2021-03-25",
          "2021-03-26",
          "2021-03-29",
          "2021-03-30",
          "2021-03-31",
          "2021-04-01",
          "2021-04-05",
          "2021-04-06",
          "2021-04-07",
          "2021-04-08",
          "2021-04-09",
          "2021-04-12",
          "2021-04-13",
          "2021-04-14",
          "2021-04-15",
          "2021-04-16",
          "2021-04-19",
          "2021-04-20",
          "2021-04-22",
          "2021-04-23",
          "2021-04-26",
          "2021-04-27",
          "2021-04-28",
          "2021-04-29",
          "2021-04-30",
          "2021-05-03",
          "2021-05-04",
          "2021-05-05",
          "2021-05-06",
          "2021-05-07",
          "2021-05-10",
          "2021-05-11",
          "2021-05-12",
          "2021-05-13",
          "2021-05-14",
          "2021-05-17",
          "2021-05-18",
          "2021-05-19",
          "2021-05-20",
          "2021-05-21",
          "2021-05-24",
          "2021-05-25",
          "2021-05-26",
          "2021-05-27",
          "2021-05-28",
          "2021-05-31",
          "2021-06-01",
          "2021-06-02",
          "2021-06-04",
          "2021-06-07",
          "2021-06-08",
          "2021-06-09",
          "2021-06-10",
          "2021-06-11",
          "2021-06-14",
          "2021-06-15",
          "2021-06-16",
          "2021-06-17",
          "2021-06-18",
          "2021-06-21",
          "2021-06-22",
          "2021-06-23",
          "2021-06-24",
          "2021-06-25",
          "2021-06-28",
          "2021-06-29",
          "2021-06-30",
          "2021-07-01",
          "2021-07-02",
          "2021-07-05",
          "2021-07-06",
          "2021-07-07",
          "2021-07-08",
          "2021-07-12",
          "2021-07-13",
          "2021-07-14",
          "2021-07-15",
          "2021-07-16",
          "2021-07-19",
          "2021-07-20",
          "2021-07-21",
          "2021-07-22",
          "2021-07-23",
          "2021-07-26",
          "2021-07-27",
          "2021-07-28",
          "2021-07-29",
          "2021-07-30",
          "2021-08-02",
          "2021-08-03",
          "2021-08-04",
          "2021-08-05",
          "2021-08-06",
          "2021-08-09",
          "2021-08-10",
          "2021-08-11",
          "2021-08-12",
          "2021-08-13",
          "2021-08-16",
          "2021-08-17",
          "2021-08-18",
          "2021-08-19",
          "2021-08-20",
          "2021-08-23",
          "2021-08-24",
          "2021-08-25",
          "2021-08-26",
          "2021-08-27",
          "2021-08-30",
          "2021-08-31",
          "2021-09-01",
          "2021-09-02",
          "2021-09-03",
          "2021-09-06",
          "2021-09-08",
          "2021-09-09",
          "2021-09-10",
          "2021-09-13",
          "2021-09-14",
          "2021-09-15",
          "2021-09-16",
          "2021-09-17",
          "2021-09-20",
          "2021-09-21",
          "2021-09-22",
          "2021-09-23",
          "2021-09-24",
          "2021-09-27",
          "2021-09-28",
          "2021-09-29",
          "2021-09-30",
          "2021-10-01",
          "2021-10-04",
          "2021-10-05",
          "2021-10-06",
          "2021-10-07",
          "2021-10-08",
          "2021-10-11",
          "2021-10-13",
          "2021-10-14",
          "2021-10-15",
          "2021-10-18",
          "2021-10-19",
          "2021-10-20",
          "2021-10-21",
          "2021-10-22",
          "2021-10-25",
          "2021-10-26",
          "2021-10-27",
          "2021-10-28",
          "2021-10-29",
          "2021-11-01",
          "2021-11-03",
          "2021-11-04",
          "2021-11-05",
          "2021-11-08",
          "2021-11-09",
          "2021-11-10",
          "2021-11-11",
          "2021-11-12",
          "2021-11-16",
          "2021-11-17",
          "2021-11-18",
          "2021-11-19",
          "2021-11-22",
          "2021-11-23",
          "2021-11-24",
          "2021-11-25",
          "2021-11-26",
          "2021-11-29",
          "2021-11-30",
          "2021-12-01",
          "2021-12-02",
          "2021-12-03",
          "2021-12-06",
          "2021-12-07",
          "2021-12-08",
          "2021-12-09",
          "2021-12-10",
          "2021-12-13",
          "2021-12-14",
          "2021-12-15",
          "2021-12-16",
          "2021-12-17",
          "2021-12-20",
          "2021-12-21",
          "2021-12-22",
          "2021-12-23",
          "2021-12-27",
          "2021-12-28",
          "2021-12-29",
          "2021-12-30",
          "2022-01-03",
          "2022-01-04",
          "2022-01-05",
          "2022-01-06",
          "2022-01-07",
          "2022-01-10",
          "2022-01-11",
          "2022-01-12",
          "2022-01-13",
          "2022-01-14",
          "2022-01-17",
          "2022-01-18",
          "2022-01-19",
          "2022-01-20",
          "2022-01-21",
          "2022-01-24",
          "2022-01-25",
          "2022-01-26",
          "2022-01-27",
          "2022-01-28",
          "2022-01-31",
          "2022-02-01",
          "2022-02-02",
          "2022-02-03",
          "2022-02-04",
          "2022-02-07",
          "2022-02-08",
          "2022-02-09",
          "2022-02-10",
          "2022-02-11",
          "2022-02-14",
          "2022-02-15",
          "2022-02-16",
          "2022-02-17",
          "2022-02-18",
          "2022-02-21",
          "2022-02-22",
          "2022-02-23",
          "2022-02-24",
          "2022-02-25",
          "2022-03-02",
          "2022-03-03",
          "2022-03-04",
          "2022-03-07",
          "2022-03-08",
          "2022-03-09",
          "2022-03-10",
          "2022-03-11",
          "2022-03-14",
          "2022-03-15",
          "2022-03-16",
          "2022-03-17",
          "2022-03-18",
          "2022-03-21",
          "2022-03-22",
          "2022-03-23",
          "2022-03-24",
          "2022-03-25",
          "2022-03-28",
          "2022-03-29",
          "2022-03-30",
          "2022-03-31",
          "2022-04-01",
          "2022-04-04",
          "2022-04-05",
          "2022-04-06",
          "2022-04-07",
          "2022-04-08",
          "2022-04-11",
          "2022-04-12",
          "2022-04-13",
          "2022-04-14",
          "2022-04-18",
          "2022-04-19",
          "2022-04-20",
          "2022-04-22",
          "2022-04-25",
          "2022-04-26",
          "2022-04-27",
          "2022-04-28",
          "2022-04-29",
          "2022-05-02",
          "2022-05-03",
          "2022-05-04",
          "2022-05-05",
          "2022-05-06",
          "2022-05-09",
          "2022-05-10",
          "2022-05-11",
          "2022-05-12",
          "2022-05-13",
          "2022-05-16",
          "2022-05-17",
          "2022-05-18",
          "2022-05-19",
          "2022-05-20",
          "2022-05-23",
          "2022-05-24",
          "2022-05-25",
          "2022-05-26",
          "2022-05-27",
          "2022-05-30",
          "2022-05-31",
          "2022-06-01",
          "2022-06-02",
          "2022-06-03",
          "2022-06-06",
          "2022-06-07",
          "2022-06-08",
          "2022-06-09",
          "2022-06-10",
          "2022-06-13",
          "2022-06-14",
          "2022-06-15",
          "2022-06-17",
          "2022-06-20",
          "2022-06-21",
          "2022-06-22",
          "2022-06-23",
          "2022-06-24",
          "2022-06-27",
          "2022-06-28",
          "2022-06-29",
          "2022-06-30",
          "2022-07-01",
          "2022-07-04",
          "2022-07-05",
          "2022-07-06",
          "2022-07-07",
          "2022-07-08",
          "2022-07-11",
          "2022-07-12",
          "2022-07-13",
          "2022-07-14",
          "2022-07-15",
          "2022-07-18",
          "2022-07-19",
          "2022-07-20",
          "2022-07-21",
          "2022-07-22",
          "2022-07-25",
          "2022-07-26",
          "2022-07-27",
          "2022-07-28",
          "2022-07-29",
          "2022-08-01",
          "2022-08-02",
          "2022-08-03",
          "2022-08-04",
          "2022-08-05",
          "2022-08-08",
          "2022-08-09",
          "2022-08-10",
          "2022-08-11",
          "2022-08-12",
          "2022-08-15",
          "2022-08-16",
          "2022-08-17",
          "2022-08-18",
          "2022-08-19",
          "2022-08-22",
          "2022-08-23",
          "2022-08-24",
          "2022-08-25",
          "2022-08-26",
          "2022-08-29",
          "2022-08-30",
          "2022-08-31",
          "2022-09-01",
          "2022-09-02",
          "2022-09-05",
          "2022-09-06",
          "2022-09-08",
          "2022-09-09",
          "2022-09-12",
          "2022-09-13",
          "2022-09-14",
          "2022-09-15",
          "2022-09-16",
          "2022-09-19",
          "2022-09-20",
          "2022-09-21",
          "2022-09-22",
          "2022-09-23",
          "2022-09-26",
          "2022-09-27",
          "2022-09-28",
          "2022-09-29",
          "2022-09-30",
          "2022-10-03",
          "2022-10-04",
          "2022-10-05",
          "2022-10-06",
          "2022-10-07",
          "2022-10-10",
          "2022-10-11",
          "2022-10-13",
          "2022-10-14",
          "2022-10-17",
          "2022-10-18",
          "2022-10-19",
          "2022-10-20",
          "2022-10-21",
          "2022-10-24",
          "2022-10-25",
          "2022-10-26",
          "2022-10-27",
          "2022-10-28",
          "2022-10-31",
          "2022-11-01",
          "2022-11-03",
          "2022-11-04",
          "2022-11-07",
          "2022-11-08",
          "2022-11-09",
          "2022-11-10",
          "2022-11-11",
          "2022-11-14",
          "2022-11-16",
          "2022-11-17",
          "2022-11-18",
          "2022-11-21",
          "2022-11-22",
          "2022-11-23",
          "2022-11-24",
          "2022-11-25",
          "2022-11-28",
          "2022-11-29",
          "2022-11-30",
          "2022-12-01",
          "2022-12-02",
          "2022-12-05",
          "2022-12-06",
          "2022-12-07",
          "2022-12-08",
          "2022-12-09",
          "2022-12-12",
          "2022-12-13",
          "2022-12-14",
          "2022-12-15",
          "2022-12-16",
          "2022-12-19",
          "2022-12-20",
          "2022-12-21",
          "2022-12-22",
          "2022-12-23",
          "2022-12-26",
          "2022-12-27",
          "2022-12-28",
          "2022-12-29",
          "2023-01-02",
          "2023-01-03",
          "2023-01-04",
          "2023-01-05",
          "2023-01-06",
          "2023-01-09",
          "2023-01-10",
          "2023-01-11",
          "2023-01-12",
          "2023-01-13",
          "2023-01-16",
          "2023-01-17",
          "2023-01-18",
          "2023-01-19",
          "2023-01-20",
          "2023-01-23",
          "2023-01-24",
          "2023-01-25",
          "2023-01-26",
          "2023-01-27",
          "2023-01-30",
          "2023-01-31",
          "2023-02-01",
          "2023-02-02",
          "2023-02-03",
          "2023-02-06",
          "2023-02-07",
          "2023-02-08",
          "2023-02-09",
          "2023-02-10",
          "2023-02-13",
          "2023-02-14",
          "2023-02-15",
          "2023-02-16",
          "2023-02-17",
          "2023-02-22",
          "2023-02-23",
          "2023-02-24",
          "2023-02-27",
          "2023-02-28",
          "2023-03-01",
          "2023-03-02",
          "2023-03-03",
          "2023-03-06",
          "2023-03-07",
          "2023-03-08",
          "2023-03-09",
          "2023-03-10",
          "2023-03-13",
          "2023-03-14",
          "2023-03-15",
          "2023-03-16",
          "2023-03-17",
          "2023-03-20",
          "2023-03-21",
          "2023-03-22",
          "2023-03-23",
          "2023-03-24",
          "2023-03-27",
          "2023-03-28",
          "2023-03-29",
          "2023-03-30",
          "2023-03-31",
          "2023-04-03",
          "2023-04-04",
          "2023-04-05",
          "2023-04-06",
          "2023-04-10",
          "2023-04-11",
          "2023-04-12",
          "2023-04-13",
          "2023-04-14",
          "2023-04-17",
          "2023-04-18",
          "2023-04-19",
          "2023-04-20",
          "2023-04-24",
          "2023-04-25",
          "2023-04-26",
          "2023-04-27",
          "2023-04-28",
          "2023-05-02",
          "2023-05-03",
          "2023-05-04",
          "2023-05-05",
          "2023-05-08",
          "2023-05-09",
          "2023-05-10",
          "2023-05-11",
          "2023-05-12",
          "2023-05-15",
          "2023-05-16",
          "2023-05-17",
          "2023-05-18",
          "2023-05-19",
          "2023-05-22",
          "2023-05-23",
          "2023-05-24",
          "2023-05-25",
          "2023-05-26",
          "2023-05-29",
          "2023-05-30",
          "2023-05-31",
          "2023-06-01",
          "2023-06-02",
          "2023-06-05",
          "2023-06-06",
          "2023-06-07",
          "2023-06-09",
          "2023-06-12",
          "2023-06-13",
          "2023-06-14",
          "2023-06-15",
          "2023-06-16",
          "2023-06-19",
          "2023-06-20",
          "2023-06-21",
          "2023-06-22",
          "2023-06-23",
          "2023-06-26",
          "2023-06-27",
          "2023-06-28",
          "2023-06-29",
          "2023-06-30"
         ],
         "xaxis": "x",
         "y": {
          "bdata": "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",
          "dtype": "f8"
         },
         "yaxis": "y"
        },
        {
         "hovertemplate": "ativo=WEGE3.SA<br>data=%{x}<br>média móvel=%{y}<extra></extra>",
         "legendgroup": "WEGE3.SA",
         "line": {
          "color": "#00cc96",
          "dash": "solid"
         },
         "marker": {
          "symbol": "circle"
         },
         "mode": "lines",
         "name": "WEGE3.SA",
         "showlegend": true,
         "type": "scattergl",
         "x": [
          "2021-01-04",
          "2021-01-05",
          "2021-01-06",
          "2021-01-07",
          "2021-01-08",
          "2021-01-11",
          "2021-01-12",
          "2021-01-13",
          "2021-01-14",
          "2021-01-15",
          "2021-01-18",
          "2021-01-19",
          "2021-01-20",
          "2021-01-21",
          "2021-01-22",
          "2021-01-26",
          "2021-01-27",
          "2021-01-28",
          "2021-01-29",
          "2021-02-01",
          "2021-02-02",
          "2021-02-03",
          "2021-02-04",
          "2021-02-05",
          "2021-02-08",
          "2021-02-09",
          "2021-02-10",
          "2021-02-11",
          "2021-02-12",
          "2021-02-17",
          "2021-02-18",
          "2021-02-19",
          "2021-02-22",
          "2021-02-23",
          "2021-02-24",
          "2021-02-25",
          "2021-02-26",
          "2021-03-01",
          "2021-03-02",
          "2021-03-03",
          "2021-03-04",
          "2021-03-05",
          "2021-03-08",
          "2021-03-09",
          "2021-03-10",
          "2021-03-11",
          "2021-03-12",
          "2021-03-15",
          "2021-03-16",
          "2021-03-17",
          "2021-03-18",
          "2021-03-19",
          "2021-03-22",
          "2021-03-23",
          "2021-03-24",
          "2021-03-25",
          "2021-03-26",
          "2021-03-29",
          "2021-03-30",
          "2021-03-31",
          "2021-04-01",
          "2021-04-05",
          "2021-04-06",
          "2021-04-07",
          "2021-04-08",
          "2021-04-09",
          "2021-04-12",
          "2021-04-13",
          "2021-04-14",
          "2021-04-15",
          "2021-04-16",
          "2021-04-19",
          "2021-04-20",
          "2021-04-22",
          "2021-04-23",
          "2021-04-26",
          "2021-04-27",
          "2021-04-28",
          "2021-04-29",
          "2021-04-30",
          "2021-05-03",
          "2021-05-04",
          "2021-05-05",
          "2021-05-06",
          "2021-05-07",
          "2021-05-10",
          "2021-05-11",
          "2021-05-12",
          "2021-05-13",
          "2021-05-14",
          "2021-05-17",
          "2021-05-18",
          "2021-05-19",
          "2021-05-20",
          "2021-05-21",
          "2021-05-24",
          "2021-05-25",
          "2021-05-26",
          "2021-05-27",
          "2021-05-28",
          "2021-05-31",
          "2021-06-01",
          "2021-06-02",
          "2021-06-04",
          "2021-06-07",
          "2021-06-08",
          "2021-06-09",
          "2021-06-10",
          "2021-06-11",
          "2021-06-14",
          "2021-06-15",
          "2021-06-16",
          "2021-06-17",
          "2021-06-18",
          "2021-06-21",
          "2021-06-22",
          "2021-06-23",
          "2021-06-24",
          "2021-06-25",
          "2021-06-28",
          "2021-06-29",
          "2021-06-30",
          "2021-07-01",
          "2021-07-02",
          "2021-07-05",
          "2021-07-06",
          "2021-07-07",
          "2021-07-08",
          "2021-07-12",
          "2021-07-13",
          "2021-07-14",
          "2021-07-15",
          "2021-07-16",
          "2021-07-19",
          "2021-07-20",
          "2021-07-21",
          "2021-07-22",
          "2021-07-23",
          "2021-07-26",
          "2021-07-27",
          "2021-07-28",
          "2021-07-29",
          "2021-07-30",
          "2021-08-02",
          "2021-08-03",
          "2021-08-04",
          "2021-08-05",
          "2021-08-06",
          "2021-08-09",
          "2021-08-10",
          "2021-08-11",
          "2021-08-12",
          "2021-08-13",
          "2021-08-16",
          "2021-08-17",
          "2021-08-18",
          "2021-08-19",
          "2021-08-20",
          "2021-08-23",
          "2021-08-24",
          "2021-08-25",
          "2021-08-26",
          "2021-08-27",
          "2021-08-30",
          "2021-08-31",
          "2021-09-01",
          "2021-09-02",
          "2021-09-03",
          "2021-09-06",
          "2021-09-08",
          "2021-09-09",
          "2021-09-10",
          "2021-09-13",
          "2021-09-14",
          "2021-09-15",
          "2021-09-16",
          "2021-09-17",
          "2021-09-20",
          "2021-09-21",
          "2021-09-22",
          "2021-09-23",
          "2021-09-24",
          "2021-09-27",
          "2021-09-28",
          "2021-09-29",
          "2021-09-30",
          "2021-10-01",
          "2021-10-04",
          "2021-10-05",
          "2021-10-06",
          "2021-10-07",
          "2021-10-08",
          "2021-10-11",
          "2021-10-13",
          "2021-10-14",
          "2021-10-15",
          "2021-10-18",
          "2021-10-19",
          "2021-10-20",
          "2021-10-21",
          "2021-10-22",
          "2021-10-25",
          "2021-10-26",
          "2021-10-27",
          "2021-10-28",
          "2021-10-29",
          "2021-11-01",
          "2021-11-03",
          "2021-11-04",
          "2021-11-05",
          "2021-11-08",
          "2021-11-09",
          "2021-11-10",
          "2021-11-11",
          "2021-11-12",
          "2021-11-16",
          "2021-11-17",
          "2021-11-18",
          "2021-11-19",
          "2021-11-22",
          "2021-11-23",
          "2021-11-24",
          "2021-11-25",
          "2021-11-26",
          "2021-11-29",
          "2021-11-30",
          "2021-12-01",
          "2021-12-02",
          "2021-12-03",
          "2021-12-06",
          "2021-12-07",
          "2021-12-08",
          "2021-12-09",
          "2021-12-10",
          "2021-12-13",
          "2021-12-14",
          "2021-12-15",
          "2021-12-16",
          "2021-12-17",
          "2021-12-20",
          "2021-12-21",
          "2021-12-22",
          "2021-12-23",
          "2021-12-27",
          "2021-12-28",
          "2021-12-29",
          "2021-12-30",
          "2022-01-03",
          "2022-01-04",
          "2022-01-05",
          "2022-01-06",
          "2022-01-07",
          "2022-01-10",
          "2022-01-11",
          "2022-01-12",
          "2022-01-13",
          "2022-01-14",
          "2022-01-17",
          "2022-01-18",
          "2022-01-19",
          "2022-01-20",
          "2022-01-21",
          "2022-01-24",
          "2022-01-25",
          "2022-01-26",
          "2022-01-27",
          "2022-01-28",
          "2022-01-31",
          "2022-02-01",
          "2022-02-02",
          "2022-02-03",
          "2022-02-04",
          "2022-02-07",
          "2022-02-08",
          "2022-02-09",
          "2022-02-10",
          "2022-02-11",
          "2022-02-14",
          "2022-02-15",
          "2022-02-16",
          "2022-02-17",
          "2022-02-18",
          "2022-02-21",
          "2022-02-22",
          "2022-02-23",
          "2022-02-24",
          "2022-02-25",
          "2022-03-02",
          "2022-03-03",
          "2022-03-04",
          "2022-03-07",
          "2022-03-08",
          "2022-03-09",
          "2022-03-10",
          "2022-03-11",
          "2022-03-14",
          "2022-03-15",
          "2022-03-16",
          "2022-03-17",
          "2022-03-18",
          "2022-03-21",
          "2022-03-22",
          "2022-03-23",
          "2022-03-24",
          "2022-03-25",
          "2022-03-28",
          "2022-03-29",
          "2022-03-30",
          "2022-03-31",
          "2022-04-01",
          "2022-04-04",
          "2022-04-05",
          "2022-04-06",
          "2022-04-07",
          "2022-04-08",
          "2022-04-11",
          "2022-04-12",
          "2022-04-13",
          "2022-04-14",
          "2022-04-18",
          "2022-04-19",
          "2022-04-20",
          "2022-04-22",
          "2022-04-25",
          "2022-04-26",
          "2022-04-27",
          "2022-04-28",
          "2022-04-29",
          "2022-05-02",
          "2022-05-03",
          "2022-05-04",
          "2022-05-05",
          "2022-05-06",
          "2022-05-09",
          "2022-05-10",
          "2022-05-11",
          "2022-05-12",
          "2022-05-13",
          "2022-05-16",
          "2022-05-17",
          "2022-05-18",
          "2022-05-19",
          "2022-05-20",
          "2022-05-23",
          "2022-05-24",
          "2022-05-25",
          "2022-05-26",
          "2022-05-27",
          "2022-05-30",
          "2022-05-31",
          "2022-06-01",
          "2022-06-02",
          "2022-06-03",
          "2022-06-06",
          "2022-06-07",
          "2022-06-08",
          "2022-06-09",
          "2022-06-10",
          "2022-06-13",
          "2022-06-14",
          "2022-06-15",
          "2022-06-17",
          "2022-06-20",
          "2022-06-21",
          "2022-06-22",
          "2022-06-23",
          "2022-06-24",
          "2022-06-27",
          "2022-06-28",
          "2022-06-29",
          "2022-06-30",
          "2022-07-01",
          "2022-07-04",
          "2022-07-05",
          "2022-07-06",
          "2022-07-07",
          "2022-07-08",
          "2022-07-11",
          "2022-07-12",
          "2022-07-13",
          "2022-07-14",
          "2022-07-15",
          "2022-07-18",
          "2022-07-19",
          "2022-07-20",
          "2022-07-21",
          "2022-07-22",
          "2022-07-25",
          "2022-07-26",
          "2022-07-27",
          "2022-07-28",
          "2022-07-29",
          "2022-08-01",
          "2022-08-02",
          "2022-08-03",
          "2022-08-04",
          "2022-08-05",
          "2022-08-08",
          "2022-08-09",
          "2022-08-10",
          "2022-08-11",
          "2022-08-12",
          "2022-08-15",
          "2022-08-16",
          "2022-08-17",
          "2022-08-18",
          "2022-08-19",
          "2022-08-22",
          "2022-08-23",
          "2022-08-24",
          "2022-08-25",
          "2022-08-26",
          "2022-08-29",
          "2022-08-30",
          "2022-08-31",
          "2022-09-01",
          "2022-09-02",
          "2022-09-05",
          "2022-09-06",
          "2022-09-08",
          "2022-09-09",
          "2022-09-12",
          "2022-09-13",
          "2022-09-14",
          "2022-09-15",
          "2022-09-16",
          "2022-09-19",
          "2022-09-20",
          "2022-09-21",
          "2022-09-22",
          "2022-09-23",
          "2022-09-26",
          "2022-09-27",
          "2022-09-28",
          "2022-09-29",
          "2022-09-30",
          "2022-10-03",
          "2022-10-04",
          "2022-10-05",
          "2022-10-06",
          "2022-10-07",
          "2022-10-10",
          "2022-10-11",
          "2022-10-13",
          "2022-10-14",
          "2022-10-17",
          "2022-10-18",
          "2022-10-19",
          "2022-10-20",
          "2022-10-21",
          "2022-10-24",
          "2022-10-25",
          "2022-10-26",
          "2022-10-27",
          "2022-10-28",
          "2022-10-31",
          "2022-11-01",
          "2022-11-03",
          "2022-11-04",
          "2022-11-07",
          "2022-11-08",
          "2022-11-09",
          "2022-11-10",
          "2022-11-11",
          "2022-11-14",
          "2022-11-16",
          "2022-11-17",
          "2022-11-18",
          "2022-11-21",
          "2022-11-22",
          "2022-11-23",
          "2022-11-24",
          "2022-11-25",
          "2022-11-28",
          "2022-11-29",
          "2022-11-30",
          "2022-12-01",
          "2022-12-02",
          "2022-12-05",
          "2022-12-06",
          "2022-12-07",
          "2022-12-08",
          "2022-12-09",
          "2022-12-12",
          "2022-12-13",
          "2022-12-14",
          "2022-12-15",
          "2022-12-16",
          "2022-12-19",
          "2022-12-20",
          "2022-12-21",
          "2022-12-22",
          "2022-12-23",
          "2022-12-26",
          "2022-12-27",
          "2022-12-28",
          "2022-12-29",
          "2023-01-02",
          "2023-01-03",
          "2023-01-04",
          "2023-01-05",
          "2023-01-06",
          "2023-01-09",
          "2023-01-10",
          "2023-01-11",
          "2023-01-12",
          "2023-01-13",
          "2023-01-16",
          "2023-01-17",
          "2023-01-18",
          "2023-01-19",
          "2023-01-20",
          "2023-01-23",
          "2023-01-24",
          "2023-01-25",
          "2023-01-26",
          "2023-01-27",
          "2023-01-30",
          "2023-01-31",
          "2023-02-01",
          "2023-02-02",
          "2023-02-03",
          "2023-02-06",
          "2023-02-07",
          "2023-02-08",
          "2023-02-09",
          "2023-02-10",
          "2023-02-13",
          "2023-02-14",
          "2023-02-15",
          "2023-02-16",
          "2023-02-17",
          "2023-02-22",
          "2023-02-23",
          "2023-02-24",
          "2023-02-27",
          "2023-02-28",
          "2023-03-01",
          "2023-03-02",
          "2023-03-03",
          "2023-03-06",
          "2023-03-07",
          "2023-03-08",
          "2023-03-09",
          "2023-03-10",
          "2023-03-13",
          "2023-03-14",
          "2023-03-15",
          "2023-03-16",
          "2023-03-17",
          "2023-03-20",
          "2023-03-21",
          "2023-03-22",
          "2023-03-23",
          "2023-03-24",
          "2023-03-27",
          "2023-03-28",
          "2023-03-29",
          "2023-03-30",
          "2023-03-31",
          "2023-04-03",
          "2023-04-04",
          "2023-04-05",
          "2023-04-06",
          "2023-04-10",
          "2023-04-11",
          "2023-04-12",
          "2023-04-13",
          "2023-04-14",
          "2023-04-17",
          "2023-04-18",
          "2023-04-19",
          "2023-04-20",
          "2023-04-24",
          "2023-04-25",
          "2023-04-26",
          "2023-04-27",
          "2023-04-28",
          "2023-05-02",
          "2023-05-03",
          "2023-05-04",
          "2023-05-05",
          "2023-05-08",
          "2023-05-09",
          "2023-05-10",
          "2023-05-11",
          "2023-05-12",
          "2023-05-15",
          "2023-05-16",
          "2023-05-17",
          "2023-05-18",
          "2023-05-19",
          "2023-05-22",
          "2023-05-23",
          "2023-05-24",
          "2023-05-25",
          "2023-05-26",
          "2023-05-29",
          "2023-05-30",
          "2023-05-31",
          "2023-06-01",
          "2023-06-02",
          "2023-06-05",
          "2023-06-06",
          "2023-06-07",
          "2023-06-09",
          "2023-06-12",
          "2023-06-13",
          "2023-06-14",
          "2023-06-15",
          "2023-06-16",
          "2023-06-19",
          "2023-06-20",
          "2023-06-21",
          "2023-06-22",
          "2023-06-23",
          "2023-06-26",
          "2023-06-27",
          "2023-06-28",
          "2023-06-29",
          "2023-06-30"
         ],
         "xaxis": "x",
         "y": {
          "bdata": "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",
          "dtype": "f8"
         },
         "yaxis": "y"
        }
       ],
       "layout": {
        "legend": {
         "title": {
          "text": "ativo"
         },
         "tracegroupgap": 0
        },
        "margin": {
         "t": 60
        },
        "template": {
         "data": {
          "bar": [
           {
            "error_x": {
             "color": "#f2f5fa"
            },
            "error_y": {
             "color": "#f2f5fa"
            },
            "marker": {
             "line": {
              "color": "rgb(17,17,17)",
              "width": 0.5
             },
             "pattern": {
              "fillmode": "overlay",
              "size": 10,
              "solidity": 0.2
             }
            },
            "type": "bar"
           }
          ],
          "barpolar": [
           {
            "marker": {
             "line": {
              "color": "rgb(17,17,17)",
              "width": 0.5
             },
             "pattern": {
              "fillmode": "overlay",
              "size": 10,
              "solidity": 0.2
             }
            },
            "type": "barpolar"
           }
          ],
          "carpet": [
           {
            "aaxis": {
             "endlinecolor": "#A2B1C6",
             "gridcolor": "#506784",
             "linecolor": "#506784",
             "minorgridcolor": "#506784",
             "startlinecolor": "#A2B1C6"
            },
            "baxis": {
             "endlinecolor": "#A2B1C6",
             "gridcolor": "#506784",
             "linecolor": "#506784",
             "minorgridcolor": "#506784",
             "startlinecolor": "#A2B1C6"
            },
            "type": "carpet"
           }
          ],
          "choropleth": [
           {
            "colorbar": {
             "outlinewidth": 0,
             "ticks": ""
            },
            "type": "choropleth"
           }
          ],
          "contour": [
           {
            "colorbar": {
             "outlinewidth": 0,
             "ticks": ""
            },
            "colorscale": [
             [
              0,
              "#0d0887"
             ],
             [
              0.1111111111111111,
              "#46039f"
             ],
             [
              0.2222222222222222,
              "#7201a8"
             ],
             [
              0.3333333333333333,
              "#9c179e"
             ],
             [
              0.4444444444444444,
              "#bd3786"
             ],
             [
              0.5555555555555556,
              "#d8576b"
             ],
             [
              0.6666666666666666,
              "#ed7953"
             ],
             [
              0.7777777777777778,
              "#fb9f3a"
             ],
             [
              0.8888888888888888,
              "#fdca26"
             ],
             [
              1,
              "#f0f921"
             ]
            ],
            "type": "contour"
           }
          ],
          "contourcarpet": [
           {
            "colorbar": {
             "outlinewidth": 0,
             "ticks": ""
            },
            "type": "contourcarpet"
           }
          ],
          "heatmap": [
           {
            "colorbar": {
             "outlinewidth": 0,
             "ticks": ""
            },
            "colorscale": [
             [
              0,
              "#0d0887"
             ],
             [
              0.1111111111111111,
              "#46039f"
             ],
             [
              0.2222222222222222,
              "#7201a8"
             ],
             [
              0.3333333333333333,
              "#9c179e"
             ],
             [
              0.4444444444444444,
              "#bd3786"
             ],
             [
              0.5555555555555556,
              "#d8576b"
             ],
             [
              0.6666666666666666,
              "#ed7953"
             ],
             [
              0.7777777777777778,
              "#fb9f3a"
             ],
             [
              0.8888888888888888,
              "#fdca26"
             ],
             [
              1,
              "#f0f921"
             ]
            ],
            "type": "heatmap"
           }
          ],
          "histogram": [
           {
            "marker": {
             "pattern": {
              "fillmode": "overlay",
              "size": 10,
              "solidity": 0.2
             }
            },
            "type": "histogram"
           }
          ],
          "histogram2d": [
           {
            "colorbar": {
             "outlinewidth": 0,
             "ticks": ""
            },
            "colorscale": [
             [
              0,
              "#0d0887"
             ],
             [
              0.1111111111111111,
              "#46039f"
             ],
             [
              0.2222222222222222,
              "#7201a8"
             ],
             [
              0.3333333333333333,
              "#9c179e"
             ],
             [
              0.4444444444444444,
              "#bd3786"
             ],
             [
              0.5555555555555556,
              "#d8576b"
             ],
             [
              0.6666666666666666,
              "#ed7953"
             ],
             [
              0.7777777777777778,
              "#fb9f3a"
             ],
             [
              0.8888888888888888,
              "#fdca26"
             ],
             [
              1,
              "#f0f921"
             ]
            ],
            "type": "histogram2d"
           }
          ],
          "histogram2dcontour": [
           {
            "colorbar": {
             "outlinewidth": 0,
             "ticks": ""
            },
            "colorscale": [
             [
              0,
              "#0d0887"
             ],
             [
              0.1111111111111111,
              "#46039f"
             ],
             [
              0.2222222222222222,
              "#7201a8"
             ],
             [
              0.3333333333333333,
              "#9c179e"
             ],
             [
              0.4444444444444444,
              "#bd3786"
             ],
             [
              0.5555555555555556,
              "#d8576b"
             ],
             [
              0.6666666666666666,
              "#ed7953"
             ],
             [
              0.7777777777777778,
              "#fb9f3a"
             ],
             [
              0.8888888888888888,
              "#fdca26"
             ],
             [
              1,
              "#f0f921"
             ]
            ],
            "type": "histogram2dcontour"
           }
          ],
          "mesh3d": [
           {
            "colorbar": {
             "outlinewidth": 0,
             "ticks": ""
            },
            "type": "mesh3d"
           }
          ],
          "parcoords": [
           {
            "line": {
             "colorbar": {
              "outlinewidth": 0,
              "ticks": ""
             }
            },
            "type": "parcoords"
           }
          ],
          "pie": [
           {
            "automargin": true,
            "type": "pie"
           }
          ],
          "scatter": [
           {
            "marker": {
             "line": {
              "color": "#283442"
             }
            },
            "type": "scatter"
           }
          ],
          "scatter3d": [
           {
            "line": {
             "colorbar": {
              "outlinewidth": 0,
              "ticks": ""
             }
            },
            "marker": {
             "colorbar": {
              "outlinewidth": 0,
              "ticks": ""
             }
            },
            "type": "scatter3d"
           }
          ],
          "scattercarpet": [
           {
            "marker": {
             "colorbar": {
              "outlinewidth": 0,
              "ticks": ""
             }
            },
            "type": "scattercarpet"
           }
          ],
          "scattergeo": [
           {
            "marker": {
             "colorbar": {
              "outlinewidth": 0,
              "ticks": ""
             }
            },
            "type": "scattergeo"
           }
          ],
          "scattergl": [
           {
            "marker": {
             "line": {
              "color": "#283442"
             }
            },
            "type": "scattergl"
           }
          ],
          "scattermap": [
           {
            "marker": {
             "colorbar": {
              "outlinewidth": 0,
              "ticks": ""
             }
            },
            "type": "scattermap"
           }
          ],
          "scattermapbox": [
           {
            "marker": {
             "colorbar": {
              "outlinewidth": 0,
              "ticks": ""
             }
            },
            "type": "scattermapbox"
           }
          ],
          "scatterpolar": [
           {
            "marker": {
             "colorbar": {
              "outlinewidth": 0,
              "ticks": ""
             }
            },
            "type": "scatterpolar"
           }
          ],
          "scatterpolargl": [
           {
            "marker": {
             "colorbar": {
              "outlinewidth": 0,
              "ticks": ""
             }
            },
            "type": "scatterpolargl"
           }
          ],
          "scatterternary": [
           {
            "marker": {
             "colorbar": {
              "outlinewidth": 0,
              "ticks": ""
             }
            },
            "type": "scatterternary"
           }
          ],
          "surface": [
           {
            "colorbar": {
             "outlinewidth": 0,
             "ticks": ""
            },
            "colorscale": [
             [
              0,
              "#0d0887"
             ],
             [
              0.1111111111111111,
              "#46039f"
             ],
             [
              0.2222222222222222,
              "#7201a8"
             ],
             [
              0.3333333333333333,
              "#9c179e"
             ],
             [
              0.4444444444444444,
              "#bd3786"
             ],
             [
              0.5555555555555556,
              "#d8576b"
             ],
             [
              0.6666666666666666,
              "#ed7953"
             ],
             [
              0.7777777777777778,
              "#fb9f3a"
             ],
             [
              0.8888888888888888,
              "#fdca26"
             ],
             [
              1,
              "#f0f921"
             ]
            ],
            "type": "surface"
           }
          ],
          "table": [
           {
            "cells": {
             "fill": {
              "color": "#506784"
             },
             "line": {
              "color": "rgb(17,17,17)"
             }
            },
            "header": {
             "fill": {
              "color": "#2a3f5f"
             },
             "line": {
              "color": "rgb(17,17,17)"
             }
            },
            "type": "table"
           }
          ]
         },
         "layout": {
          "annotationdefaults": {
           "arrowcolor": "#f2f5fa",
           "arrowhead": 0,
           "arrowwidth": 1
          },
          "autotypenumbers": "strict",
          "coloraxis": {
           "colorbar": {
            "outlinewidth": 0,
            "ticks": ""
           }
          },
          "colorscale": {
           "diverging": [
            [
             0,
             "#8e0152"
            ],
            [
             0.1,
             "#c51b7d"
            ],
            [
             0.2,
             "#de77ae"
            ],
            [
             0.3,
             "#f1b6da"
            ],
            [
             0.4,
             "#fde0ef"
            ],
            [
             0.5,
             "#f7f7f7"
            ],
            [
             0.6,
             "#e6f5d0"
            ],
            [
             0.7,
             "#b8e186"
            ],
            [
             0.8,
             "#7fbc41"
            ],
            [
             0.9,
             "#4d9221"
            ],
            [
             1,
             "#276419"
            ]
           ],
           "sequential": [
            [
             0,
             "#0d0887"
            ],
            [
             0.1111111111111111,
             "#46039f"
            ],
            [
             0.2222222222222222,
             "#7201a8"
            ],
            [
             0.3333333333333333,
             "#9c179e"
            ],
            [
             0.4444444444444444,
             "#bd3786"
            ],
            [
             0.5555555555555556,
             "#d8576b"
            ],
            [
             0.6666666666666666,
             "#ed7953"
            ],
            [
             0.7777777777777778,
             "#fb9f3a"
            ],
            [
             0.8888888888888888,
             "#fdca26"
            ],
            [
             1,
             "#f0f921"
            ]
           ],
           "sequentialminus": [
            [
             0,
             "#0d0887"
            ],
            [
             0.1111111111111111,
             "#46039f"
            ],
            [
             0.2222222222222222,
             "#7201a8"
            ],
            [
             0.3333333333333333,
             "#9c179e"
            ],
            [
             0.4444444444444444,
             "#bd3786"
            ],
            [
             0.5555555555555556,
             "#d8576b"
            ],
            [
             0.6666666666666666,
             "#ed7953"
            ],
            [
             0.7777777777777778,
             "#fb9f3a"
            ],
            [
             0.8888888888888888,
             "#fdca26"
            ],
            [
             1,
             "#f0f921"
            ]
           ]
          },
          "colorway": [
           "#636efa",
           "#EF553B",
           "#00cc96",
           "#ab63fa",
           "#FFA15A",
           "#19d3f3",
           "#FF6692",
           "#B6E880",
           "#FF97FF",
           "#FECB52"
          ],
          "font": {
           "color": "#f2f5fa"
          },
          "geo": {
           "bgcolor": "rgb(17,17,17)",
           "lakecolor": "rgb(17,17,17)",
           "landcolor": "rgb(17,17,17)",
           "showlakes": true,
           "showland": true,
           "subunitcolor": "#506784"
          },
          "hoverlabel": {
           "align": "left"
          },
          "hovermode": "closest",
          "mapbox": {
           "style": "dark"
          },
          "paper_bgcolor": "rgb(17,17,17)",
          "plot_bgcolor": "rgb(17,17,17)",
          "polar": {
           "angularaxis": {
            "gridcolor": "#506784",
            "linecolor": "#506784",
            "ticks": ""
           },
           "bgcolor": "rgb(17,17,17)",
           "radialaxis": {
            "gridcolor": "#506784",
            "linecolor": "#506784",
            "ticks": ""
           }
          },
          "scene": {
           "xaxis": {
            "backgroundcolor": "rgb(17,17,17)",
            "gridcolor": "#506784",
            "gridwidth": 2,
            "linecolor": "#506784",
            "showbackground": true,
            "ticks": "",
            "zerolinecolor": "#C8D4E3"
           },
           "yaxis": {
            "backgroundcolor": "rgb(17,17,17)",
            "gridcolor": "#506784",
            "gridwidth": 2,
            "linecolor": "#506784",
            "showbackground": true,
            "ticks": "",
            "zerolinecolor": "#C8D4E3"
           },
           "zaxis": {
            "backgroundcolor": "rgb(17,17,17)",
            "gridcolor": "#506784",
            "gridwidth": 2,
            "linecolor": "#506784",
            "showbackground": true,
            "ticks": "",
            "zerolinecolor": "#C8D4E3"
           }
          },
          "shapedefaults": {
           "line": {
            "color": "#f2f5fa"
           }
          },
          "sliderdefaults": {
           "bgcolor": "#C8D4E3",
           "bordercolor": "rgb(17,17,17)",
           "borderwidth": 1,
           "tickwidth": 0
          },
          "ternary": {
           "aaxis": {
            "gridcolor": "#506784",
            "linecolor": "#506784",
            "ticks": ""
           },
           "baxis": {
            "gridcolor": "#506784",
            "linecolor": "#506784",
            "ticks": ""
           },
           "bgcolor": "rgb(17,17,17)",
           "caxis": {
            "gridcolor": "#506784",
            "linecolor": "#506784",
            "ticks": ""
           }
          },
          "title": {
           "x": 0.05
          },
          "updatemenudefaults": {
           "bgcolor": "#506784",
           "borderwidth": 0
          },
          "xaxis": {
           "automargin": true,
           "gridcolor": "#283442",
           "linecolor": "#506784",
           "ticks": "",
           "title": {
            "standoff": 15
           },
           "zerolinecolor": "#283442",
           "zerolinewidth": 2
          },
          "yaxis": {
           "automargin": true,
           "gridcolor": "#283442",
           "linecolor": "#506784",
           "ticks": "",
           "title": {
            "standoff": 15
           },
           "zerolinecolor": "#283442",
           "zerolinewidth": 2
          }
         }
        },
        "xaxis": {
         "anchor": "y",
         "domain": [
          0,
          1
         ],
         "title": {
          "text": "data"
         }
        },
        "yaxis": {
         "anchor": "x",
         "domain": [
          0,
          1
         ],
         "title": {
          "text": "média móvel"
         }
        }
       }
      }
     },
     "metadata": {},
     "output_type": "display_data"
    }
   ],
   "source": [
    "ativos_media_movel = df_yahoo['Close'].rolling(90, min_periods=1).mean()\n",
    "ativos_media_movel_vertical = ativos_media_movel.stack().reset_index()\n",
    "ativos_media_movel_vertical.columns = ['data', 'ativo', 'média móvel']\n",
    "\n",
    "fig = px.line(ativos_media_movel_vertical, x=\"data\", y=\"média móvel\", color='ativo', template='plotly_dark')\n",
    "fig.show()"
   ]
  },
  {
   "attachments": {
    "newplot.png": {
     "image/png": "[encoded data removed]"
    }
   },
   "cell_type": "markdown",
   "metadata": {},
   "source": [
    "![newplot.png](attachment:newplot.png)"
   ]
  },
  {
   "cell_type": "code",
   "execution_count": 6,
   "metadata": {},
   "outputs": [
    {
     "data": {
      "application/vnd.plotly.v1+json": {
       "config": {
        "plotlyServerURL": "https://plot.ly"
       },
       "data": [
        {
         "hovertemplate": "ativo=HGRE11.SA<br>data=%{x}<br>desvio_padrao=%{y}<extra></extra>",
         "legendgroup": "HGRE11.SA",
         "line": {
          "color": "#636efa",
          "dash": "solid"
         },
         "marker": {
          "symbol": "circle"
         },
         "mode": "lines",
         "name": "HGRE11.SA",
         "showlegend": true,
         "type": "scattergl",
         "x": [
          "2021-01-05",
          "2021-01-06",
          "2021-01-07",
          "2021-01-08",
          "2021-01-11",
          "2021-01-12",
          "2021-01-13",
          "2021-01-14",
          "2021-01-15",
          "2021-01-18",
          "2021-01-19",
          "2021-01-20",
          "2021-01-21",
          "2021-01-22",
          "2021-01-26",
          "2021-01-27",
          "2021-01-28",
          "2021-01-29",
          "2021-02-01",
          "2021-02-02",
          "2021-02-03",
          "2021-02-04",
          "2021-02-05",
          "2021-02-08",
          "2021-02-09",
          "2021-02-10",
          "2021-02-11",
          "2021-02-12",
          "2021-02-17",
          "2021-02-18",
          "2021-02-19",
          "2021-02-22",
          "2021-02-23",
          "2021-02-24",
          "2021-02-25",
          "2021-02-26",
          "2021-03-01",
          "2021-03-02",
          "2021-03-03",
          "2021-03-04",
          "2021-03-05",
          "2021-03-08",
          "2021-03-09",
          "2021-03-10",
          "2021-03-11",
          "2021-03-12",
          "2021-03-15",
          "2021-03-16",
          "2021-03-17",
          "2021-03-18",
          "2021-03-19",
          "2021-03-22",
          "2021-03-23",
          "2021-03-24",
          "2021-03-25",
          "2021-03-26",
          "2021-03-29",
          "2021-03-30",
          "2021-03-31",
          "2021-04-01",
          "2021-04-05",
          "2021-04-06",
          "2021-04-07",
          "2021-04-08",
          "2021-04-09",
          "2021-04-12",
          "2021-04-13",
          "2021-04-14",
          "2021-04-15",
          "2021-04-16",
          "2021-04-19",
          "2021-04-20",
          "2021-04-22",
          "2021-04-23",
          "2021-04-26",
          "2021-04-27",
          "2021-04-28",
          "2021-04-29",
          "2021-04-30",
          "2021-05-03",
          "2021-05-04",
          "2021-05-05",
          "2021-05-06",
          "2021-05-07",
          "2021-05-10",
          "2021-05-11",
          "2021-05-12",
          "2021-05-13",
          "2021-05-14",
          "2021-05-17",
          "2021-05-18",
          "2021-05-19",
          "2021-05-20",
          "2021-05-21",
          "2021-05-24",
          "2021-05-25",
          "2021-05-26",
          "2021-05-27",
          "2021-05-28",
          "2021-05-31",
          "2021-06-01",
          "2021-06-02",
          "2021-06-04",
          "2021-06-07",
          "2021-06-08",
          "2021-06-09",
          "2021-06-10",
          "2021-06-11",
          "2021-06-14",
          "2021-06-15",
          "2021-06-16",
          "2021-06-17",
          "2021-06-18",
          "2021-06-21",
          "2021-06-22",
          "2021-06-23",
          "2021-06-24",
          "2021-06-25",
          "2021-06-28",
          "2021-06-29",
          "2021-06-30",
          "2021-07-01",
          "2021-07-02",
          "2021-07-05",
          "2021-07-06",
          "2021-07-07",
          "2021-07-08",
          "2021-07-12",
          "2021-07-13",
          "2021-07-14",
          "2021-07-15",
          "2021-07-16",
          "2021-07-19",
          "2021-07-20",
          "2021-07-21",
          "2021-07-22",
          "2021-07-23",
          "2021-07-26",
          "2021-07-27",
          "2021-07-28",
          "2021-07-29",
          "2021-07-30",
          "2021-08-02",
          "2021-08-03",
          "2021-08-04",
          "2021-08-05",
          "2021-08-06",
          "2021-08-09",
          "2021-08-10",
          "2021-08-11",
          "2021-08-12",
          "2021-08-13",
          "2021-08-16",
          "2021-08-17",
          "2021-08-18",
          "2021-08-19",
          "2021-08-20",
          "2021-08-23",
          "2021-08-24",
          "2021-08-25",
          "2021-08-26",
          "2021-08-27",
          "2021-08-30",
          "2021-08-31",
          "2021-09-01",
          "2021-09-02",
          "2021-09-03",
          "2021-09-06",
          "2021-09-08",
          "2021-09-09",
          "2021-09-10",
          "2021-09-13",
          "2021-09-14",
          "2021-09-15",
          "2021-09-16",
          "2021-09-17",
          "2021-09-20",
          "2021-09-21",
          "2021-09-22",
          "2021-09-23",
          "2021-09-24",
          "2021-09-27",
          "2021-09-28",
          "2021-09-29",
          "2021-09-30",
          "2021-10-01",
          "2021-10-04",
          "2021-10-05",
          "2021-10-06",
          "2021-10-07",
          "2021-10-08",
          "2021-10-11",
          "2021-10-13",
          "2021-10-14",
          "2021-10-15",
          "2021-10-18",
          "2021-10-19",
          "2021-10-20",
          "2021-10-21",
          "2021-10-22",
          "2021-10-25",
          "2021-10-26",
          "2021-10-27",
          "2021-10-28",
          "2021-10-29",
          "2021-11-01",
          "2021-11-03",
          "2021-11-04",
          "2021-11-05",
          "2021-11-08",
          "2021-11-09",
          "2021-11-10",
          "2021-11-11",
          "2021-11-12",
          "2021-11-16",
          "2021-11-17",
          "2021-11-18",
          "2021-11-19",
          "2021-11-22",
          "2021-11-23",
          "2021-11-24",
          "2021-11-25",
          "2021-11-26",
          "2021-11-29",
          "2021-11-30",
          "2021-12-01",
          "2021-12-02",
          "2021-12-03",
          "2021-12-06",
          "2021-12-07",
          "2021-12-08",
          "2021-12-09",
          "2021-12-10",
          "2021-12-13",
          "2021-12-14",
          "2021-12-15",
          "2021-12-16",
          "2021-12-17",
          "2021-12-20",
          "2021-12-21",
          "2021-12-22",
          "2021-12-23",
          "2021-12-27",
          "2021-12-28",
          "2021-12-29",
          "2021-12-30",
          "2022-01-03",
          "2022-01-04",
          "2022-01-05",
          "2022-01-06",
          "2022-01-07",
          "2022-01-10",
          "2022-01-11",
          "2022-01-12",
          "2022-01-13",
          "2022-01-14",
          "2022-01-17",
          "2022-01-18",
          "2022-01-19",
          "2022-01-20",
          "2022-01-21",
          "2022-01-24",
          "2022-01-25",
          "2022-01-26",
          "2022-01-27",
          "2022-01-28",
          "2022-01-31",
          "2022-02-01",
          "2022-02-02",
          "2022-02-03",
          "2022-02-04",
          "2022-02-07",
          "2022-02-08",
          "2022-02-09",
          "2022-02-10",
          "2022-02-11",
          "2022-02-14",
          "2022-02-15",
          "2022-02-16",
          "2022-02-17",
          "2022-02-18",
          "2022-02-21",
          "2022-02-22",
          "2022-02-23",
          "2022-02-24",
          "2022-02-25",
          "2022-03-02",
          "2022-03-03",
          "2022-03-04",
          "2022-03-07",
          "2022-03-08",
          "2022-03-09",
          "2022-03-10",
          "2022-03-11",
          "2022-03-14",
          "2022-03-15",
          "2022-03-16",
          "2022-03-17",
          "2022-03-18",
          "2022-03-21",
          "2022-03-22",
          "2022-03-23",
          "2022-03-24",
          "2022-03-25",
          "2022-03-28",
          "2022-03-29",
          "2022-03-30",
          "2022-03-31",
          "2022-04-01",
          "2022-04-04",
          "2022-04-05",
          "2022-04-06",
          "2022-04-07",
          "2022-04-08",
          "2022-04-11",
          "2022-04-12",
          "2022-04-13",
          "2022-04-14",
          "2022-04-18",
          "2022-04-19",
          "2022-04-20",
          "2022-04-22",
          "2022-04-25",
          "2022-04-26",
          "2022-04-27",
          "2022-04-28",
          "2022-04-29",
          "2022-05-02",
          "2022-05-03",
          "2022-05-04",
          "2022-05-05",
          "2022-05-06",
          "2022-05-09",
          "2022-05-10",
          "2022-05-11",
          "2022-05-12",
          "2022-05-13",
          "2022-05-16",
          "2022-05-17",
          "2022-05-18",
          "2022-05-19",
          "2022-05-20",
          "2022-05-23",
          "2022-05-24",
          "2022-05-25",
          "2022-05-26",
          "2022-05-27",
          "2022-05-30",
          "2022-05-31",
          "2022-06-01",
          "2022-06-02",
          "2022-06-03",
          "2022-06-06",
          "2022-06-07",
          "2022-06-08",
          "2022-06-09",
          "2022-06-10",
          "2022-06-13",
          "2022-06-14",
          "2022-06-15",
          "2022-06-17",
          "2022-06-20",
          "2022-06-21",
          "2022-06-22",
          "2022-06-23",
          "2022-06-24",
          "2022-06-27",
          "2022-06-28",
          "2022-06-29",
          "2022-06-30",
          "2022-07-01",
          "2022-07-04",
          "2022-07-05",
          "2022-07-06",
          "2022-07-07",
          "2022-07-08",
          "2022-07-11",
          "2022-07-12",
          "2022-07-13",
          "2022-07-14",
          "2022-07-15",
          "2022-07-18",
          "2022-07-19",
          "2022-07-20",
          "2022-07-21",
          "2022-07-22",
          "2022-07-25",
          "2022-07-26",
          "2022-07-27",
          "2022-07-28",
          "2022-07-29",
          "2022-08-01",
          "2022-08-02",
          "2022-08-03",
          "2022-08-04",
          "2022-08-05",
          "2022-08-08",
          "2022-08-09",
          "2022-08-10",
          "2022-08-11",
          "2022-08-12",
          "2022-08-15",
          "2022-08-16",
          "2022-08-17",
          "2022-08-18",
          "2022-08-19",
          "2022-08-22",
          "2022-08-23",
          "2022-08-24",
          "2022-08-25",
          "2022-08-26",
          "2022-08-29",
          "2022-08-30",
          "2022-08-31",
          "2022-09-01",
          "2022-09-02",
          "2022-09-05",
          "2022-09-06",
          "2022-09-08",
          "2022-09-09",
          "2022-09-12",
          "2022-09-13",
          "2022-09-14",
          "2022-09-15",
          "2022-09-16",
          "2022-09-19",
          "2022-09-20",
          "2022-09-21",
          "2022-09-22",
          "2022-09-23",
          "2022-09-26",
          "2022-09-27",
          "2022-09-28",
          "2022-09-29",
          "2022-09-30",
          "2022-10-03",
          "2022-10-04",
          "2022-10-05",
          "2022-10-06",
          "2022-10-07",
          "2022-10-10",
          "2022-10-11",
          "2022-10-13",
          "2022-10-14",
          "2022-10-17",
          "2022-10-18",
          "2022-10-19",
          "2022-10-20",
          "2022-10-21",
          "2022-10-24",
          "2022-10-25",
          "2022-10-26",
          "2022-10-27",
          "2022-10-28",
          "2022-10-31",
          "2022-11-01",
          "2022-11-03",
          "2022-11-04",
          "2022-11-07",
          "2022-11-08",
          "2022-11-09",
          "2022-11-10",
          "2022-11-11",
          "2022-11-14",
          "2022-11-16",
          "2022-11-17",
          "2022-11-18",
          "2022-11-21",
          "2022-11-22",
          "2022-11-23",
          "2022-11-24",
          "2022-11-25",
          "2022-11-28",
          "2022-11-29",
          "2022-11-30",
          "2022-12-01",
          "2022-12-02",
          "2022-12-05",
          "2022-12-06",
          "2022-12-07",
          "2022-12-08",
          "2022-12-09",
          "2022-12-12",
          "2022-12-13",
          "2022-12-14",
          "2022-12-15",
          "2022-12-16",
          "2022-12-19",
          "2022-12-20",
          "2022-12-21",
          "2022-12-22",
          "2022-12-23",
          "2022-12-26",
          "2022-12-27",
          "2022-12-28",
          "2022-12-29",
          "2023-01-02",
          "2023-01-03",
          "2023-01-04",
          "2023-01-05",
          "2023-01-06",
          "2023-01-09",
          "2023-01-10",
          "2023-01-11",
          "2023-01-12",
          "2023-01-13",
          "2023-01-16",
          "2023-01-17",
          "2023-01-18",
          "2023-01-19",
          "2023-01-20",
          "2023-01-23",
          "2023-01-24",
          "2023-01-25",
          "2023-01-26",
          "2023-01-27",
          "2023-01-30",
          "2023-01-31",
          "2023-02-01",
          "2023-02-02",
          "2023-02-03",
          "2023-02-06",
          "2023-02-07",
          "2023-02-08",
          "2023-02-09",
          "2023-02-10",
          "2023-02-13",
          "2023-02-14",
          "2023-02-15",
          "2023-02-16",
          "2023-02-17",
          "2023-02-22",
          "2023-02-23",
          "2023-02-24",
          "2023-02-27",
          "2023-02-28",
          "2023-03-01",
          "2023-03-02",
          "2023-03-03",
          "2023-03-06",
          "2023-03-07",
          "2023-03-08",
          "2023-03-09",
          "2023-03-10",
          "2023-03-13",
          "2023-03-14",
          "2023-03-15",
          "2023-03-16",
          "2023-03-17",
          "2023-03-20",
          "2023-03-21",
          "2023-03-22",
          "2023-03-23",
          "2023-03-24",
          "2023-03-27",
          "2023-03-28",
          "2023-03-29",
          "2023-03-30",
          "2023-03-31",
          "2023-04-03",
          "2023-04-04",
          "2023-04-05",
          "2023-04-06",
          "2023-04-10",
          "2023-04-11",
          "2023-04-12",
          "2023-04-13",
          "2023-04-14",
          "2023-04-17",
          "2023-04-18",
          "2023-04-19",
          "2023-04-20",
          "2023-04-24",
          "2023-04-25",
          "2023-04-26",
          "2023-04-27",
          "2023-04-28",
          "2023-05-02",
          "2023-05-03",
          "2023-05-04",
          "2023-05-05",
          "2023-05-08",
          "2023-05-09",
          "2023-05-10",
          "2023-05-11",
          "2023-05-12",
          "2023-05-15",
          "2023-05-16",
          "2023-05-17",
          "2023-05-18",
          "2023-05-19",
          "2023-05-22",
          "2023-05-23",
          "2023-05-24",
          "2023-05-25",
          "2023-05-26",
          "2023-05-29",
          "2023-05-30",
          "2023-05-31",
          "2023-06-01",
          "2023-06-02",
          "2023-06-05",
          "2023-06-06",
          "2023-06-07",
          "2023-06-09",
          "2023-06-12",
          "2023-06-13",
          "2023-06-14",
          "2023-06-15",
          "2023-06-16",
          "2023-06-19",
          "2023-06-20",
          "2023-06-21",
          "2023-06-22",
          "2023-06-23",
          "2023-06-26",
          "2023-06-27",
          "2023-06-28",
          "2023-06-29",
          "2023-06-30"
         ],
         "xaxis": "x",
         "y": {
          "bdata": "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",
          "dtype": "f8"
         },
         "yaxis": "y"
        },
        {
         "hovertemplate": "ativo=ITSA4.SA<br>data=%{x}<br>desvio_padrao=%{y}<extra></extra>",
         "legendgroup": "ITSA4.SA",
         "line": {
          "color": "#EF553B",
          "dash": "solid"
         },
         "marker": {
          "symbol": "circle"
         },
         "mode": "lines",
         "name": "ITSA4.SA",
         "showlegend": true,
         "type": "scattergl",
         "x": [
          "2021-01-05",
          "2021-01-06",
          "2021-01-07",
          "2021-01-08",
          "2021-01-11",
          "2021-01-12",
          "2021-01-13",
          "2021-01-14",
          "2021-01-15",
          "2021-01-18",
          "2021-01-19",
          "2021-01-20",
          "2021-01-21",
          "2021-01-22",
          "2021-01-26",
          "2021-01-27",
          "2021-01-28",
          "2021-01-29",
          "2021-02-01",
          "2021-02-02",
          "2021-02-03",
          "2021-02-04",
          "2021-02-05",
          "2021-02-08",
          "2021-02-09",
          "2021-02-10",
          "2021-02-11",
          "2021-02-12",
          "2021-02-17",
          "2021-02-18",
          "2021-02-19",
          "2021-02-22",
          "2021-02-23",
          "2021-02-24",
          "2021-02-25",
          "2021-02-26",
          "2021-03-01",
          "2021-03-02",
          "2021-03-03",
          "2021-03-04",
          "2021-03-05",
          "2021-03-08",
          "2021-03-09",
          "2021-03-10",
          "2021-03-11",
          "2021-03-12",
          "2021-03-15",
          "2021-03-16",
          "2021-03-17",
          "2021-03-18",
          "2021-03-19",
          "2021-03-22",
          "2021-03-23",
          "2021-03-24",
          "2021-03-25",
          "2021-03-26",
          "2021-03-29",
          "2021-03-30",
          "2021-03-31",
          "2021-04-01",
          "2021-04-05",
          "2021-04-06",
          "2021-04-07",
          "2021-04-08",
          "2021-04-09",
          "2021-04-12",
          "2021-04-13",
          "2021-04-14",
          "2021-04-15",
          "2021-04-16",
          "2021-04-19",
          "2021-04-20",
          "2021-04-22",
          "2021-04-23",
          "2021-04-26",
          "2021-04-27",
          "2021-04-28",
          "2021-04-29",
          "2021-04-30",
          "2021-05-03",
          "2021-05-04",
          "2021-05-05",
          "2021-05-06",
          "2021-05-07",
          "2021-05-10",
          "2021-05-11",
          "2021-05-12",
          "2021-05-13",
          "2021-05-14",
          "2021-05-17",
          "2021-05-18",
          "2021-05-19",
          "2021-05-20",
          "2021-05-21",
          "2021-05-24",
          "2021-05-25",
          "2021-05-26",
          "2021-05-27",
          "2021-05-28",
          "2021-05-31",
          "2021-06-01",
          "2021-06-02",
          "2021-06-04",
          "2021-06-07",
          "2021-06-08",
          "2021-06-09",
          "2021-06-10",
          "2021-06-11",
          "2021-06-14",
          "2021-06-15",
          "2021-06-16",
          "2021-06-17",
          "2021-06-18",
          "2021-06-21",
          "2021-06-22",
          "2021-06-23",
          "2021-06-24",
          "2021-06-25",
          "2021-06-28",
          "2021-06-29",
          "2021-06-30",
          "2021-07-01",
          "2021-07-02",
          "2021-07-05",
          "2021-07-06",
          "2021-07-07",
          "2021-07-08",
          "2021-07-12",
          "2021-07-13",
          "2021-07-14",
          "2021-07-15",
          "2021-07-16",
          "2021-07-19",
          "2021-07-20",
          "2021-07-21",
          "2021-07-22",
          "2021-07-23",
          "2021-07-26",
          "2021-07-27",
          "2021-07-28",
          "2021-07-29",
          "2021-07-30",
          "2021-08-02",
          "2021-08-03",
          "2021-08-04",
          "2021-08-05",
          "2021-08-06",
          "2021-08-09",
          "2021-08-10",
          "2021-08-11",
          "2021-08-12",
          "2021-08-13",
          "2021-08-16",
          "2021-08-17",
          "2021-08-18",
          "2021-08-19",
          "2021-08-20",
          "2021-08-23",
          "2021-08-24",
          "2021-08-25",
          "2021-08-26",
          "2021-08-27",
          "2021-08-30",
          "2021-08-31",
          "2021-09-01",
          "2021-09-02",
          "2021-09-03",
          "2021-09-06",
          "2021-09-08",
          "2021-09-09",
          "2021-09-10",
          "2021-09-13",
          "2021-09-14",
          "2021-09-15",
          "2021-09-16",
          "2021-09-17",
          "2021-09-20",
          "2021-09-21",
          "2021-09-22",
          "2021-09-23",
          "2021-09-24",
          "2021-09-27",
          "2021-09-28",
          "2021-09-29",
          "2021-09-30",
          "2021-10-01",
          "2021-10-04",
          "2021-10-05",
          "2021-10-06",
          "2021-10-07",
          "2021-10-08",
          "2021-10-11",
          "2021-10-13",
          "2021-10-14",
          "2021-10-15",
          "2021-10-18",
          "2021-10-19",
          "2021-10-20",
          "2021-10-21",
          "2021-10-22",
          "2021-10-25",
          "2021-10-26",
          "2021-10-27",
          "2021-10-28",
          "2021-10-29",
          "2021-11-01",
          "2021-11-03",
          "2021-11-04",
          "2021-11-05",
          "2021-11-08",
          "2021-11-09",
          "2021-11-10",
          "2021-11-11",
          "2021-11-12",
          "2021-11-16",
          "2021-11-17",
          "2021-11-18",
          "2021-11-19",
          "2021-11-22",
          "2021-11-23",
          "2021-11-24",
          "2021-11-25",
          "2021-11-26",
          "2021-11-29",
          "2021-11-30",
          "2021-12-01",
          "2021-12-02",
          "2021-12-03",
          "2021-12-06",
          "2021-12-07",
          "2021-12-08",
          "2021-12-09",
          "2021-12-10",
          "2021-12-13",
          "2021-12-14",
          "2021-12-15",
          "2021-12-16",
          "2021-12-17",
          "2021-12-20",
          "2021-12-21",
          "2021-12-22",
          "2021-12-23",
          "2021-12-27",
          "2021-12-28",
          "2021-12-29",
          "2021-12-30",
          "2022-01-03",
          "2022-01-04",
          "2022-01-05",
          "2022-01-06",
          "2022-01-07",
          "2022-01-10",
          "2022-01-11",
          "2022-01-12",
          "2022-01-13",
          "2022-01-14",
          "2022-01-17",
          "2022-01-18",
          "2022-01-19",
          "2022-01-20",
          "2022-01-21",
          "2022-01-24",
          "2022-01-25",
          "2022-01-26",
          "2022-01-27",
          "2022-01-28",
          "2022-01-31",
          "2022-02-01",
          "2022-02-02",
          "2022-02-03",
          "2022-02-04",
          "2022-02-07",
          "2022-02-08",
          "2022-02-09",
          "2022-02-10",
          "2022-02-11",
          "2022-02-14",
          "2022-02-15",
          "2022-02-16",
          "2022-02-17",
          "2022-02-18",
          "2022-02-21",
          "2022-02-22",
          "2022-02-23",
          "2022-02-24",
          "2022-02-25",
          "2022-03-02",
          "2022-03-03",
          "2022-03-04",
          "2022-03-07",
          "2022-03-08",
          "2022-03-09",
          "2022-03-10",
          "2022-03-11",
          "2022-03-14",
          "2022-03-15",
          "2022-03-16",
          "2022-03-17",
          "2022-03-18",
          "2022-03-21",
          "2022-03-22",
          "2022-03-23",
          "2022-03-24",
          "2022-03-25",
          "2022-03-28",
          "2022-03-29",
          "2022-03-30",
          "2022-03-31",
          "2022-04-01",
          "2022-04-04",
          "2022-04-05",
          "2022-04-06",
          "2022-04-07",
          "2022-04-08",
          "2022-04-11",
          "2022-04-12",
          "2022-04-13",
          "2022-04-14",
          "2022-04-18",
          "2022-04-19",
          "2022-04-20",
          "2022-04-22",
          "2022-04-25",
          "2022-04-26",
          "2022-04-27",
          "2022-04-28",
          "2022-04-29",
          "2022-05-02",
          "2022-05-03",
          "2022-05-04",
          "2022-05-05",
          "2022-05-06",
          "2022-05-09",
          "2022-05-10",
          "2022-05-11",
          "2022-05-12",
          "2022-05-13",
          "2022-05-16",
          "2022-05-17",
          "2022-05-18",
          "2022-05-19",
          "2022-05-20",
          "2022-05-23",
          "2022-05-24",
          "2022-05-25",
          "2022-05-26",
          "2022-05-27",
          "2022-05-30",
          "2022-05-31",
          "2022-06-01",
          "2022-06-02",
          "2022-06-03",
          "2022-06-06",
          "2022-06-07",
          "2022-06-08",
          "2022-06-09",
          "2022-06-10",
          "2022-06-13",
          "2022-06-14",
          "2022-06-15",
          "2022-06-17",
          "2022-06-20",
          "2022-06-21",
          "2022-06-22",
          "2022-06-23",
          "2022-06-24",
          "2022-06-27",
          "2022-06-28",
          "2022-06-29",
          "2022-06-30",
          "2022-07-01",
          "2022-07-04",
          "2022-07-05",
          "2022-07-06",
          "2022-07-07",
          "2022-07-08",
          "2022-07-11",
          "2022-07-12",
          "2022-07-13",
          "2022-07-14",
          "2022-07-15",
          "2022-07-18",
          "2022-07-19",
          "2022-07-20",
          "2022-07-21",
          "2022-07-22",
          "2022-07-25",
          "2022-07-26",
          "2022-07-27",
          "2022-07-28",
          "2022-07-29",
          "2022-08-01",
          "2022-08-02",
          "2022-08-03",
          "2022-08-04",
          "2022-08-05",
          "2022-08-08",
          "2022-08-09",
          "2022-08-10",
          "2022-08-11",
          "2022-08-12",
          "2022-08-15",
          "2022-08-16",
          "2022-08-17",
          "2022-08-18",
          "2022-08-19",
          "2022-08-22",
          "2022-08-23",
          "2022-08-24",
          "2022-08-25",
          "2022-08-26",
          "2022-08-29",
          "2022-08-30",
          "2022-08-31",
          "2022-09-01",
          "2022-09-02",
          "2022-09-05",
          "2022-09-06",
          "2022-09-08",
          "2022-09-09",
          "2022-09-12",
          "2022-09-13",
          "2022-09-14",
          "2022-09-15",
          "2022-09-16",
          "2022-09-19",
          "2022-09-20",
          "2022-09-21",
          "2022-09-22",
          "2022-09-23",
          "2022-09-26",
          "2022-09-27",
          "2022-09-28",
          "2022-09-29",
          "2022-09-30",
          "2022-10-03",
          "2022-10-04",
          "2022-10-05",
          "2022-10-06",
          "2022-10-07",
          "2022-10-10",
          "2022-10-11",
          "2022-10-13",
          "2022-10-14",
          "2022-10-17",
          "2022-10-18",
          "2022-10-19",
          "2022-10-20",
          "2022-10-21",
          "2022-10-24",
          "2022-10-25",
          "2022-10-26",
          "2022-10-27",
          "2022-10-28",
          "2022-10-31",
          "2022-11-01",
          "2022-11-03",
          "2022-11-04",
          "2022-11-07",
          "2022-11-08",
          "2022-11-09",
          "2022-11-10",
          "2022-11-11",
          "2022-11-14",
          "2022-11-16",
          "2022-11-17",
          "2022-11-18",
          "2022-11-21",
          "2022-11-22",
          "2022-11-23",
          "2022-11-24",
          "2022-11-25",
          "2022-11-28",
          "2022-11-29",
          "2022-11-30",
          "2022-12-01",
          "2022-12-02",
          "2022-12-05",
          "2022-12-06",
          "2022-12-07",
          "2022-12-08",
          "2022-12-09",
          "2022-12-12",
          "2022-12-13",
          "2022-12-14",
          "2022-12-15",
          "2022-12-16",
          "2022-12-19",
          "2022-12-20",
          "2022-12-21",
          "2022-12-22",
          "2022-12-23",
          "2022-12-26",
          "2022-12-27",
          "2022-12-28",
          "2022-12-29",
          "2023-01-02",
          "2023-01-03",
          "2023-01-04",
          "2023-01-05",
          "2023-01-06",
          "2023-01-09",
          "2023-01-10",
          "2023-01-11",
          "2023-01-12",
          "2023-01-13",
          "2023-01-16",
          "2023-01-17",
          "2023-01-18",
          "2023-01-19",
          "2023-01-20",
          "2023-01-23",
          "2023-01-24",
          "2023-01-25",
          "2023-01-26",
          "2023-01-27",
          "2023-01-30",
          "2023-01-31",
          "2023-02-01",
          "2023-02-02",
          "2023-02-03",
          "2023-02-06",
          "2023-02-07",
          "2023-02-08",
          "2023-02-09",
          "2023-02-10",
          "2023-02-13",
          "2023-02-14",
          "2023-02-15",
          "2023-02-16",
          "2023-02-17",
          "2023-02-22",
          "2023-02-23",
          "2023-02-24",
          "2023-02-27",
          "2023-02-28",
          "2023-03-01",
          "2023-03-02",
          "2023-03-03",
          "2023-03-06",
          "2023-03-07",
          "2023-03-08",
          "2023-03-09",
          "2023-03-10",
          "2023-03-13",
          "2023-03-14",
          "2023-03-15",
          "2023-03-16",
          "2023-03-17",
          "2023-03-20",
          "2023-03-21",
          "2023-03-22",
          "2023-03-23",
          "2023-03-24",
          "2023-03-27",
          "2023-03-28",
          "2023-03-29",
          "2023-03-30",
          "2023-03-31",
          "2023-04-03",
          "2023-04-04",
          "2023-04-05",
          "2023-04-06",
          "2023-04-10",
          "2023-04-11",
          "2023-04-12",
          "2023-04-13",
          "2023-04-14",
          "2023-04-17",
          "2023-04-18",
          "2023-04-19",
          "2023-04-20",
          "2023-04-24",
          "2023-04-25",
          "2023-04-26",
          "2023-04-27",
          "2023-04-28",
          "2023-05-02",
          "2023-05-03",
          "2023-05-04",
          "2023-05-05",
          "2023-05-08",
          "2023-05-09",
          "2023-05-10",
          "2023-05-11",
          "2023-05-12",
          "2023-05-15",
          "2023-05-16",
          "2023-05-17",
          "2023-05-18",
          "2023-05-19",
          "2023-05-22",
          "2023-05-23",
          "2023-05-24",
          "2023-05-25",
          "2023-05-26",
          "2023-05-29",
          "2023-05-30",
          "2023-05-31",
          "2023-06-01",
          "2023-06-02",
          "2023-06-05",
          "2023-06-06",
          "2023-06-07",
          "2023-06-09",
          "2023-06-12",
          "2023-06-13",
          "2023-06-14",
          "2023-06-15",
          "2023-06-16",
          "2023-06-19",
          "2023-06-20",
          "2023-06-21",
          "2023-06-22",
          "2023-06-23",
          "2023-06-26",
          "2023-06-27",
          "2023-06-28",
          "2023-06-29",
          "2023-06-30"
         ],
         "xaxis": "x",
         "y": {
          "bdata": "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",
          "dtype": "f8"
         },
         "yaxis": "y"
        },
        {
         "hovertemplate": "ativo=WEGE3.SA<br>data=%{x}<br>desvio_padrao=%{y}<extra></extra>",
         "legendgroup": "WEGE3.SA",
         "line": {
          "color": "#00cc96",
          "dash": "solid"
         },
         "marker": {
          "symbol": "circle"
         },
         "mode": "lines",
         "name": "WEGE3.SA",
         "showlegend": true,
         "type": "scattergl",
         "x": [
          "2021-01-05",
          "2021-01-06",
          "2021-01-07",
          "2021-01-08",
          "2021-01-11",
          "2021-01-12",
          "2021-01-13",
          "2021-01-14",
          "2021-01-15",
          "2021-01-18",
          "2021-01-19",
          "2021-01-20",
          "2021-01-21",
          "2021-01-22",
          "2021-01-26",
          "2021-01-27",
          "2021-01-28",
          "2021-01-29",
          "2021-02-01",
          "2021-02-02",
          "2021-02-03",
          "2021-02-04",
          "2021-02-05",
          "2021-02-08",
          "2021-02-09",
          "2021-02-10",
          "2021-02-11",
          "2021-02-12",
          "2021-02-17",
          "2021-02-18",
          "2021-02-19",
          "2021-02-22",
          "2021-02-23",
          "2021-02-24",
          "2021-02-25",
          "2021-02-26",
          "2021-03-01",
          "2021-03-02",
          "2021-03-03",
          "2021-03-04",
          "2021-03-05",
          "2021-03-08",
          "2021-03-09",
          "2021-03-10",
          "2021-03-11",
          "2021-03-12",
          "2021-03-15",
          "2021-03-16",
          "2021-03-17",
          "2021-03-18",
          "2021-03-19",
          "2021-03-22",
          "2021-03-23",
          "2021-03-24",
          "2021-03-25",
          "2021-03-26",
          "2021-03-29",
          "2021-03-30",
          "2021-03-31",
          "2021-04-01",
          "2021-04-05",
          "2021-04-06",
          "2021-04-07",
          "2021-04-08",
          "2021-04-09",
          "2021-04-12",
          "2021-04-13",
          "2021-04-14",
          "2021-04-15",
          "2021-04-16",
          "2021-04-19",
          "2021-04-20",
          "2021-04-22",
          "2021-04-23",
          "2021-04-26",
          "2021-04-27",
          "2021-04-28",
          "2021-04-29",
          "2021-04-30",
          "2021-05-03",
          "2021-05-04",
          "2021-05-05",
          "2021-05-06",
          "2021-05-07",
          "2021-05-10",
          "2021-05-11",
          "2021-05-12",
          "2021-05-13",
          "2021-05-14",
          "2021-05-17",
          "2021-05-18",
          "2021-05-19",
          "2021-05-20",
          "2021-05-21",
          "2021-05-24",
          "2021-05-25",
          "2021-05-26",
          "2021-05-27",
          "2021-05-28",
          "2021-05-31",
          "2021-06-01",
          "2021-06-02",
          "2021-06-04",
          "2021-06-07",
          "2021-06-08",
          "2021-06-09",
          "2021-06-10",
          "2021-06-11",
          "2021-06-14",
          "2021-06-15",
          "2021-06-16",
          "2021-06-17",
          "2021-06-18",
          "2021-06-21",
          "2021-06-22",
          "2021-06-23",
          "2021-06-24",
          "2021-06-25",
          "2021-06-28",
          "2021-06-29",
          "2021-06-30",
          "2021-07-01",
          "2021-07-02",
          "2021-07-05",
          "2021-07-06",
          "2021-07-07",
          "2021-07-08",
          "2021-07-12",
          "2021-07-13",
          "2021-07-14",
          "2021-07-15",
          "2021-07-16",
          "2021-07-19",
          "2021-07-20",
          "2021-07-21",
          "2021-07-22",
          "2021-07-23",
          "2021-07-26",
          "2021-07-27",
          "2021-07-28",
          "2021-07-29",
          "2021-07-30",
          "2021-08-02",
          "2021-08-03",
          "2021-08-04",
          "2021-08-05",
          "2021-08-06",
          "2021-08-09",
          "2021-08-10",
          "2021-08-11",
          "2021-08-12",
          "2021-08-13",
          "2021-08-16",
          "2021-08-17",
          "2021-08-18",
          "2021-08-19",
          "2021-08-20",
          "2021-08-23",
          "2021-08-24",
          "2021-08-25",
          "2021-08-26",
          "2021-08-27",
          "2021-08-30",
          "2021-08-31",
          "2021-09-01",
          "2021-09-02",
          "2021-09-03",
          "2021-09-06",
          "2021-09-08",
          "2021-09-09",
          "2021-09-10",
          "2021-09-13",
          "2021-09-14",
          "2021-09-15",
          "2021-09-16",
          "2021-09-17",
          "2021-09-20",
          "2021-09-21",
          "2021-09-22",
          "2021-09-23",
          "2021-09-24",
          "2021-09-27",
          "2021-09-28",
          "2021-09-29",
          "2021-09-30",
          "2021-10-01",
          "2021-10-04",
          "2021-10-05",
          "2021-10-06",
          "2021-10-07",
          "2021-10-08",
          "2021-10-11",
          "2021-10-13",
          "2021-10-14",
          "2021-10-15",
          "2021-10-18",
          "2021-10-19",
          "2021-10-20",
          "2021-10-21",
          "2021-10-22",
          "2021-10-25",
          "2021-10-26",
          "2021-10-27",
          "2021-10-28",
          "2021-10-29",
          "2021-11-01",
          "2021-11-03",
          "2021-11-04",
          "2021-11-05",
          "2021-11-08",
          "2021-11-09",
          "2021-11-10",
          "2021-11-11",
          "2021-11-12",
          "2021-11-16",
          "2021-11-17",
          "2021-11-18",
          "2021-11-19",
          "2021-11-22",
          "2021-11-23",
          "2021-11-24",
          "2021-11-25",
          "2021-11-26",
          "2021-11-29",
          "2021-11-30",
          "2021-12-01",
          "2021-12-02",
          "2021-12-03",
          "2021-12-06",
          "2021-12-07",
          "2021-12-08",
          "2021-12-09",
          "2021-12-10",
          "2021-12-13",
          "2021-12-14",
          "2021-12-15",
          "2021-12-16",
          "2021-12-17",
          "2021-12-20",
          "2021-12-21",
          "2021-12-22",
          "2021-12-23",
          "2021-12-27",
          "2021-12-28",
          "2021-12-29",
          "2021-12-30",
          "2022-01-03",
          "2022-01-04",
          "2022-01-05",
          "2022-01-06",
          "2022-01-07",
          "2022-01-10",
          "2022-01-11",
          "2022-01-12",
          "2022-01-13",
          "2022-01-14",
          "2022-01-17",
          "2022-01-18",
          "2022-01-19",
          "2022-01-20",
          "2022-01-21",
          "2022-01-24",
          "2022-01-25",
          "2022-01-26",
          "2022-01-27",
          "2022-01-28",
          "2022-01-31",
          "2022-02-01",
          "2022-02-02",
          "2022-02-03",
          "2022-02-04",
          "2022-02-07",
          "2022-02-08",
          "2022-02-09",
          "2022-02-10",
          "2022-02-11",
          "2022-02-14",
          "2022-02-15",
          "2022-02-16",
          "2022-02-17",
          "2022-02-18",
          "2022-02-21",
          "2022-02-22",
          "2022-02-23",
          "2022-02-24",
          "2022-02-25",
          "2022-03-02",
          "2022-03-03",
          "2022-03-04",
          "2022-03-07",
          "2022-03-08",
          "2022-03-09",
          "2022-03-10",
          "2022-03-11",
          "2022-03-14",
          "2022-03-15",
          "2022-03-16",
          "2022-03-17",
          "2022-03-18",
          "2022-03-21",
          "2022-03-22",
          "2022-03-23",
          "2022-03-24",
          "2022-03-25",
          "2022-03-28",
          "2022-03-29",
          "2022-03-30",
          "2022-03-31",
          "2022-04-01",
          "2022-04-04",
          "2022-04-05",
          "2022-04-06",
          "2022-04-07",
          "2022-04-08",
          "2022-04-11",
          "2022-04-12",
          "2022-04-13",
          "2022-04-14",
          "2022-04-18",
          "2022-04-19",
          "2022-04-20",
          "2022-04-22",
          "2022-04-25",
          "2022-04-26",
          "2022-04-27",
          "2022-04-28",
          "2022-04-29",
          "2022-05-02",
          "2022-05-03",
          "2022-05-04",
          "2022-05-05",
          "2022-05-06",
          "2022-05-09",
          "2022-05-10",
          "2022-05-11",
          "2022-05-12",
          "2022-05-13",
          "2022-05-16",
          "2022-05-17",
          "2022-05-18",
          "2022-05-19",
          "2022-05-20",
          "2022-05-23",
          "2022-05-24",
          "2022-05-25",
          "2022-05-26",
          "2022-05-27",
          "2022-05-30",
          "2022-05-31",
          "2022-06-01",
          "2022-06-02",
          "2022-06-03",
          "2022-06-06",
          "2022-06-07",
          "2022-06-08",
          "2022-06-09",
          "2022-06-10",
          "2022-06-13",
          "2022-06-14",
          "2022-06-15",
          "2022-06-17",
          "2022-06-20",
          "2022-06-21",
          "2022-06-22",
          "2022-06-23",
          "2022-06-24",
          "2022-06-27",
          "2022-06-28",
          "2022-06-29",
          "2022-06-30",
          "2022-07-01",
          "2022-07-04",
          "2022-07-05",
          "2022-07-06",
          "2022-07-07",
          "2022-07-08",
          "2022-07-11",
          "2022-07-12",
          "2022-07-13",
          "2022-07-14",
          "2022-07-15",
          "2022-07-18",
          "2022-07-19",
          "2022-07-20",
          "2022-07-21",
          "2022-07-22",
          "2022-07-25",
          "2022-07-26",
          "2022-07-27",
          "2022-07-28",
          "2022-07-29",
          "2022-08-01",
          "2022-08-02",
          "2022-08-03",
          "2022-08-04",
          "2022-08-05",
          "2022-08-08",
          "2022-08-09",
          "2022-08-10",
          "2022-08-11",
          "2022-08-12",
          "2022-08-15",
          "2022-08-16",
          "2022-08-17",
          "2022-08-18",
          "2022-08-19",
          "2022-08-22",
          "2022-08-23",
          "2022-08-24",
          "2022-08-25",
          "2022-08-26",
          "2022-08-29",
          "2022-08-30",
          "2022-08-31",
          "2022-09-01",
          "2022-09-02",
          "2022-09-05",
          "2022-09-06",
          "2022-09-08",
          "2022-09-09",
          "2022-09-12",
          "2022-09-13",
          "2022-09-14",
          "2022-09-15",
          "2022-09-16",
          "2022-09-19",
          "2022-09-20",
          "2022-09-21",
          "2022-09-22",
          "2022-09-23",
          "2022-09-26",
          "2022-09-27",
          "2022-09-28",
          "2022-09-29",
          "2022-09-30",
          "2022-10-03",
          "2022-10-04",
          "2022-10-05",
          "2022-10-06",
          "2022-10-07",
          "2022-10-10",
          "2022-10-11",
          "2022-10-13",
          "2022-10-14",
          "2022-10-17",
          "2022-10-18",
          "2022-10-19",
          "2022-10-20",
          "2022-10-21",
          "2022-10-24",
          "2022-10-25",
          "2022-10-26",
          "2022-10-27",
          "2022-10-28",
          "2022-10-31",
          "2022-11-01",
          "2022-11-03",
          "2022-11-04",
          "2022-11-07",
          "2022-11-08",
          "2022-11-09",
          "2022-11-10",
          "2022-11-11",
          "2022-11-14",
          "2022-11-16",
          "2022-11-17",
          "2022-11-18",
          "2022-11-21",
          "2022-11-22",
          "2022-11-23",
          "2022-11-24",
          "2022-11-25",
          "2022-11-28",
          "2022-11-29",
          "2022-11-30",
          "2022-12-01",
          "2022-12-02",
          "2022-12-05",
          "2022-12-06",
          "2022-12-07",
          "2022-12-08",
          "2022-12-09",
          "2022-12-12",
          "2022-12-13",
          "2022-12-14",
          "2022-12-15",
          "2022-12-16",
          "2022-12-19",
          "2022-12-20",
          "2022-12-21",
          "2022-12-22",
          "2022-12-23",
          "2022-12-26",
          "2022-12-27",
          "2022-12-28",
          "2022-12-29",
          "2023-01-02",
          "2023-01-03",
          "2023-01-04",
          "2023-01-05",
          "2023-01-06",
          "2023-01-09",
          "2023-01-10",
          "2023-01-11",
          "2023-01-12",
          "2023-01-13",
          "2023-01-16",
          "2023-01-17",
          "2023-01-18",
          "2023-01-19",
          "2023-01-20",
          "2023-01-23",
          "2023-01-24",
          "2023-01-25",
          "2023-01-26",
          "2023-01-27",
          "2023-01-30",
          "2023-01-31",
          "2023-02-01",
          "2023-02-02",
          "2023-02-03",
          "2023-02-06",
          "2023-02-07",
          "2023-02-08",
          "2023-02-09",
          "2023-02-10",
          "2023-02-13",
          "2023-02-14",
          "2023-02-15",
          "2023-02-16",
          "2023-02-17",
          "2023-02-22",
          "2023-02-23",
          "2023-02-24",
          "2023-02-27",
          "2023-02-28",
          "2023-03-01",
          "2023-03-02",
          "2023-03-03",
          "2023-03-06",
          "2023-03-07",
          "2023-03-08",
          "2023-03-09",
          "2023-03-10",
          "2023-03-13",
          "2023-03-14",
          "2023-03-15",
          "2023-03-16",
          "2023-03-17",
          "2023-03-20",
          "2023-03-21",
          "2023-03-22",
          "2023-03-23",
          "2023-03-24",
          "2023-03-27",
          "2023-03-28",
          "2023-03-29",
          "2023-03-30",
          "2023-03-31",
          "2023-04-03",
          "2023-04-04",
          "2023-04-05",
          "2023-04-06",
          "2023-04-10",
          "2023-04-11",
          "2023-04-12",
          "2023-04-13",
          "2023-04-14",
          "2023-04-17",
          "2023-04-18",
          "2023-04-19",
          "2023-04-20",
          "2023-04-24",
          "2023-04-25",
          "2023-04-26",
          "2023-04-27",
          "2023-04-28",
          "2023-05-02",
          "2023-05-03",
          "2023-05-04",
          "2023-05-05",
          "2023-05-08",
          "2023-05-09",
          "2023-05-10",
          "2023-05-11",
          "2023-05-12",
          "2023-05-15",
          "2023-05-16",
          "2023-05-17",
          "2023-05-18",
          "2023-05-19",
          "2023-05-22",
          "2023-05-23",
          "2023-05-24",
          "2023-05-25",
          "2023-05-26",
          "2023-05-29",
          "2023-05-30",
          "2023-05-31",
          "2023-06-01",
          "2023-06-02",
          "2023-06-05",
          "2023-06-06",
          "2023-06-07",
          "2023-06-09",
          "2023-06-12",
          "2023-06-13",
          "2023-06-14",
          "2023-06-15",
          "2023-06-16",
          "2023-06-19",
          "2023-06-20",
          "2023-06-21",
          "2023-06-22",
          "2023-06-23",
          "2023-06-26",
          "2023-06-27",
          "2023-06-28",
          "2023-06-29",
          "2023-06-30"
         ],
         "xaxis": "x",
         "y": {
          "bdata": "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",
          "dtype": "f8"
         },
         "yaxis": "y"
        }
       ],
       "layout": {
        "legend": {
         "title": {
          "text": "ativo"
         },
         "tracegroupgap": 0
        },
        "margin": {
         "t": 60
        },
        "template": {
         "data": {
          "bar": [
           {
            "error_x": {
             "color": "#f2f5fa"
            },
            "error_y": {
             "color": "#f2f5fa"
            },
            "marker": {
             "line": {
              "color": "rgb(17,17,17)",
              "width": 0.5
             },
             "pattern": {
              "fillmode": "overlay",
              "size": 10,
              "solidity": 0.2
             }
            },
            "type": "bar"
           }
          ],
          "barpolar": [
           {
            "marker": {
             "line": {
              "color": "rgb(17,17,17)",
              "width": 0.5
             },
             "pattern": {
              "fillmode": "overlay",
              "size": 10,
              "solidity": 0.2
             }
            },
            "type": "barpolar"
           }
          ],
          "carpet": [
           {
            "aaxis": {
             "endlinecolor": "#A2B1C6",
             "gridcolor": "#506784",
             "linecolor": "#506784",
             "minorgridcolor": "#506784",
             "startlinecolor": "#A2B1C6"
            },
            "baxis": {
             "endlinecolor": "#A2B1C6",
             "gridcolor": "#506784",
             "linecolor": "#506784",
             "minorgridcolor": "#506784",
             "startlinecolor": "#A2B1C6"
            },
            "type": "carpet"
           }
          ],
          "choropleth": [
           {
            "colorbar": {
             "outlinewidth": 0,
             "ticks": ""
            },
            "type": "choropleth"
           }
          ],
          "contour": [
           {
            "colorbar": {
             "outlinewidth": 0,
             "ticks": ""
            },
            "colorscale": [
             [
              0,
              "#0d0887"
             ],
             [
              0.1111111111111111,
              "#46039f"
             ],
             [
              0.2222222222222222,
              "#7201a8"
             ],
             [
              0.3333333333333333,
              "#9c179e"
             ],
             [
              0.4444444444444444,
              "#bd3786"
             ],
             [
              0.5555555555555556,
              "#d8576b"
             ],
             [
              0.6666666666666666,
              "#ed7953"
             ],
             [
              0.7777777777777778,
              "#fb9f3a"
             ],
             [
              0.8888888888888888,
              "#fdca26"
             ],
             [
              1,
              "#f0f921"
             ]
            ],
            "type": "contour"
           }
          ],
          "contourcarpet": [
           {
            "colorbar": {
             "outlinewidth": 0,
             "ticks": ""
            },
            "type": "contourcarpet"
           }
          ],
          "heatmap": [
           {
            "colorbar": {
             "outlinewidth": 0,
             "ticks": ""
            },
            "colorscale": [
             [
              0,
              "#0d0887"
             ],
             [
              0.1111111111111111,
              "#46039f"
             ],
             [
              0.2222222222222222,
              "#7201a8"
             ],
             [
              0.3333333333333333,
              "#9c179e"
             ],
             [
              0.4444444444444444,
              "#bd3786"
             ],
             [
              0.5555555555555556,
              "#d8576b"
             ],
             [
              0.6666666666666666,
              "#ed7953"
             ],
             [
              0.7777777777777778,
              "#fb9f3a"
             ],
             [
              0.8888888888888888,
              "#fdca26"
             ],
             [
              1,
              "#f0f921"
             ]
            ],
            "type": "heatmap"
           }
          ],
          "histogram": [
           {
            "marker": {
             "pattern": {
              "fillmode": "overlay",
              "size": 10,
              "solidity": 0.2
             }
            },
            "type": "histogram"
           }
          ],
          "histogram2d": [
           {
            "colorbar": {
             "outlinewidth": 0,
             "ticks": ""
            },
            "colorscale": [
             [
              0,
              "#0d0887"
             ],
             [
              0.1111111111111111,
              "#46039f"
             ],
             [
              0.2222222222222222,
              "#7201a8"
             ],
             [
              0.3333333333333333,
              "#9c179e"
             ],
             [
              0.4444444444444444,
              "#bd3786"
             ],
             [
              0.5555555555555556,
              "#d8576b"
             ],
             [
              0.6666666666666666,
              "#ed7953"
             ],
             [
              0.7777777777777778,
              "#fb9f3a"
             ],
             [
              0.8888888888888888,
              "#fdca26"
             ],
             [
              1,
              "#f0f921"
             ]
            ],
            "type": "histogram2d"
           }
          ],
          "histogram2dcontour": [
           {
            "colorbar": {
             "outlinewidth": 0,
             "ticks": ""
            },
            "colorscale": [
             [
              0,
              "#0d0887"
             ],
             [
              0.1111111111111111,
              "#46039f"
             ],
             [
              0.2222222222222222,
              "#7201a8"
             ],
             [
              0.3333333333333333,
              "#9c179e"
             ],
             [
              0.4444444444444444,
              "#bd3786"
             ],
             [
              0.5555555555555556,
              "#d8576b"
             ],
             [
              0.6666666666666666,
              "#ed7953"
             ],
             [
              0.7777777777777778,
              "#fb9f3a"
             ],
             [
              0.8888888888888888,
              "#fdca26"
             ],
             [
              1,
              "#f0f921"
             ]
            ],
            "type": "histogram2dcontour"
           }
          ],
          "mesh3d": [
           {
            "colorbar": {
             "outlinewidth": 0,
             "ticks": ""
            },
            "type": "mesh3d"
           }
          ],
          "parcoords": [
           {
            "line": {
             "colorbar": {
              "outlinewidth": 0,
              "ticks": ""
             }
            },
            "type": "parcoords"
           }
          ],
          "pie": [
           {
            "automargin": true,
            "type": "pie"
           }
          ],
          "scatter": [
           {
            "marker": {
             "line": {
              "color": "#283442"
             }
            },
            "type": "scatter"
           }
          ],
          "scatter3d": [
           {
            "line": {
             "colorbar": {
              "outlinewidth": 0,
              "ticks": ""
             }
            },
            "marker": {
             "colorbar": {
              "outlinewidth": 0,
              "ticks": ""
             }
            },
            "type": "scatter3d"
           }
          ],
          "scattercarpet": [
           {
            "marker": {
             "colorbar": {
              "outlinewidth": 0,
              "ticks": ""
             }
            },
            "type": "scattercarpet"
           }
          ],
          "scattergeo": [
           {
            "marker": {
             "colorbar": {
              "outlinewidth": 0,
              "ticks": ""
             }
            },
            "type": "scattergeo"
           }
          ],
          "scattergl": [
           {
            "marker": {
             "line": {
              "color": "#283442"
             }
            },
            "type": "scattergl"
           }
          ],
          "scattermap": [
           {
            "marker": {
             "colorbar": {
              "outlinewidth": 0,
              "ticks": ""
             }
            },
            "type": "scattermap"
           }
          ],
          "scattermapbox": [
           {
            "marker": {
             "colorbar": {
              "outlinewidth": 0,
              "ticks": ""
             }
            },
            "type": "scattermapbox"
           }
          ],
          "scatterpolar": [
           {
            "marker": {
             "colorbar": {
              "outlinewidth": 0,
              "ticks": ""
             }
            },
            "type": "scatterpolar"
           }
          ],
          "scatterpolargl": [
           {
            "marker": {
             "colorbar": {
              "outlinewidth": 0,
              "ticks": ""
             }
            },
            "type": "scatterpolargl"
           }
          ],
          "scatterternary": [
           {
            "marker": {
             "colorbar": {
              "outlinewidth": 0,
              "ticks": ""
             }
            },
            "type": "scatterternary"
           }
          ],
          "surface": [
           {
            "colorbar": {
             "outlinewidth": 0,
             "ticks": ""
            },
            "colorscale": [
             [
              0,
              "#0d0887"
             ],
             [
              0.1111111111111111,
              "#46039f"
             ],
             [
              0.2222222222222222,
              "#7201a8"
             ],
             [
              0.3333333333333333,
              "#9c179e"
             ],
             [
              0.4444444444444444,
              "#bd3786"
             ],
             [
              0.5555555555555556,
              "#d8576b"
             ],
             [
              0.6666666666666666,
              "#ed7953"
             ],
             [
              0.7777777777777778,
              "#fb9f3a"
             ],
             [
              0.8888888888888888,
              "#fdca26"
             ],
             [
              1,
              "#f0f921"
             ]
            ],
            "type": "surface"
           }
          ],
          "table": [
           {
            "cells": {
             "fill": {
              "color": "#506784"
             },
             "line": {
              "color": "rgb(17,17,17)"
             }
            },
            "header": {
             "fill": {
              "color": "#2a3f5f"
             },
             "line": {
              "color": "rgb(17,17,17)"
             }
            },
            "type": "table"
           }
          ]
         },
         "layout": {
          "annotationdefaults": {
           "arrowcolor": "#f2f5fa",
           "arrowhead": 0,
           "arrowwidth": 1
          },
          "autotypenumbers": "strict",
          "coloraxis": {
           "colorbar": {
            "outlinewidth": 0,
            "ticks": ""
           }
          },
          "colorscale": {
           "diverging": [
            [
             0,
             "#8e0152"
            ],
            [
             0.1,
             "#c51b7d"
            ],
            [
             0.2,
             "#de77ae"
            ],
            [
             0.3,
             "#f1b6da"
            ],
            [
             0.4,
             "#fde0ef"
            ],
            [
             0.5,
             "#f7f7f7"
            ],
            [
             0.6,
             "#e6f5d0"
            ],
            [
             0.7,
             "#b8e186"
            ],
            [
             0.8,
             "#7fbc41"
            ],
            [
             0.9,
             "#4d9221"
            ],
            [
             1,
             "#276419"
            ]
           ],
           "sequential": [
            [
             0,
             "#0d0887"
            ],
            [
             0.1111111111111111,
             "#46039f"
            ],
            [
             0.2222222222222222,
             "#7201a8"
            ],
            [
             0.3333333333333333,
             "#9c179e"
            ],
            [
             0.4444444444444444,
             "#bd3786"
            ],
            [
             0.5555555555555556,
             "#d8576b"
            ],
            [
             0.6666666666666666,
             "#ed7953"
            ],
            [
             0.7777777777777778,
             "#fb9f3a"
            ],
            [
             0.8888888888888888,
             "#fdca26"
            ],
            [
             1,
             "#f0f921"
            ]
           ],
           "sequentialminus": [
            [
             0,
             "#0d0887"
            ],
            [
             0.1111111111111111,
             "#46039f"
            ],
            [
             0.2222222222222222,
             "#7201a8"
            ],
            [
             0.3333333333333333,
             "#9c179e"
            ],
            [
             0.4444444444444444,
             "#bd3786"
            ],
            [
             0.5555555555555556,
             "#d8576b"
            ],
            [
             0.6666666666666666,
             "#ed7953"
            ],
            [
             0.7777777777777778,
             "#fb9f3a"
            ],
            [
             0.8888888888888888,
             "#fdca26"
            ],
            [
             1,
             "#f0f921"
            ]
           ]
          },
          "colorway": [
           "#636efa",
           "#EF553B",
           "#00cc96",
           "#ab63fa",
           "#FFA15A",
           "#19d3f3",
           "#FF6692",
           "#B6E880",
           "#FF97FF",
           "#FECB52"
          ],
          "font": {
           "color": "#f2f5fa"
          },
          "geo": {
           "bgcolor": "rgb(17,17,17)",
           "lakecolor": "rgb(17,17,17)",
           "landcolor": "rgb(17,17,17)",
           "showlakes": true,
           "showland": true,
           "subunitcolor": "#506784"
          },
          "hoverlabel": {
           "align": "left"
          },
          "hovermode": "closest",
          "mapbox": {
           "style": "dark"
          },
          "paper_bgcolor": "rgb(17,17,17)",
          "plot_bgcolor": "rgb(17,17,17)",
          "polar": {
           "angularaxis": {
            "gridcolor": "#506784",
            "linecolor": "#506784",
            "ticks": ""
           },
           "bgcolor": "rgb(17,17,17)",
           "radialaxis": {
            "gridcolor": "#506784",
            "linecolor": "#506784",
            "ticks": ""
           }
          },
          "scene": {
           "xaxis": {
            "backgroundcolor": "rgb(17,17,17)",
            "gridcolor": "#506784",
            "gridwidth": 2,
            "linecolor": "#506784",
            "showbackground": true,
            "ticks": "",
            "zerolinecolor": "#C8D4E3"
           },
           "yaxis": {
            "backgroundcolor": "rgb(17,17,17)",
            "gridcolor": "#506784",
            "gridwidth": 2,
            "linecolor": "#506784",
            "showbackground": true,
            "ticks": "",
            "zerolinecolor": "#C8D4E3"
           },
           "zaxis": {
            "backgroundcolor": "rgb(17,17,17)",
            "gridcolor": "#506784",
            "gridwidth": 2,
            "linecolor": "#506784",
            "showbackground": true,
            "ticks": "",
            "zerolinecolor": "#C8D4E3"
           }
          },
          "shapedefaults": {
           "line": {
            "color": "#f2f5fa"
           }
          },
          "sliderdefaults": {
           "bgcolor": "#C8D4E3",
           "bordercolor": "rgb(17,17,17)",
           "borderwidth": 1,
           "tickwidth": 0
          },
          "ternary": {
           "aaxis": {
            "gridcolor": "#506784",
            "linecolor": "#506784",
            "ticks": ""
           },
           "baxis": {
            "gridcolor": "#506784",
            "linecolor": "#506784",
            "ticks": ""
           },
           "bgcolor": "rgb(17,17,17)",
           "caxis": {
            "gridcolor": "#506784",
            "linecolor": "#506784",
            "ticks": ""
           }
          },
          "title": {
           "x": 0.05
          },
          "updatemenudefaults": {
           "bgcolor": "#506784",
           "borderwidth": 0
          },
          "xaxis": {
           "automargin": true,
           "gridcolor": "#283442",
           "linecolor": "#506784",
           "ticks": "",
           "title": {
            "standoff": 15
           },
           "zerolinecolor": "#283442",
           "zerolinewidth": 2
          },
          "yaxis": {
           "automargin": true,
           "gridcolor": "#283442",
           "linecolor": "#506784",
           "ticks": "",
           "title": {
            "standoff": 15
           },
           "zerolinecolor": "#283442",
           "zerolinewidth": 2
          }
         }
        },
        "xaxis": {
         "anchor": "y",
         "domain": [
          0,
          1
         ],
         "title": {
          "text": "data"
         }
        },
        "yaxis": {
         "anchor": "x",
         "domain": [
          0,
          1
         ],
         "title": {
          "text": "desvio_padrao"
         }
        }
       }
      }
     },
     "metadata": {},
     "output_type": "display_data"
    }
   ],
   "source": [
    "ativos_desvio_padrao = df_yahoo['Close'].rolling(90, min_periods=1).std()\n",
    "ativos_desvio_padrao_vertical = ativos_desvio_padrao.stack().reset_index()\n",
    "ativos_desvio_padrao_vertical.columns = ['data', 'ativo', 'desvio_padrao']\n",
    "\n",
    "fig = px.line(ativos_desvio_padrao_vertical, x=\"data\", y=\"desvio_padrao\", color='ativo', template='plotly_dark')\n",
    "fig.show()"
   ]
  },
  {
   "attachments": {
    "newplot.png": {
     "image/png": "[encoded data removed]"
    }
   },
   "cell_type": "markdown",
   "metadata": {},
   "source": [
    "![newplot.png](attachment:newplot.png)"
   ]
  },
  {
   "cell_type": "markdown",
   "metadata": {},
   "source": [
    "Com base nos gráficos da atividade anterior é visto que podemos chegar na mesma conclusão. "
   ]
  },
  {
   "cell_type": "markdown",
   "metadata": {},
   "source": [
    "#### 3. Gráfico de *candlestick*\n",
    "1. Selecione o período dos últimos 60 dias (corridos) para um dos ativos da sua base\n",
    "2. Monte um gráfico de *candlestick* para esses dados."
   ]
  },
  {
   "cell_type": "code",
   "execution_count": 8,
   "metadata": {},
   "outputs": [
    {
     "data": {
      "text/html": [
       "<div>\n",
       "<style scoped>\n",
       "    .dataframe tbody tr th:only-of-type {\n",
       "        vertical-align: middle;\n",
       "    }\n",
       "\n",
       "    .dataframe tbody tr th {\n",
       "        vertical-align: top;\n",
       "    }\n",
       "\n",
       "    .dataframe thead th {\n",
       "        text-align: right;\n",
       "    }\n",
       "</style>\n",
       "<table border=\"1\" class=\"dataframe\">\n",
       "  <thead>\n",
       "    <tr style=\"text-align: right;\">\n",
       "      <th></th>\n",
       "      <th>Close</th>\n",
       "      <th>High</th>\n",
       "      <th>Low</th>\n",
       "      <th>Open</th>\n",
       "      <th>Volume</th>\n",
       "    </tr>\n",
       "    <tr>\n",
       "      <th>Date</th>\n",
       "      <th></th>\n",
       "      <th></th>\n",
       "      <th></th>\n",
       "      <th></th>\n",
       "      <th></th>\n",
       "    </tr>\n",
       "  </thead>\n",
       "  <tbody>\n",
       "    <tr>\n",
       "      <th>2021-01-04</th>\n",
       "      <td>34.756062</td>\n",
       "      <td>35.580480</td>\n",
       "      <td>34.700167</td>\n",
       "      <td>35.328962</td>\n",
       "      <td>7219800</td>\n",
       "    </tr>\n",
       "    <tr>\n",
       "      <th>2021-01-05</th>\n",
       "      <td>36.889297</td>\n",
       "      <td>36.889297</td>\n",
       "      <td>34.467274</td>\n",
       "      <td>34.770028</td>\n",
       "      <td>16633600</td>\n",
       "    </tr>\n",
       "    <tr>\n",
       "      <th>2021-01-06</th>\n",
       "      <td>37.867443</td>\n",
       "      <td>38.878172</td>\n",
       "      <td>36.390936</td>\n",
       "      <td>36.968499</td>\n",
       "      <td>21507400</td>\n",
       "    </tr>\n",
       "    <tr>\n",
       "      <th>2021-01-07</th>\n",
       "      <td>39.432426</td>\n",
       "      <td>39.595447</td>\n",
       "      <td>38.118940</td>\n",
       "      <td>38.370459</td>\n",
       "      <td>15129600</td>\n",
       "    </tr>\n",
       "    <tr>\n",
       "      <th>2021-01-08</th>\n",
       "      <td>41.817196</td>\n",
       "      <td>41.915008</td>\n",
       "      <td>39.520930</td>\n",
       "      <td>39.567506</td>\n",
       "      <td>17381000</td>\n",
       "    </tr>\n",
       "  </tbody>\n",
       "</table>\n",
       "</div>"
      ],
      "text/plain": [
       "                Close       High        Low       Open    Volume\n",
       "Date                                                            \n",
       "2021-01-04  34.756062  35.580480  34.700167  35.328962   7219800\n",
       "2021-01-05  36.889297  36.889297  34.467274  34.770028  16633600\n",
       "2021-01-06  37.867443  38.878172  36.390936  36.968499  21507400\n",
       "2021-01-07  39.432426  39.595447  38.118940  38.370459  15129600\n",
       "2021-01-08  41.817196  41.915008  39.520930  39.567506  17381000"
      ]
     },
     "execution_count": 8,
     "metadata": {},
     "output_type": "execute_result"
    }
   ],
   "source": [
    "lista_indicadores = ['Close', 'High', 'Low', 'Open', 'Volume']\n",
    "ativo = ['WEGE3.SA']*len(lista_indicadores)\n",
    "colunas = list(zip(lista_indicadores, ativo))\n",
    "\n",
    "wege = df_yahoo.loc['01/11/2022':, colunas]\n",
    "wege.columns = lista_indicadores\n",
    "\n",
    "wege.head()"
   ]
  },
  {
   "cell_type": "code",
   "execution_count": 9,
   "metadata": {},
   "outputs": [],
   "source": [
    "graph = {\n",
    "    'x': wege.index,\n",
    "    'open': wege.Open,\n",
    "    'close': wege.Close,\n",
    "    'high': wege.High,\n",
    "    'low': wege.Low,\n",
    "    'type': 'candlestick',\n",
    "    'name': 'WEGE3.SA',\n",
    "    'showlegend': True\n",
    "}"
   ]
  },
  {
   "cell_type": "code",
   "execution_count": 10,
   "metadata": {},
   "outputs": [
    {
     "data": {
      "application/vnd.plotly.v1+json": {
       "config": {
        "plotlyServerURL": "https://plot.ly"
       },
       "data": [
        {
         "close": {
          "bdata": "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",
          "dtype": "f8"
         },
         "high": {
          "bdata": "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",
          "dtype": "f8"
         },
         "low": {
          "bdata": "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",
          "dtype": "f8"
         },
         "name": "WEGE3.SA",
         "open": {
          "bdata": "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",
          "dtype": "f8"
         },
         "showlegend": true,
         "type": "candlestick",
         "x": [
          "2021-01-04",
          "2021-01-05",
          "2021-01-06",
          "2021-01-07",
          "2021-01-08",
          "2021-01-11",
          "2021-01-12",
          "2021-01-13",
          "2021-01-14",
          "2021-01-15",
          "2021-01-18",
          "2021-01-19",
          "2021-01-20",
          "2021-01-21",
          "2021-01-22",
          "2021-01-26",
          "2021-01-27",
          "2021-01-28",
          "2021-01-29",
          "2021-02-01",
          "2021-02-02",
          "2021-02-03",
          "2021-02-04",
          "2021-02-05",
          "2021-02-08",
          "2021-02-09",
          "2021-02-10",
          "2021-02-11",
          "2021-02-12",
          "2021-02-17",
          "2021-02-18",
          "2021-02-19",
          "2021-02-22",
          "2021-02-23",
          "2021-02-24",
          "2021-02-25",
          "2021-02-26",
          "2021-03-01",
          "2021-03-02",
          "2021-03-03",
          "2021-03-04",
          "2021-03-05",
          "2021-03-08",
          "2021-03-09",
          "2021-03-10",
          "2021-03-11",
          "2021-03-12",
          "2021-03-15",
          "2021-03-16",
          "2021-03-17",
          "2021-03-18",
          "2021-03-19",
          "2021-03-22",
          "2021-03-23",
          "2021-03-24",
          "2021-03-25",
          "2021-03-26",
          "2021-03-29",
          "2021-03-30",
          "2021-03-31",
          "2021-04-01",
          "2021-04-05",
          "2021-04-06",
          "2021-04-07",
          "2021-04-08",
          "2021-04-09",
          "2021-04-12",
          "2021-04-13",
          "2021-04-14",
          "2021-04-15",
          "2021-04-16",
          "2021-04-19",
          "2021-04-20",
          "2021-04-22",
          "2021-04-23",
          "2021-04-26",
          "2021-04-27",
          "2021-04-28",
          "2021-04-29",
          "2021-04-30",
          "2021-05-03",
          "2021-05-04",
          "2021-05-05",
          "2021-05-06",
          "2021-05-07",
          "2021-05-10",
          "2021-05-11",
          "2021-05-12",
          "2021-05-13",
          "2021-05-14",
          "2021-05-17",
          "2021-05-18",
          "2021-05-19",
          "2021-05-20",
          "2021-05-21",
          "2021-05-24",
          "2021-05-25",
          "2021-05-26",
          "2021-05-27",
          "2021-05-28",
          "2021-05-31",
          "2021-06-01",
          "2021-06-02",
          "2021-06-04",
          "2021-06-07",
          "2021-06-08",
          "2021-06-09",
          "2021-06-10",
          "2021-06-11",
          "2021-06-14",
          "2021-06-15",
          "2021-06-16",
          "2021-06-17",
          "2021-06-18",
          "2021-06-21",
          "2021-06-22",
          "2021-06-23",
          "2021-06-24",
          "2021-06-25",
          "2021-06-28",
          "2021-06-29",
          "2021-06-30",
          "2021-07-01",
          "2021-07-02",
          "2021-07-05",
          "2021-07-06",
          "2021-07-07",
          "2021-07-08",
          "2021-07-12",
          "2021-07-13",
          "2021-07-14",
          "2021-07-15",
          "2021-07-16",
          "2021-07-19",
          "2021-07-20",
          "2021-07-21",
          "2021-07-22",
          "2021-07-23",
          "2021-07-26",
          "2021-07-27",
          "2021-07-28",
          "2021-07-29",
          "2021-07-30",
          "2021-08-02",
          "2021-08-03",
          "2021-08-04",
          "2021-08-05",
          "2021-08-06",
          "2021-08-09",
          "2021-08-10",
          "2021-08-11",
          "2021-08-12",
          "2021-08-13",
          "2021-08-16",
          "2021-08-17",
          "2021-08-18",
          "2021-08-19",
          "2021-08-20",
          "2021-08-23",
          "2021-08-24",
          "2021-08-25",
          "2021-08-26",
          "2021-08-27",
          "2021-08-30",
          "2021-08-31",
          "2021-09-01",
          "2021-09-02",
          "2021-09-03",
          "2021-09-06",
          "2021-09-08",
          "2021-09-09",
          "2021-09-10",
          "2021-09-13",
          "2021-09-14",
          "2021-09-15",
          "2021-09-16",
          "2021-09-17",
          "2021-09-20",
          "2021-09-21",
          "2021-09-22",
          "2021-09-23",
          "2021-09-24",
          "2021-09-27",
          "2021-09-28",
          "2021-09-29",
          "2021-09-30",
          "2021-10-01",
          "2021-10-04",
          "2021-10-05",
          "2021-10-06",
          "2021-10-07",
          "2021-10-08",
          "2021-10-11",
          "2021-10-13",
          "2021-10-14",
          "2021-10-15",
          "2021-10-18",
          "2021-10-19",
          "2021-10-20",
          "2021-10-21",
          "2021-10-22",
          "2021-10-25",
          "2021-10-26",
          "2021-10-27",
          "2021-10-28",
          "2021-10-29",
          "2021-11-01",
          "2021-11-03",
          "2021-11-04",
          "2021-11-05",
          "2021-11-08",
          "2021-11-09",
          "2021-11-10",
          "2021-11-11",
          "2021-11-12",
          "2021-11-16",
          "2021-11-17",
          "2021-11-18",
          "2021-11-19",
          "2021-11-22",
          "2021-11-23",
          "2021-11-24",
          "2021-11-25",
          "2021-11-26",
          "2021-11-29",
          "2021-11-30",
          "2021-12-01",
          "2021-12-02",
          "2021-12-03",
          "2021-12-06",
          "2021-12-07",
          "2021-12-08",
          "2021-12-09",
          "2021-12-10",
          "2021-12-13",
          "2021-12-14",
          "2021-12-15",
          "2021-12-16",
          "2021-12-17",
          "2021-12-20",
          "2021-12-21",
          "2021-12-22",
          "2021-12-23",
          "2021-12-27",
          "2021-12-28",
          "2021-12-29",
          "2021-12-30",
          "2022-01-03",
          "2022-01-04",
          "2022-01-05",
          "2022-01-06",
          "2022-01-07",
          "2022-01-10",
          "2022-01-11",
          "2022-01-12",
          "2022-01-13",
          "2022-01-14",
          "2022-01-17",
          "2022-01-18",
          "2022-01-19",
          "2022-01-20",
          "2022-01-21",
          "2022-01-24",
          "2022-01-25",
          "2022-01-26",
          "2022-01-27",
          "2022-01-28",
          "2022-01-31",
          "2022-02-01",
          "2022-02-02",
          "2022-02-03",
          "2022-02-04",
          "2022-02-07",
          "2022-02-08",
          "2022-02-09",
          "2022-02-10",
          "2022-02-11",
          "2022-02-14",
          "2022-02-15",
          "2022-02-16",
          "2022-02-17",
          "2022-02-18",
          "2022-02-21",
          "2022-02-22",
          "2022-02-23",
          "2022-02-24",
          "2022-02-25",
          "2022-03-02",
          "2022-03-03",
          "2022-03-04",
          "2022-03-07",
          "2022-03-08",
          "2022-03-09",
          "2022-03-10",
          "2022-03-11",
          "2022-03-14",
          "2022-03-15",
          "2022-03-16",
          "2022-03-17",
          "2022-03-18",
          "2022-03-21",
          "2022-03-22",
          "2022-03-23",
          "2022-03-24",
          "2022-03-25",
          "2022-03-28",
          "2022-03-29",
          "2022-03-30",
          "2022-03-31",
          "2022-04-01",
          "2022-04-04",
          "2022-04-05",
          "2022-04-06",
          "2022-04-07",
          "2022-04-08",
          "2022-04-11",
          "2022-04-12",
          "2022-04-13",
          "2022-04-14",
          "2022-04-18",
          "2022-04-19",
          "2022-04-20",
          "2022-04-22",
          "2022-04-25",
          "2022-04-26",
          "2022-04-27",
          "2022-04-28",
          "2022-04-29",
          "2022-05-02",
          "2022-05-03",
          "2022-05-04",
          "2022-05-05",
          "2022-05-06",
          "2022-05-09",
          "2022-05-10",
          "2022-05-11",
          "2022-05-12",
          "2022-05-13",
          "2022-05-16",
          "2022-05-17",
          "2022-05-18",
          "2022-05-19",
          "2022-05-20",
          "2022-05-23",
          "2022-05-24",
          "2022-05-25",
          "2022-05-26",
          "2022-05-27",
          "2022-05-30",
          "2022-05-31",
          "2022-06-01",
          "2022-06-02",
          "2022-06-03",
          "2022-06-06",
          "2022-06-07",
          "2022-06-08",
          "2022-06-09",
          "2022-06-10",
          "2022-06-13",
          "2022-06-14",
          "2022-06-15",
          "2022-06-17",
          "2022-06-20",
          "2022-06-21",
          "2022-06-22",
          "2022-06-23",
          "2022-06-24",
          "2022-06-27",
          "2022-06-28",
          "2022-06-29",
          "2022-06-30",
          "2022-07-01",
          "2022-07-04",
          "2022-07-05",
          "2022-07-06",
          "2022-07-07",
          "2022-07-08",
          "2022-07-11",
          "2022-07-12",
          "2022-07-13",
          "2022-07-14",
          "2022-07-15",
          "2022-07-18",
          "2022-07-19",
          "2022-07-20",
          "2022-07-21",
          "2022-07-22",
          "2022-07-25",
          "2022-07-26",
          "2022-07-27",
          "2022-07-28",
          "2022-07-29",
          "2022-08-01",
          "2022-08-02",
          "2022-08-03",
          "2022-08-04",
          "2022-08-05",
          "2022-08-08",
          "2022-08-09",
          "2022-08-10",
          "2022-08-11",
          "2022-08-12",
          "2022-08-15",
          "2022-08-16",
          "2022-08-17",
          "2022-08-18",
          "2022-08-19",
          "2022-08-22",
          "2022-08-23",
          "2022-08-24",
          "2022-08-25",
          "2022-08-26",
          "2022-08-29",
          "2022-08-30",
          "2022-08-31",
          "2022-09-01",
          "2022-09-02",
          "2022-09-05",
          "2022-09-06",
          "2022-09-08",
          "2022-09-09",
          "2022-09-12",
          "2022-09-13",
          "2022-09-14",
          "2022-09-15",
          "2022-09-16",
          "2022-09-19",
          "2022-09-20",
          "2022-09-21",
          "2022-09-22",
          "2022-09-23",
          "2022-09-26",
          "2022-09-27",
          "2022-09-28",
          "2022-09-29",
          "2022-09-30",
          "2022-10-03",
          "2022-10-04",
          "2022-10-05",
          "2022-10-06",
          "2022-10-07",
          "2022-10-10",
          "2022-10-11",
          "2022-10-13",
          "2022-10-14",
          "2022-10-17",
          "2022-10-18",
          "2022-10-19",
          "2022-10-20",
          "2022-10-21",
          "2022-10-24",
          "2022-10-25",
          "2022-10-26",
          "2022-10-27",
          "2022-10-28",
          "2022-10-31",
          "2022-11-01",
          "2022-11-03",
          "2022-11-04",
          "2022-11-07",
          "2022-11-08",
          "2022-11-09",
          "2022-11-10",
          "2022-11-11",
          "2022-11-14",
          "2022-11-16",
          "2022-11-17",
          "2022-11-18",
          "2022-11-21",
          "2022-11-22",
          "2022-11-23",
          "2022-11-24",
          "2022-11-25",
          "2022-11-28",
          "2022-11-29",
          "2022-11-30",
          "2022-12-01",
          "2022-12-02",
          "2022-12-05",
          "2022-12-06",
          "2022-12-07",
          "2022-12-08",
          "2022-12-09",
          "2022-12-12",
          "2022-12-13",
          "2022-12-14",
          "2022-12-15",
          "2022-12-16",
          "2022-12-19",
          "2022-12-20",
          "2022-12-21",
          "2022-12-22",
          "2022-12-23",
          "2022-12-26",
          "2022-12-27",
          "2022-12-28",
          "2022-12-29",
          "2023-01-02",
          "2023-01-03",
          "2023-01-04",
          "2023-01-05",
          "2023-01-06",
          "2023-01-09",
          "2023-01-10",
          "2023-01-11",
          "2023-01-12",
          "2023-01-13",
          "2023-01-16",
          "2023-01-17",
          "2023-01-18",
          "2023-01-19",
          "2023-01-20",
          "2023-01-23",
          "2023-01-24",
          "2023-01-25",
          "2023-01-26",
          "2023-01-27",
          "2023-01-30",
          "2023-01-31",
          "2023-02-01",
          "2023-02-02",
          "2023-02-03",
          "2023-02-06",
          "2023-02-07",
          "2023-02-08",
          "2023-02-09",
          "2023-02-10",
          "2023-02-13",
          "2023-02-14",
          "2023-02-15",
          "2023-02-16",
          "2023-02-17",
          "2023-02-22",
          "2023-02-23",
          "2023-02-24",
          "2023-02-27",
          "2023-02-28",
          "2023-03-01",
          "2023-03-02",
          "2023-03-03",
          "2023-03-06",
          "2023-03-07",
          "2023-03-08",
          "2023-03-09",
          "2023-03-10",
          "2023-03-13",
          "2023-03-14",
          "2023-03-15",
          "2023-03-16",
          "2023-03-17",
          "2023-03-20",
          "2023-03-21",
          "2023-03-22",
          "2023-03-23",
          "2023-03-24",
          "2023-03-27",
          "2023-03-28",
          "2023-03-29",
          "2023-03-30",
          "2023-03-31",
          "2023-04-03",
          "2023-04-04",
          "2023-04-05",
          "2023-04-06",
          "2023-04-10",
          "2023-04-11",
          "2023-04-12",
          "2023-04-13",
          "2023-04-14",
          "2023-04-17",
          "2023-04-18",
          "2023-04-19",
          "2023-04-20",
          "2023-04-24",
          "2023-04-25",
          "2023-04-26",
          "2023-04-27",
          "2023-04-28",
          "2023-05-02",
          "2023-05-03",
          "2023-05-04",
          "2023-05-05",
          "2023-05-08",
          "2023-05-09",
          "2023-05-10",
          "2023-05-11",
          "2023-05-12",
          "2023-05-15",
          "2023-05-16",
          "2023-05-17",
          "2023-05-18",
          "2023-05-19",
          "2023-05-22",
          "2023-05-23",
          "2023-05-24",
          "2023-05-25",
          "2023-05-26",
          "2023-05-29",
          "2023-05-30",
          "2023-05-31",
          "2023-06-01",
          "2023-06-02",
          "2023-06-05",
          "2023-06-06",
          "2023-06-07",
          "2023-06-09",
          "2023-06-12",
          "2023-06-13",
          "2023-06-14",
          "2023-06-15",
          "2023-06-16",
          "2023-06-19",
          "2023-06-20",
          "2023-06-21",
          "2023-06-22",
          "2023-06-23",
          "2023-06-26",
          "2023-06-27",
          "2023-06-28",
          "2023-06-29",
          "2023-06-30"
         ]
        }
       ],
       "layout": {
        "template": {
         "data": {
          "bar": [
           {
            "error_x": {
             "color": "#2a3f5f"
            },
            "error_y": {
             "color": "#2a3f5f"
            },
            "marker": {
             "line": {
              "color": "#E5ECF6",
              "width": 0.5
             },
             "pattern": {
              "fillmode": "overlay",
              "size": 10,
              "solidity": 0.2
             }
            },
            "type": "bar"
           }
          ],
          "barpolar": [
           {
            "marker": {
             "line": {
              "color": "#E5ECF6",
              "width": 0.5
             },
             "pattern": {
              "fillmode": "overlay",
              "size": 10,
              "solidity": 0.2
             }
            },
            "type": "barpolar"
           }
          ],
          "carpet": [
           {
            "aaxis": {
             "endlinecolor": "#2a3f5f",
             "gridcolor": "white",
             "linecolor": "white",
             "minorgridcolor": "white",
             "startlinecolor": "#2a3f5f"
            },
            "baxis": {
             "endlinecolor": "#2a3f5f",
             "gridcolor": "white",
             "linecolor": "white",
             "minorgridcolor": "white",
             "startlinecolor": "#2a3f5f"
            },
            "type": "carpet"
           }
          ],
          "choropleth": [
           {
            "colorbar": {
             "outlinewidth": 0,
             "ticks": ""
            },
            "type": "choropleth"
           }
          ],
          "contour": [
           {
            "colorbar": {
             "outlinewidth": 0,
             "ticks": ""
            },
            "colorscale": [
             [
              0,
              "#0d0887"
             ],
             [
              0.1111111111111111,
              "#46039f"
             ],
             [
              0.2222222222222222,
              "#7201a8"
             ],
             [
              0.3333333333333333,
              "#9c179e"
             ],
             [
              0.4444444444444444,
              "#bd3786"
             ],
             [
              0.5555555555555556,
              "#d8576b"
             ],
             [
              0.6666666666666666,
              "#ed7953"
             ],
             [
              0.7777777777777778,
              "#fb9f3a"
             ],
             [
              0.8888888888888888,
              "#fdca26"
             ],
             [
              1,
              "#f0f921"
             ]
            ],
            "type": "contour"
           }
          ],
          "contourcarpet": [
           {
            "colorbar": {
             "outlinewidth": 0,
             "ticks": ""
            },
            "type": "contourcarpet"
           }
          ],
          "heatmap": [
           {
            "colorbar": {
             "outlinewidth": 0,
             "ticks": ""
            },
            "colorscale": [
             [
              0,
              "#0d0887"
             ],
             [
              0.1111111111111111,
              "#46039f"
             ],
             [
              0.2222222222222222,
              "#7201a8"
             ],
             [
              0.3333333333333333,
              "#9c179e"
             ],
             [
              0.4444444444444444,
              "#bd3786"
             ],
             [
              0.5555555555555556,
              "#d8576b"
             ],
             [
              0.6666666666666666,
              "#ed7953"
             ],
             [
              0.7777777777777778,
              "#fb9f3a"
             ],
             [
              0.8888888888888888,
              "#fdca26"
             ],
             [
              1,
              "#f0f921"
             ]
            ],
            "type": "heatmap"
           }
          ],
          "histogram": [
           {
            "marker": {
             "pattern": {
              "fillmode": "overlay",
              "size": 10,
              "solidity": 0.2
             }
            },
            "type": "histogram"
           }
          ],
          "histogram2d": [
           {
            "colorbar": {
             "outlinewidth": 0,
             "ticks": ""
            },
            "colorscale": [
             [
              0,
              "#0d0887"
             ],
             [
              0.1111111111111111,
              "#46039f"
             ],
             [
              0.2222222222222222,
              "#7201a8"
             ],
             [
              0.3333333333333333,
              "#9c179e"
             ],
             [
              0.4444444444444444,
              "#bd3786"
             ],
             [
              0.5555555555555556,
              "#d8576b"
             ],
             [
              0.6666666666666666,
              "#ed7953"
             ],
             [
              0.7777777777777778,
              "#fb9f3a"
             ],
             [
              0.8888888888888888,
              "#fdca26"
             ],
             [
              1,
              "#f0f921"
             ]
            ],
            "type": "histogram2d"
           }
          ],
          "histogram2dcontour": [
           {
            "colorbar": {
             "outlinewidth": 0,
             "ticks": ""
            },
            "colorscale": [
             [
              0,
              "#0d0887"
             ],
             [
              0.1111111111111111,
              "#46039f"
             ],
             [
              0.2222222222222222,
              "#7201a8"
             ],
             [
              0.3333333333333333,
              "#9c179e"
             ],
             [
              0.4444444444444444,
              "#bd3786"
             ],
             [
              0.5555555555555556,
              "#d8576b"
             ],
             [
              0.6666666666666666,
              "#ed7953"
             ],
             [
              0.7777777777777778,
              "#fb9f3a"
             ],
             [
              0.8888888888888888,
              "#fdca26"
             ],
             [
              1,
              "#f0f921"
             ]
            ],
            "type": "histogram2dcontour"
           }
          ],
          "mesh3d": [
           {
            "colorbar": {
             "outlinewidth": 0,
             "ticks": ""
            },
            "type": "mesh3d"
           }
          ],
          "parcoords": [
           {
            "line": {
             "colorbar": {
              "outlinewidth": 0,
              "ticks": ""
             }
            },
            "type": "parcoords"
           }
          ],
          "pie": [
           {
            "automargin": true,
            "type": "pie"
           }
          ],
          "scatter": [
           {
            "fillpattern": {
             "fillmode": "overlay",
             "size": 10,
             "solidity": 0.2
            },
            "type": "scatter"
           }
          ],
          "scatter3d": [
           {
            "line": {
             "colorbar": {
              "outlinewidth": 0,
              "ticks": ""
             }
            },
            "marker": {
             "colorbar": {
              "outlinewidth": 0,
              "ticks": ""
             }
            },
            "type": "scatter3d"
           }
          ],
          "scattercarpet": [
           {
            "marker": {
             "colorbar": {
              "outlinewidth": 0,
              "ticks": ""
             }
            },
            "type": "scattercarpet"
           }
          ],
          "scattergeo": [
           {
            "marker": {
             "colorbar": {
              "outlinewidth": 0,
              "ticks": ""
             }
            },
            "type": "scattergeo"
           }
          ],
          "scattergl": [
           {
            "marker": {
             "colorbar": {
              "outlinewidth": 0,
              "ticks": ""
             }
            },
            "type": "scattergl"
           }
          ],
          "scattermap": [
           {
            "marker": {
             "colorbar": {
              "outlinewidth": 0,
              "ticks": ""
             }
            },
            "type": "scattermap"
           }
          ],
          "scattermapbox": [
           {
            "marker": {
             "colorbar": {
              "outlinewidth": 0,
              "ticks": ""
             }
            },
            "type": "scattermapbox"
           }
          ],
          "scatterpolar": [
           {
            "marker": {
             "colorbar": {
              "outlinewidth": 0,
              "ticks": ""
             }
            },
            "type": "scatterpolar"
           }
          ],
          "scatterpolargl": [
           {
            "marker": {
             "colorbar": {
              "outlinewidth": 0,
              "ticks": ""
             }
            },
            "type": "scatterpolargl"
           }
          ],
          "scatterternary": [
           {
            "marker": {
             "colorbar": {
              "outlinewidth": 0,
              "ticks": ""
             }
            },
            "type": "scatterternary"
           }
          ],
          "surface": [
           {
            "colorbar": {
             "outlinewidth": 0,
             "ticks": ""
            },
            "colorscale": [
             [
              0,
              "#0d0887"
             ],
             [
              0.1111111111111111,
              "#46039f"
             ],
             [
              0.2222222222222222,
              "#7201a8"
             ],
             [
              0.3333333333333333,
              "#9c179e"
             ],
             [
              0.4444444444444444,
              "#bd3786"
             ],
             [
              0.5555555555555556,
              "#d8576b"
             ],
             [
              0.6666666666666666,
              "#ed7953"
             ],
             [
              0.7777777777777778,
              "#fb9f3a"
             ],
             [
              0.8888888888888888,
              "#fdca26"
             ],
             [
              1,
              "#f0f921"
             ]
            ],
            "type": "surface"
           }
          ],
          "table": [
           {
            "cells": {
             "fill": {
              "color": "#EBF0F8"
             },
             "line": {
              "color": "white"
             }
            },
            "header": {
             "fill": {
              "color": "#C8D4E3"
             },
             "line": {
              "color": "white"
             }
            },
            "type": "table"
           }
          ]
         },
         "layout": {
          "annotationdefaults": {
           "arrowcolor": "#2a3f5f",
           "arrowhead": 0,
           "arrowwidth": 1
          },
          "autotypenumbers": "strict",
          "coloraxis": {
           "colorbar": {
            "outlinewidth": 0,
            "ticks": ""
           }
          },
          "colorscale": {
           "diverging": [
            [
             0,
             "#8e0152"
            ],
            [
             0.1,
             "#c51b7d"
            ],
            [
             0.2,
             "#de77ae"
            ],
            [
             0.3,
             "#f1b6da"
            ],
            [
             0.4,
             "#fde0ef"
            ],
            [
             0.5,
             "#f7f7f7"
            ],
            [
             0.6,
             "#e6f5d0"
            ],
            [
             0.7,
             "#b8e186"
            ],
            [
             0.8,
             "#7fbc41"
            ],
            [
             0.9,
             "#4d9221"
            ],
            [
             1,
             "#276419"
            ]
           ],
           "sequential": [
            [
             0,
             "#0d0887"
            ],
            [
             0.1111111111111111,
             "#46039f"
            ],
            [
             0.2222222222222222,
             "#7201a8"
            ],
            [
             0.3333333333333333,
             "#9c179e"
            ],
            [
             0.4444444444444444,
             "#bd3786"
            ],
            [
             0.5555555555555556,
             "#d8576b"
            ],
            [
             0.6666666666666666,
             "#ed7953"
            ],
            [
             0.7777777777777778,
             "#fb9f3a"
            ],
            [
             0.8888888888888888,
             "#fdca26"
            ],
            [
             1,
             "#f0f921"
            ]
           ],
           "sequentialminus": [
            [
             0,
             "#0d0887"
            ],
            [
             0.1111111111111111,
             "#46039f"
            ],
            [
             0.2222222222222222,
             "#7201a8"
            ],
            [
             0.3333333333333333,
             "#9c179e"
            ],
            [
             0.4444444444444444,
             "#bd3786"
            ],
            [
             0.5555555555555556,
             "#d8576b"
            ],
            [
             0.6666666666666666,
             "#ed7953"
            ],
            [
             0.7777777777777778,
             "#fb9f3a"
            ],
            [
             0.8888888888888888,
             "#fdca26"
            ],
            [
             1,
             "#f0f921"
            ]
           ]
          },
          "colorway": [
           "#636efa",
           "#EF553B",
           "#00cc96",
           "#ab63fa",
           "#FFA15A",
           "#19d3f3",
           "#FF6692",
           "#B6E880",
           "#FF97FF",
           "#FECB52"
          ],
          "font": {
           "color": "#2a3f5f"
          },
          "geo": {
           "bgcolor": "white",
           "lakecolor": "white",
           "landcolor": "#E5ECF6",
           "showlakes": true,
           "showland": true,
           "subunitcolor": "white"
          },
          "hoverlabel": {
           "align": "left"
          },
          "hovermode": "closest",
          "mapbox": {
           "style": "light"
          },
          "paper_bgcolor": "white",
          "plot_bgcolor": "#E5ECF6",
          "polar": {
           "angularaxis": {
            "gridcolor": "white",
            "linecolor": "white",
            "ticks": ""
           },
           "bgcolor": "#E5ECF6",
           "radialaxis": {
            "gridcolor": "white",
            "linecolor": "white",
            "ticks": ""
           }
          },
          "scene": {
           "xaxis": {
            "backgroundcolor": "#E5ECF6",
            "gridcolor": "white",
            "gridwidth": 2,
            "linecolor": "white",
            "showbackground": true,
            "ticks": "",
            "zerolinecolor": "white"
           },
           "yaxis": {
            "backgroundcolor": "#E5ECF6",
            "gridcolor": "white",
            "gridwidth": 2,
            "linecolor": "white",
            "showbackground": true,
            "ticks": "",
            "zerolinecolor": "white"
           },
           "zaxis": {
            "backgroundcolor": "#E5ECF6",
            "gridcolor": "white",
            "gridwidth": 2,
            "linecolor": "white",
            "showbackground": true,
            "ticks": "",
            "zerolinecolor": "white"
           }
          },
          "shapedefaults": {
           "line": {
            "color": "#2a3f5f"
           }
          },
          "ternary": {
           "aaxis": {
            "gridcolor": "white",
            "linecolor": "white",
            "ticks": ""
           },
           "baxis": {
            "gridcolor": "white",
            "linecolor": "white",
            "ticks": ""
           },
           "bgcolor": "#E5ECF6",
           "caxis": {
            "gridcolor": "white",
            "linecolor": "white",
            "ticks": ""
           }
          },
          "title": {
           "x": 0.05
          },
          "xaxis": {
           "automargin": true,
           "gridcolor": "white",
           "linecolor": "white",
           "ticks": "",
           "title": {
            "standoff": 15
           },
           "zerolinecolor": "white",
           "zerolinewidth": 2
          },
          "yaxis": {
           "automargin": true,
           "gridcolor": "white",
           "linecolor": "white",
           "ticks": "",
           "title": {
            "standoff": 15
           },
           "zerolinecolor": "white",
           "zerolinewidth": 2
          }
         }
        },
        "title": {
         "text": "Índice Microsoft"
        },
        "xaxis": {
         "gridcolor": "LightGrey",
         "gridwidth": 1,
         "showgrid": true
        },
        "yaxis": {
         "gridcolor": "LightGrey",
         "gridwidth": 1,
         "showgrid": true
        }
       }
      }
     },
     "metadata": {},
     "output_type": "display_data"
    }
   ],
   "source": [
    "grafico = graph_objects.Figure(\n",
    "    data=[graph],\n",
    "    layout_title=\"Índice Microsoft\",\n",
    "    # layout=layout\n",
    ")\n",
    "grafico.update_xaxes(showgrid=True, gridwidth=1, gridcolor='LightGrey')\n",
    "grafico.update_yaxes(showgrid=True, gridwidth=1, gridcolor='LightGrey')\n",
    "\n",
    "grafico\n"
   ]
  },
  {
   "attachments": {
    "newplot.png": {
     "image/png": "[encoded data removed]"
    }
   },
   "cell_type": "markdown",
   "metadata": {},
   "source": [
    "![newplot.png](attachment:newplot.png)"
   ]
  },
  {
   "cell_type": "code",
   "execution_count": null,
   "metadata": {},
   "outputs": [],
   "source": []
  }
 ],
 "metadata": {
  "kernelspec": {
   "display_name": "Python 3",
   "language": "python",
   "name": "python3"
  },
  "language_info": {
   "codemirror_mode": {
    "name": "ipython",
    "version": 3
   },
   "file_extension": ".py",
   "mimetype": "text/x-python",
   "name": "python",
   "nbconvert_exporter": "python",
   "pygments_lexer": "ipython3",
   "version": "3.12.9"
  },
  "toc": {
   "base_numbering": 1,
   "nav_menu": {},
   "number_sections": false,
   "sideBar": true,
   "skip_h1_title": true,
   "title_cell": "Índice",
   "title_sidebar": "Conteúdo",
   "toc_cell": false,
   "toc_position": {},
   "toc_section_display": true,
   "toc_window_display": false
  },
  "varInspector": {
   "cols": {
    "lenName": 16,
    "lenType": 16,
    "lenVar": 40
   },
   "kernels_config": {
    "python": {
     "delete_cmd_postfix": "",
     "delete_cmd_prefix": "del ",
     "library": "var_list.py",
     "varRefreshCmd": "print(var_dic_list())"
    },
    "r": {
     "delete_cmd_postfix": ") ",
     "delete_cmd_prefix": "rm(",
     "library": "var_list.r",
     "varRefreshCmd": "cat(var_dic_list()) "
    }
   },
   "types_to_exclude": [
    "module",
    "function",
    "builtin_function_or_method",
    "instance",
    "_Feature"
   ],
   "window_display": false
  }
 },
 "nbformat": 4,
 "nbformat_minor": 4
}
