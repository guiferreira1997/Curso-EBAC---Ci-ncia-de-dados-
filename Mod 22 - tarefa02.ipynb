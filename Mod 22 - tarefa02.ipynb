{
 "cells": [
  {
   "cell_type": "markdown",
   "metadata": {},
   "source": [
    "# Tarefa 02\n",
    "\n",
    "- Leia os enunciados com atenção\n",
    "- Saiba que pode haver mais de uma resposta correta\n",
    "- Insira novas células de código sempre que achar necessário\n",
    "- Em caso de dúvidas, procure os monitores\n",
    "- Divirta-se :)"
   ]
  },
  {
   "cell_type": "code",
   "execution_count": 1,
   "metadata": {},
   "outputs": [],
   "source": [
    "\n",
    "import plotly.express as px\n",
    "from plotly import graph_objects\n",
    "import yfinance as yf\n",
    "\n",
    "\n",
    "import datetime as dt\n",
    "import pandas as pd\n",
    "import numpy as np"
   ]
  },
  {
   "cell_type": "markdown",
   "metadata": {},
   "source": [
    "#### 1. Carregue os dados da tarefa anterior"
   ]
  },
  {
   "cell_type": "code",
   "execution_count": 2,
   "metadata": {},
   "outputs": [
    {
     "data": {
      "text/html": [
       "<div>\n",
       "<style scoped>\n",
       "    .dataframe tbody tr th:only-of-type {\n",
       "        vertical-align: middle;\n",
       "    }\n",
       "\n",
       "    .dataframe tbody tr th {\n",
       "        vertical-align: top;\n",
       "    }\n",
       "\n",
       "    .dataframe thead tr th {\n",
       "        text-align: left;\n",
       "    }\n",
       "\n",
       "    .dataframe thead tr:last-of-type th {\n",
       "        text-align: right;\n",
       "    }\n",
       "</style>\n",
       "<table border=\"1\" class=\"dataframe\">\n",
       "  <thead>\n",
       "    <tr>\n",
       "      <th>Price</th>\n",
       "      <th colspan=\"3\" halign=\"left\">Close</th>\n",
       "      <th colspan=\"3\" halign=\"left\">High</th>\n",
       "      <th colspan=\"3\" halign=\"left\">Low</th>\n",
       "      <th colspan=\"3\" halign=\"left\">Open</th>\n",
       "      <th colspan=\"3\" halign=\"left\">Volume</th>\n",
       "    </tr>\n",
       "    <tr>\n",
       "      <th>Ticker</th>\n",
       "      <th>HGRE11.SA</th>\n",
       "      <th>ITSA4.SA</th>\n",
       "      <th>WEGE3.SA</th>\n",
       "      <th>HGRE11.SA</th>\n",
       "      <th>ITSA4.SA</th>\n",
       "      <th>WEGE3.SA</th>\n",
       "      <th>HGRE11.SA</th>\n",
       "      <th>ITSA4.SA</th>\n",
       "      <th>WEGE3.SA</th>\n",
       "      <th>HGRE11.SA</th>\n",
       "      <th>ITSA4.SA</th>\n",
       "      <th>WEGE3.SA</th>\n",
       "      <th>HGRE11.SA</th>\n",
       "      <th>ITSA4.SA</th>\n",
       "      <th>WEGE3.SA</th>\n",
       "    </tr>\n",
       "    <tr>\n",
       "      <th>Date</th>\n",
       "      <th></th>\n",
       "      <th></th>\n",
       "      <th></th>\n",
       "      <th></th>\n",
       "      <th></th>\n",
       "      <th></th>\n",
       "      <th></th>\n",
       "      <th></th>\n",
       "      <th></th>\n",
       "      <th></th>\n",
       "      <th></th>\n",
       "      <th></th>\n",
       "      <th></th>\n",
       "      <th></th>\n",
       "      <th></th>\n",
       "    </tr>\n",
       "  </thead>\n",
       "  <tbody>\n",
       "    <tr>\n",
       "      <th>2021-01-04</th>\n",
       "      <td>117.847740</td>\n",
       "      <td>6.580600</td>\n",
       "      <td>34.756058</td>\n",
       "      <td>120.933296</td>\n",
       "      <td>6.745827</td>\n",
       "      <td>35.580476</td>\n",
       "      <td>117.839992</td>\n",
       "      <td>6.512230</td>\n",
       "      <td>34.700164</td>\n",
       "      <td>120.933296</td>\n",
       "      <td>6.745827</td>\n",
       "      <td>35.328958</td>\n",
       "      <td>40835</td>\n",
       "      <td>50047855</td>\n",
       "      <td>7219800</td>\n",
       "    </tr>\n",
       "    <tr>\n",
       "      <th>2021-01-05</th>\n",
       "      <td>117.235229</td>\n",
       "      <td>6.529325</td>\n",
       "      <td>36.889294</td>\n",
       "      <td>118.227565</td>\n",
       "      <td>6.552116</td>\n",
       "      <td>36.889294</td>\n",
       "      <td>116.677039</td>\n",
       "      <td>6.415376</td>\n",
       "      <td>34.467271</td>\n",
       "      <td>117.847682</td>\n",
       "      <td>6.540721</td>\n",
       "      <td>34.770024</td>\n",
       "      <td>32200</td>\n",
       "      <td>35387872</td>\n",
       "      <td>16633600</td>\n",
       "    </tr>\n",
       "    <tr>\n",
       "      <th>2021-01-06</th>\n",
       "      <td>116.514214</td>\n",
       "      <td>6.660368</td>\n",
       "      <td>37.867428</td>\n",
       "      <td>117.739130</td>\n",
       "      <td>6.745830</td>\n",
       "      <td>38.878157</td>\n",
       "      <td>116.258387</td>\n",
       "      <td>6.500838</td>\n",
       "      <td>36.390922</td>\n",
       "      <td>117.452287</td>\n",
       "      <td>6.529325</td>\n",
       "      <td>36.968484</td>\n",
       "      <td>33682</td>\n",
       "      <td>39637619</td>\n",
       "      <td>21507400</td>\n",
       "    </tr>\n",
       "    <tr>\n",
       "      <th>2021-01-07</th>\n",
       "      <td>116.537521</td>\n",
       "      <td>6.928148</td>\n",
       "      <td>39.432434</td>\n",
       "      <td>116.793348</td>\n",
       "      <td>6.962333</td>\n",
       "      <td>39.595454</td>\n",
       "      <td>115.901800</td>\n",
       "      <td>6.626181</td>\n",
       "      <td>38.118948</td>\n",
       "      <td>116.677063</td>\n",
       "      <td>6.671761</td>\n",
       "      <td>38.370466</td>\n",
       "      <td>31770</td>\n",
       "      <td>51306807</td>\n",
       "      <td>15129600</td>\n",
       "    </tr>\n",
       "    <tr>\n",
       "      <th>2021-01-08</th>\n",
       "      <td>116.405724</td>\n",
       "      <td>6.911056</td>\n",
       "      <td>41.817188</td>\n",
       "      <td>116.979422</td>\n",
       "      <td>7.036401</td>\n",
       "      <td>41.915000</td>\n",
       "      <td>115.521924</td>\n",
       "      <td>6.848384</td>\n",
       "      <td>39.520922</td>\n",
       "      <td>116.537529</td>\n",
       "      <td>6.979426</td>\n",
       "      <td>39.567499</td>\n",
       "      <td>39046</td>\n",
       "      <td>33298484</td>\n",
       "      <td>17381000</td>\n",
       "    </tr>\n",
       "    <tr>\n",
       "      <th>...</th>\n",
       "      <td>...</td>\n",
       "      <td>...</td>\n",
       "      <td>...</td>\n",
       "      <td>...</td>\n",
       "      <td>...</td>\n",
       "      <td>...</td>\n",
       "      <td>...</td>\n",
       "      <td>...</td>\n",
       "      <td>...</td>\n",
       "      <td>...</td>\n",
       "      <td>...</td>\n",
       "      <td>...</td>\n",
       "      <td>...</td>\n",
       "      <td>...</td>\n",
       "      <td>...</td>\n",
       "    </tr>\n",
       "    <tr>\n",
       "      <th>2021-06-24</th>\n",
       "      <td>102.179657</td>\n",
       "      <td>6.824263</td>\n",
       "      <td>32.138771</td>\n",
       "      <td>102.644808</td>\n",
       "      <td>6.853277</td>\n",
       "      <td>32.204303</td>\n",
       "      <td>100.970249</td>\n",
       "      <td>6.731415</td>\n",
       "      <td>31.726853</td>\n",
       "      <td>101.295858</td>\n",
       "      <td>6.847475</td>\n",
       "      <td>32.026428</td>\n",
       "      <td>19751</td>\n",
       "      <td>29453725</td>\n",
       "      <td>9120300</td>\n",
       "    </tr>\n",
       "    <tr>\n",
       "      <th>2021-06-25</th>\n",
       "      <td>100.008888</td>\n",
       "      <td>6.661779</td>\n",
       "      <td>31.417925</td>\n",
       "      <td>104.079017</td>\n",
       "      <td>6.830065</td>\n",
       "      <td>32.410265</td>\n",
       "      <td>99.388676</td>\n",
       "      <td>6.621159</td>\n",
       "      <td>31.174518</td>\n",
       "      <td>102.334676</td>\n",
       "      <td>6.795247</td>\n",
       "      <td>31.923455</td>\n",
       "      <td>50589</td>\n",
       "      <td>65545051</td>\n",
       "      <td>5979000</td>\n",
       "    </tr>\n",
       "    <tr>\n",
       "      <th>2021-06-28</th>\n",
       "      <td>101.133026</td>\n",
       "      <td>6.592144</td>\n",
       "      <td>31.849327</td>\n",
       "      <td>101.543914</td>\n",
       "      <td>6.661780</td>\n",
       "      <td>31.980471</td>\n",
       "      <td>97.721875</td>\n",
       "      <td>6.510903</td>\n",
       "      <td>30.772069</td>\n",
       "      <td>99.466216</td>\n",
       "      <td>6.661780</td>\n",
       "      <td>31.437161</td>\n",
       "      <td>52548</td>\n",
       "      <td>74204263</td>\n",
       "      <td>4461900</td>\n",
       "    </tr>\n",
       "    <tr>\n",
       "      <th>2021-06-29</th>\n",
       "      <td>102.954910</td>\n",
       "      <td>6.557324</td>\n",
       "      <td>32.505035</td>\n",
       "      <td>103.575123</td>\n",
       "      <td>6.586339</td>\n",
       "      <td>32.664280</td>\n",
       "      <td>100.450815</td>\n",
       "      <td>6.499295</td>\n",
       "      <td>31.474614</td>\n",
       "      <td>101.164055</td>\n",
       "      <td>6.568930</td>\n",
       "      <td>31.690069</td>\n",
       "      <td>41099</td>\n",
       "      <td>32050785</td>\n",
       "      <td>7430800</td>\n",
       "    </tr>\n",
       "    <tr>\n",
       "      <th>2021-06-30</th>\n",
       "      <td>102.993675</td>\n",
       "      <td>6.470284</td>\n",
       "      <td>31.558924</td>\n",
       "      <td>103.109960</td>\n",
       "      <td>6.551525</td>\n",
       "      <td>32.373894</td>\n",
       "      <td>101.474155</td>\n",
       "      <td>6.470284</td>\n",
       "      <td>31.455885</td>\n",
       "      <td>102.334697</td>\n",
       "      <td>6.505102</td>\n",
       "      <td>32.317688</td>\n",
       "      <td>18653</td>\n",
       "      <td>35524956</td>\n",
       "      <td>7280200</td>\n",
       "    </tr>\n",
       "  </tbody>\n",
       "</table>\n",
       "<p>122 rows × 15 columns</p>\n",
       "</div>"
      ],
      "text/plain": [
       "Price            Close                             High                       \\\n",
       "Ticker       HGRE11.SA  ITSA4.SA   WEGE3.SA   HGRE11.SA  ITSA4.SA   WEGE3.SA   \n",
       "Date                                                                           \n",
       "2021-01-04  117.847740  6.580600  34.756058  120.933296  6.745827  35.580476   \n",
       "2021-01-05  117.235229  6.529325  36.889294  118.227565  6.552116  36.889294   \n",
       "2021-01-06  116.514214  6.660368  37.867428  117.739130  6.745830  38.878157   \n",
       "2021-01-07  116.537521  6.928148  39.432434  116.793348  6.962333  39.595454   \n",
       "2021-01-08  116.405724  6.911056  41.817188  116.979422  7.036401  41.915000   \n",
       "...                ...       ...        ...         ...       ...        ...   \n",
       "2021-06-24  102.179657  6.824263  32.138771  102.644808  6.853277  32.204303   \n",
       "2021-06-25  100.008888  6.661779  31.417925  104.079017  6.830065  32.410265   \n",
       "2021-06-28  101.133026  6.592144  31.849327  101.543914  6.661780  31.980471   \n",
       "2021-06-29  102.954910  6.557324  32.505035  103.575123  6.586339  32.664280   \n",
       "2021-06-30  102.993675  6.470284  31.558924  103.109960  6.551525  32.373894   \n",
       "\n",
       "Price              Low                             Open                       \\\n",
       "Ticker       HGRE11.SA  ITSA4.SA   WEGE3.SA   HGRE11.SA  ITSA4.SA   WEGE3.SA   \n",
       "Date                                                                           \n",
       "2021-01-04  117.839992  6.512230  34.700164  120.933296  6.745827  35.328958   \n",
       "2021-01-05  116.677039  6.415376  34.467271  117.847682  6.540721  34.770024   \n",
       "2021-01-06  116.258387  6.500838  36.390922  117.452287  6.529325  36.968484   \n",
       "2021-01-07  115.901800  6.626181  38.118948  116.677063  6.671761  38.370466   \n",
       "2021-01-08  115.521924  6.848384  39.520922  116.537529  6.979426  39.567499   \n",
       "...                ...       ...        ...         ...       ...        ...   \n",
       "2021-06-24  100.970249  6.731415  31.726853  101.295858  6.847475  32.026428   \n",
       "2021-06-25   99.388676  6.621159  31.174518  102.334676  6.795247  31.923455   \n",
       "2021-06-28   97.721875  6.510903  30.772069   99.466216  6.661780  31.437161   \n",
       "2021-06-29  100.450815  6.499295  31.474614  101.164055  6.568930  31.690069   \n",
       "2021-06-30  101.474155  6.470284  31.455885  102.334697  6.505102  32.317688   \n",
       "\n",
       "Price         Volume                      \n",
       "Ticker     HGRE11.SA  ITSA4.SA  WEGE3.SA  \n",
       "Date                                      \n",
       "2021-01-04     40835  50047855   7219800  \n",
       "2021-01-05     32200  35387872  16633600  \n",
       "2021-01-06     33682  39637619  21507400  \n",
       "2021-01-07     31770  51306807  15129600  \n",
       "2021-01-08     39046  33298484  17381000  \n",
       "...              ...       ...       ...  \n",
       "2021-06-24     19751  29453725   9120300  \n",
       "2021-06-25     50589  65545051   5979000  \n",
       "2021-06-28     52548  74204263   4461900  \n",
       "2021-06-29     41099  32050785   7430800  \n",
       "2021-06-30     18653  35524956   7280200  \n",
       "\n",
       "[122 rows x 15 columns]"
      ]
     },
     "execution_count": 2,
     "metadata": {},
     "output_type": "execute_result"
    }
   ],
   "source": [
    "df_yahoo = pd.read_csv('./dadosLimpos.csv', header=[0, 1], index_col=[0])\n",
    "df_yahoo"
   ]
  },
  {
   "cell_type": "markdown",
   "metadata": {},
   "source": [
    "#### 2. Média móvel\n",
    "\n",
    "1. Faça uma média móvel  em 90 dias dos valores de fechamento ajustados dos ativos que você escolheu\n",
    "2. Utilizando a fução ```rolling()```, calcule o desvio pardão desses ativos ao longo do tempo, utilizando a mesma janela móvel do item acima\n",
    "2. Monte um gráfico de linhas para as médias móveis dos ativos da sua base\n",
    "4. Monte um gráfico de linhas para os desvios padrão em janela móvel\n",
    "5. Compare os dois gráficos que você fez com o da tarefa anterior. Veja se eles apontam conclusões semelhantes quanto aos períodos de maior volatilidade (variação) dos ativos."
   ]
  },
  {
   "cell_type": "code",
   "execution_count": 4,
   "metadata": {},
   "outputs": [
    {
     "data": {
      "application/vnd.plotly.v1+json": {
       "config": {
        "plotlyServerURL": "https://plot.ly"
       },
       "data": [
        {
         "hovertemplate": "ativo=HGRE11.SA<br>data=%{x}<br>média móvel=%{y}<extra></extra>",
         "legendgroup": "HGRE11.SA",
         "line": {
          "color": "#636efa",
          "dash": "solid"
         },
         "marker": {
          "symbol": "circle"
         },
         "mode": "lines",
         "name": "HGRE11.SA",
         "orientation": "v",
         "showlegend": true,
         "type": "scatter",
         "x": [
          "2021-01-04",
          "2021-01-05",
          "2021-01-06",
          "2021-01-07",
          "2021-01-08",
          "2021-01-11",
          "2021-01-12",
          "2021-01-13",
          "2021-01-14",
          "2021-01-15",
          "2021-01-18",
          "2021-01-19",
          "2021-01-20",
          "2021-01-21",
          "2021-01-22",
          "2021-01-26",
          "2021-01-27",
          "2021-01-28",
          "2021-01-29",
          "2021-02-01",
          "2021-02-02",
          "2021-02-03",
          "2021-02-04",
          "2021-02-05",
          "2021-02-08",
          "2021-02-09",
          "2021-02-10",
          "2021-02-11",
          "2021-02-12",
          "2021-02-17",
          "2021-02-18",
          "2021-02-19",
          "2021-02-22",
          "2021-02-23",
          "2021-02-24",
          "2021-02-25",
          "2021-02-26",
          "2021-03-01",
          "2021-03-02",
          "2021-03-03",
          "2021-03-04",
          "2021-03-05",
          "2021-03-08",
          "2021-03-09",
          "2021-03-10",
          "2021-03-11",
          "2021-03-12",
          "2021-03-15",
          "2021-03-16",
          "2021-03-17",
          "2021-03-18",
          "2021-03-19",
          "2021-03-22",
          "2021-03-23",
          "2021-03-24",
          "2021-03-25",
          "2021-03-26",
          "2021-03-29",
          "2021-03-30",
          "2021-03-31",
          "2021-04-01",
          "2021-04-05",
          "2021-04-06",
          "2021-04-07",
          "2021-04-08",
          "2021-04-09",
          "2021-04-12",
          "2021-04-13",
          "2021-04-14",
          "2021-04-15",
          "2021-04-16",
          "2021-04-19",
          "2021-04-20",
          "2021-04-22",
          "2021-04-23",
          "2021-04-26",
          "2021-04-27",
          "2021-04-28",
          "2021-04-29",
          "2021-04-30",
          "2021-05-03",
          "2021-05-04",
          "2021-05-05",
          "2021-05-06",
          "2021-05-07",
          "2021-05-10",
          "2021-05-11",
          "2021-05-12",
          "2021-05-13",
          "2021-05-14",
          "2021-05-17",
          "2021-05-18",
          "2021-05-19",
          "2021-05-20",
          "2021-05-21",
          "2021-05-24",
          "2021-05-25",
          "2021-05-26",
          "2021-05-27",
          "2021-05-28",
          "2021-05-31",
          "2021-06-01",
          "2021-06-02",
          "2021-06-04",
          "2021-06-07",
          "2021-06-08",
          "2021-06-09",
          "2021-06-10",
          "2021-06-11",
          "2021-06-14",
          "2021-06-15",
          "2021-06-16",
          "2021-06-17",
          "2021-06-18",
          "2021-06-21",
          "2021-06-22",
          "2021-06-23",
          "2021-06-24",
          "2021-06-25",
          "2021-06-28",
          "2021-06-29",
          "2021-06-30"
         ],
         "xaxis": "x",
         "y": {
          "bdata": "AAAAYEF2XUAAAACwp2JdQKuqqmq9TF1AAAAAwCdCXUAzMzMTHjpdQFVVVWXwMl1AJUmShPsgXUAAAAA83xVdQBzHcdzyFF1AMzMzw7QUXUAAAACgQBJdQAAAADDlEl1AntiJ/awSXUAAAADw7BVdQN7d3d2yFV1AAAAATmAVXUCXlpZWNRVdQFVVVSUPFV1AUV5D+ewUXUCamZlxxxFdQFVVVdWDEF1A0UUXzb8PXUAhC1ko5g5dQFVVVbk3DF1Arkfh2uEKXUB2YieGmgpdQExoL4E5CV1AAAAAgMkJXUBhuafRRAtdQBEREVEwDF1AQggh5EENXUAAAAAEbA1dQAgffLCuCV1AeHh4KHYHXUA7qINa5gRdQOQ4jvt6Al1AYYp89jcAXUDKayifb/1cQAdpkMbN+VxAzczMvGL1XEAZnI/BSvFcQPQ8z5NY7VxA4o64Y9XoXECjiy5SKuRcQAAAACDp3lxA6k1v2gvaXECZXEFswdRcQKuqqr7VzVxAPzTWZ1XFXEC4HoXrLLpcQPv6+toLr1xA2YmdoCGnXEBEaoLRSKFcQPcS2qscm1xATwnyNLSUXEBJkiT1woxcQExnMT2GhVxANcJyv499XEDMYyui0XZcQHd3dz9Tb1xAkyFYh0NnXEA655zDX15cQBiGYVjQVVxAAACAG61NXEBf6IV+CEZcQIQPPug8QVxAu4VfLRU6XEAtLS1dvjNcQLp2YE5HLlxAFl/x5bYoXEArbA6E5iRcQFVVVbHMIFxAy5YtO74cXEAwRT67BBhcQHsUrucDFFxAh/Ia6nYPXEBQiLPy/AlcQBQ7seN9BVxAHdkzkJ4AXEDNzMxAdfxbQANPt0bR91tADM7HgMPyW0CaOr8Wee1bQD3P81SC6FtAMDAw8LPjW0AGfUEvgN5bQD6NsBzp2FtAuuiin37SW0B/9KNfeMtbQGELtqB5xFtAREREtHC4W0AofdJnzaxbQERERDS5oFtAd3d3506UW0C8u7uLpIhbQJ/0SS9Pf1tAKH3St7t1W0C2YAvGwWpbQDMzMzPLXltAlD7pg8ZSW0BhC7ZQSUdbQM3MzPx3OltAHMdxjJgtW0A5juO4VyBbQNiCLQikE1tApU/6dHQIW0BVVVU1Ff9aQJQ+6TPb9FpAIiIi0u7qWkD6pE9KA+JaQOmTPimy2FpA7+7ubrPOWkD1SZ+UD8RaQC7Ygl1QulpAvLu7e7uwWkARERFx+aZaQBEREWHQnFpAzczMbLWSWkD1SZ9EwIZaQJQ+6UO/e1pAlD7pk/dxWkDpkz4pg2haQA==",
          "dtype": "f8"
         },
         "yaxis": "y"
        },
        {
         "hovertemplate": "ativo=ITSA4.SA<br>data=%{x}<br>média móvel=%{y}<extra></extra>",
         "legendgroup": "ITSA4.SA",
         "line": {
          "color": "#EF553B",
          "dash": "solid"
         },
         "marker": {
          "symbol": "circle"
         },
         "mode": "lines",
         "name": "ITSA4.SA",
         "orientation": "v",
         "showlegend": true,
         "type": "scatter",
         "x": [
          "2021-01-04",
          "2021-01-05",
          "2021-01-06",
          "2021-01-07",
          "2021-01-08",
          "2021-01-11",
          "2021-01-12",
          "2021-01-13",
          "2021-01-14",
          "2021-01-15",
          "2021-01-18",
          "2021-01-19",
          "2021-01-20",
          "2021-01-21",
          "2021-01-22",
          "2021-01-26",
          "2021-01-27",
          "2021-01-28",
          "2021-01-29",
          "2021-02-01",
          "2021-02-02",
          "2021-02-03",
          "2021-02-04",
          "2021-02-05",
          "2021-02-08",
          "2021-02-09",
          "2021-02-10",
          "2021-02-11",
          "2021-02-12",
          "2021-02-17",
          "2021-02-18",
          "2021-02-19",
          "2021-02-22",
          "2021-02-23",
          "2021-02-24",
          "2021-02-25",
          "2021-02-26",
          "2021-03-01",
          "2021-03-02",
          "2021-03-03",
          "2021-03-04",
          "2021-03-05",
          "2021-03-08",
          "2021-03-09",
          "2021-03-10",
          "2021-03-11",
          "2021-03-12",
          "2021-03-15",
          "2021-03-16",
          "2021-03-17",
          "2021-03-18",
          "2021-03-19",
          "2021-03-22",
          "2021-03-23",
          "2021-03-24",
          "2021-03-25",
          "2021-03-26",
          "2021-03-29",
          "2021-03-30",
          "2021-03-31",
          "2021-04-01",
          "2021-04-05",
          "2021-04-06",
          "2021-04-07",
          "2021-04-08",
          "2021-04-09",
          "2021-04-12",
          "2021-04-13",
          "2021-04-14",
          "2021-04-15",
          "2021-04-16",
          "2021-04-19",
          "2021-04-20",
          "2021-04-22",
          "2021-04-23",
          "2021-04-26",
          "2021-04-27",
          "2021-04-28",
          "2021-04-29",
          "2021-04-30",
          "2021-05-03",
          "2021-05-04",
          "2021-05-05",
          "2021-05-06",
          "2021-05-07",
          "2021-05-10",
          "2021-05-11",
          "2021-05-12",
          "2021-05-13",
          "2021-05-14",
          "2021-05-17",
          "2021-05-18",
          "2021-05-19",
          "2021-05-20",
          "2021-05-21",
          "2021-05-24",
          "2021-05-25",
          "2021-05-26",
          "2021-05-27",
          "2021-05-28",
          "2021-05-31",
          "2021-06-01",
          "2021-06-02",
          "2021-06-04",
          "2021-06-07",
          "2021-06-08",
          "2021-06-09",
          "2021-06-10",
          "2021-06-11",
          "2021-06-14",
          "2021-06-15",
          "2021-06-16",
          "2021-06-17",
          "2021-06-18",
          "2021-06-21",
          "2021-06-22",
          "2021-06-23",
          "2021-06-24",
          "2021-06-25",
          "2021-06-28",
          "2021-06-29",
          "2021-06-30"
         ],
         "xaxis": "x",
         "y": {
          "bdata": "AAAAwIhSGkAAAAAgSDgaQFVVVZVCXBpAAAAAEM2yGkAAAACgOeMaQKuqqipI6BpAkiRJEmXzGkAAAABc+vIaQHIcxxGCAxtAAAAAsE/1GkCMLrqoweoaQKuqqrI12RpAxU7sxEjCGkDbtm2LDKUaQHd3dxd9hRpAAAAA7ithGkDT0tJSuD4aQDmO46i8LRpAXkN5DXcTGkAAAADoFAEaQHqe53kB8RlAjC66OKjiGUCGLGRhjtUZQFVVVeEVyBlAcT0Kd/O3GUAUO7HTFKsZQDmO4zimnRlAt23bHpiRGUBhuadxkIUZQFVVVcUqeRlAOueck/xpGUAAAACb7VkZQNlkk02EQhlAWlpayjQ5GUCEOqjjwS4ZQHIcx+HaHxlAaN1g6joPGUCU11But/oYQL7lW/516xhAzczMREneGECvRO3K5dQYQOh5nhcwzhhAg76gTzTCGEDRRRe99rcYQH3SJx3FsRhA3/Smd3arGEAAAADgbKQYQKuqqjgMnhhAL6fgZSKWGEC4HoXL8JEYQM7Nzc0PjxhAsRM7gfSLGED7HFLz2YkYQExoLyEAhRhAWPuG9RV+GECSJElGnnkYQPcR3KeLdhhAaoTlXixzGEDdl8f2aHEYQN7d3V08bhhAAAAAoAtpGEDnnHNOQWUYQAiCIOimYBhAAAAA0RlcGEDdyI0ca1cYQIwuurhuUhhATKQHShZPGEB4eHjIqksYQNcOzFXxSBhAUAd10EtGGEDOgUQrDkQYQKuqqm4PQRhAggMH7k4+GEAOpsh3oTsYQE8b6PTOORhAKK+htKU3GEBGF13U3DMYQKRBGuT8MhhADUSlY1gwGEAAAABEOy0YQFIGno4kKxhAfQzO5ygnGEDIZcVAViUYQCVJkrR8IxhARUVFZaciGEAM+oJ+mCIYQDXCcu+JIhhAL7ro+iMhGEDGM57x9yAYQImIiMgtIhhABluwFTcdGEDSJ31SoxgYQFVVVYVbExhA2IIt+EoLGEDYgi0I0QMYQM3MzFxJ/hdAP+mTLsb3F0Dv7u5+svIXQOmTPqkD6xdA3t3dbZbnF0BmZmaGxOMXQKuqqvrz4xdAKH3Sh7/nF0Crqqo6wO4XQKuqqvrH9xdAF2zB1qEBGEDSJ32yMwwYQAAAAMClExhA6ZM+SS0cGEBbsAXr7iMYQHIcxwHCKxhAchzHYT40GEBmZmbWADwYQERERCRtQxhA0id9MhZMGECamZm5wVQYQJqZmbknXRhApU/6FLBlGEA/6ZOuoWwYQJqZmTkscxhAvLu7S416GEBQ+qQfl4EYQA==",
          "dtype": "f8"
         },
         "yaxis": "y"
        },
        {
         "hovertemplate": "ativo=WEGE3.SA<br>data=%{x}<br>média móvel=%{y}<extra></extra>",
         "legendgroup": "WEGE3.SA",
         "line": {
          "color": "#00cc96",
          "dash": "solid"
         },
         "marker": {
          "symbol": "circle"
         },
         "mode": "lines",
         "name": "WEGE3.SA",
         "orientation": "v",
         "showlegend": true,
         "type": "scatter",
         "x": [
          "2021-01-04",
          "2021-01-05",
          "2021-01-06",
          "2021-01-07",
          "2021-01-08",
          "2021-01-11",
          "2021-01-12",
          "2021-01-13",
          "2021-01-14",
          "2021-01-15",
          "2021-01-18",
          "2021-01-19",
          "2021-01-20",
          "2021-01-21",
          "2021-01-22",
          "2021-01-26",
          "2021-01-27",
          "2021-01-28",
          "2021-01-29",
          "2021-02-01",
          "2021-02-02",
          "2021-02-03",
          "2021-02-04",
          "2021-02-05",
          "2021-02-08",
          "2021-02-09",
          "2021-02-10",
          "2021-02-11",
          "2021-02-12",
          "2021-02-17",
          "2021-02-18",
          "2021-02-19",
          "2021-02-22",
          "2021-02-23",
          "2021-02-24",
          "2021-02-25",
          "2021-02-26",
          "2021-03-01",
          "2021-03-02",
          "2021-03-03",
          "2021-03-04",
          "2021-03-05",
          "2021-03-08",
          "2021-03-09",
          "2021-03-10",
          "2021-03-11",
          "2021-03-12",
          "2021-03-15",
          "2021-03-16",
          "2021-03-17",
          "2021-03-18",
          "2021-03-19",
          "2021-03-22",
          "2021-03-23",
          "2021-03-24",
          "2021-03-25",
          "2021-03-26",
          "2021-03-29",
          "2021-03-30",
          "2021-03-31",
          "2021-04-01",
          "2021-04-05",
          "2021-04-06",
          "2021-04-07",
          "2021-04-08",
          "2021-04-09",
          "2021-04-12",
          "2021-04-13",
          "2021-04-14",
          "2021-04-15",
          "2021-04-16",
          "2021-04-19",
          "2021-04-20",
          "2021-04-22",
          "2021-04-23",
          "2021-04-26",
          "2021-04-27",
          "2021-04-28",
          "2021-04-29",
          "2021-04-30",
          "2021-05-03",
          "2021-05-04",
          "2021-05-05",
          "2021-05-06",
          "2021-05-07",
          "2021-05-10",
          "2021-05-11",
          "2021-05-12",
          "2021-05-13",
          "2021-05-14",
          "2021-05-17",
          "2021-05-18",
          "2021-05-19",
          "2021-05-20",
          "2021-05-21",
          "2021-05-24",
          "2021-05-25",
          "2021-05-26",
          "2021-05-27",
          "2021-05-28",
          "2021-05-31",
          "2021-06-01",
          "2021-06-02",
          "2021-06-04",
          "2021-06-07",
          "2021-06-08",
          "2021-06-09",
          "2021-06-10",
          "2021-06-11",
          "2021-06-14",
          "2021-06-15",
          "2021-06-16",
          "2021-06-17",
          "2021-06-18",
          "2021-06-21",
          "2021-06-22",
          "2021-06-23",
          "2021-06-24",
          "2021-06-25",
          "2021-06-28",
          "2021-06-29",
          "2021-06-30"
         ],
         "xaxis": "x",
         "y": {
          "bdata": "AAAAgMZgQUAAAABwTelBQFVVVZWLQEJAAAAAMD+eQkCamZl5hBNDQFVVVWVfRkNAt23b1paEQ0AAAAAY0bRDQDmO43ic10NAmpmZ+VPdQ0AAAADAywJEQAAAAFANFURAFDuxM18gREAlSZJ0miVEQLy7uztiL0RAAAAA+N03RECIh4fHcD5EQMdxHBfmQURAKK+hfOA3REDNzMzEFzFEQJIkSfLpLERAAAAA4G8yREDqTW+6cS9EQAAAAPwKKkRA7FG4XnUnREBiJ3YC8yNEQJjQXsLzIkRA27ZtexckREAaYblneSREQAAAAABtH0RASimlVJsZREAAAAAC5BNEQB988OGUDURAiIeHt0oJREB1UAf1bApEQMdxHI9mAERAI591g8bzQ0BRXkNZSehDQJ7YiX3x20NAZmZmoiDQQ0DnY3CeYb9DQGIYhmEpr0NAJO6IW0eaQ0BddNEli4lDQHd3dxeXekNA6k1vetFrQ0B9Z6OesVxDQAAAAEDIUENATsHLqZNFQ0DD9ShskTpDQDw8PNxeLkNAFDuxq80iQ0Djrewz8BZDQLSX0D7bC0NAv2Htm/3/QkCSJEkKI/VCQJDgPiJr7EJAIyz35F/jQkDvy2MLot1CQFVVVe2X10JAgnW0OT7SQkAhhBBi2s5CQDmO41jAy0JAAAAA2N3HQkAcuZG7YMRCQJNNNukhwEJAMpEeiAO8QkA8PDycjLdCQMFcO7BMtEJALL7iG+qyQkDGb5d6g7BCQDmO46AjrUJAZsuW7UWoQkBaN5iyvKJCQERERMQ1n0JAvYbyilGbQkCmBvauDZdCQL7lWz4dkkJAi5swn8SLQkAAAACO3IRCQGKRMhBMfUJADM7HONJ0QkBge8j1AW5CQIZhGFb1ZUJAISEhUaldQkA2ZU3BAlRCQDXCcu+NSkJAjC66kOw/QkAd5jAHPzZCQI7jOM4uLUJALtiCpZUmQkCrqqoyQh1CQImIiPB5EUJAsAVbgNADQkBERESsj/JBQAAAAJhh5EFAF2zBDp3UQUAGW7D1esRBQC7Ygs2htEFAAAAAwFupQUDSJ32CvplBQIMt2ILpi0FASp/06bB9QUClT/rUMHFBQGELtjiyY0FAmpmZgRFWQUCf9ElH60hBQC7YghXSO0FABluwLd0xQUDe3d11TShBQJQ+6WsOH0FAAAAASLESQUDBFmwZ1gdBQFuwBdO2/kBAwRZsaQL1QEBKn/ThWepAQD/pk36Q3kBAwRZsIaTSQECf9ElH6cVAQFuwBcOYu0BA3t3dpZeyQEB90ifNVahAQA==",
          "dtype": "f8"
         },
         "yaxis": "y"
        }
       ],
       "layout": {
        "legend": {
         "title": {
          "text": "ativo"
         },
         "tracegroupgap": 0
        },
        "margin": {
         "t": 60
        },
        "template": {
         "data": {
          "bar": [
           {
            "error_x": {
             "color": "#f2f5fa"
            },
            "error_y": {
             "color": "#f2f5fa"
            },
            "marker": {
             "line": {
              "color": "rgb(17,17,17)",
              "width": 0.5
             },
             "pattern": {
              "fillmode": "overlay",
              "size": 10,
              "solidity": 0.2
             }
            },
            "type": "bar"
           }
          ],
          "barpolar": [
           {
            "marker": {
             "line": {
              "color": "rgb(17,17,17)",
              "width": 0.5
             },
             "pattern": {
              "fillmode": "overlay",
              "size": 10,
              "solidity": 0.2
             }
            },
            "type": "barpolar"
           }
          ],
          "carpet": [
           {
            "aaxis": {
             "endlinecolor": "#A2B1C6",
             "gridcolor": "#506784",
             "linecolor": "#506784",
             "minorgridcolor": "#506784",
             "startlinecolor": "#A2B1C6"
            },
            "baxis": {
             "endlinecolor": "#A2B1C6",
             "gridcolor": "#506784",
             "linecolor": "#506784",
             "minorgridcolor": "#506784",
             "startlinecolor": "#A2B1C6"
            },
            "type": "carpet"
           }
          ],
          "choropleth": [
           {
            "colorbar": {
             "outlinewidth": 0,
             "ticks": ""
            },
            "type": "choropleth"
           }
          ],
          "contour": [
           {
            "colorbar": {
             "outlinewidth": 0,
             "ticks": ""
            },
            "colorscale": [
             [
              0,
              "#0d0887"
             ],
             [
              0.1111111111111111,
              "#46039f"
             ],
             [
              0.2222222222222222,
              "#7201a8"
             ],
             [
              0.3333333333333333,
              "#9c179e"
             ],
             [
              0.4444444444444444,
              "#bd3786"
             ],
             [
              0.5555555555555556,
              "#d8576b"
             ],
             [
              0.6666666666666666,
              "#ed7953"
             ],
             [
              0.7777777777777778,
              "#fb9f3a"
             ],
             [
              0.8888888888888888,
              "#fdca26"
             ],
             [
              1,
              "#f0f921"
             ]
            ],
            "type": "contour"
           }
          ],
          "contourcarpet": [
           {
            "colorbar": {
             "outlinewidth": 0,
             "ticks": ""
            },
            "type": "contourcarpet"
           }
          ],
          "heatmap": [
           {
            "colorbar": {
             "outlinewidth": 0,
             "ticks": ""
            },
            "colorscale": [
             [
              0,
              "#0d0887"
             ],
             [
              0.1111111111111111,
              "#46039f"
             ],
             [
              0.2222222222222222,
              "#7201a8"
             ],
             [
              0.3333333333333333,
              "#9c179e"
             ],
             [
              0.4444444444444444,
              "#bd3786"
             ],
             [
              0.5555555555555556,
              "#d8576b"
             ],
             [
              0.6666666666666666,
              "#ed7953"
             ],
             [
              0.7777777777777778,
              "#fb9f3a"
             ],
             [
              0.8888888888888888,
              "#fdca26"
             ],
             [
              1,
              "#f0f921"
             ]
            ],
            "type": "heatmap"
           }
          ],
          "histogram": [
           {
            "marker": {
             "pattern": {
              "fillmode": "overlay",
              "size": 10,
              "solidity": 0.2
             }
            },
            "type": "histogram"
           }
          ],
          "histogram2d": [
           {
            "colorbar": {
             "outlinewidth": 0,
             "ticks": ""
            },
            "colorscale": [
             [
              0,
              "#0d0887"
             ],
             [
              0.1111111111111111,
              "#46039f"
             ],
             [
              0.2222222222222222,
              "#7201a8"
             ],
             [
              0.3333333333333333,
              "#9c179e"
             ],
             [
              0.4444444444444444,
              "#bd3786"
             ],
             [
              0.5555555555555556,
              "#d8576b"
             ],
             [
              0.6666666666666666,
              "#ed7953"
             ],
             [
              0.7777777777777778,
              "#fb9f3a"
             ],
             [
              0.8888888888888888,
              "#fdca26"
             ],
             [
              1,
              "#f0f921"
             ]
            ],
            "type": "histogram2d"
           }
          ],
          "histogram2dcontour": [
           {
            "colorbar": {
             "outlinewidth": 0,
             "ticks": ""
            },
            "colorscale": [
             [
              0,
              "#0d0887"
             ],
             [
              0.1111111111111111,
              "#46039f"
             ],
             [
              0.2222222222222222,
              "#7201a8"
             ],
             [
              0.3333333333333333,
              "#9c179e"
             ],
             [
              0.4444444444444444,
              "#bd3786"
             ],
             [
              0.5555555555555556,
              "#d8576b"
             ],
             [
              0.6666666666666666,
              "#ed7953"
             ],
             [
              0.7777777777777778,
              "#fb9f3a"
             ],
             [
              0.8888888888888888,
              "#fdca26"
             ],
             [
              1,
              "#f0f921"
             ]
            ],
            "type": "histogram2dcontour"
           }
          ],
          "mesh3d": [
           {
            "colorbar": {
             "outlinewidth": 0,
             "ticks": ""
            },
            "type": "mesh3d"
           }
          ],
          "parcoords": [
           {
            "line": {
             "colorbar": {
              "outlinewidth": 0,
              "ticks": ""
             }
            },
            "type": "parcoords"
           }
          ],
          "pie": [
           {
            "automargin": true,
            "type": "pie"
           }
          ],
          "scatter": [
           {
            "marker": {
             "line": {
              "color": "#283442"
             }
            },
            "type": "scatter"
           }
          ],
          "scatter3d": [
           {
            "line": {
             "colorbar": {
              "outlinewidth": 0,
              "ticks": ""
             }
            },
            "marker": {
             "colorbar": {
              "outlinewidth": 0,
              "ticks": ""
             }
            },
            "type": "scatter3d"
           }
          ],
          "scattercarpet": [
           {
            "marker": {
             "colorbar": {
              "outlinewidth": 0,
              "ticks": ""
             }
            },
            "type": "scattercarpet"
           }
          ],
          "scattergeo": [
           {
            "marker": {
             "colorbar": {
              "outlinewidth": 0,
              "ticks": ""
             }
            },
            "type": "scattergeo"
           }
          ],
          "scattergl": [
           {
            "marker": {
             "line": {
              "color": "#283442"
             }
            },
            "type": "scattergl"
           }
          ],
          "scattermap": [
           {
            "marker": {
             "colorbar": {
              "outlinewidth": 0,
              "ticks": ""
             }
            },
            "type": "scattermap"
           }
          ],
          "scattermapbox": [
           {
            "marker": {
             "colorbar": {
              "outlinewidth": 0,
              "ticks": ""
             }
            },
            "type": "scattermapbox"
           }
          ],
          "scatterpolar": [
           {
            "marker": {
             "colorbar": {
              "outlinewidth": 0,
              "ticks": ""
             }
            },
            "type": "scatterpolar"
           }
          ],
          "scatterpolargl": [
           {
            "marker": {
             "colorbar": {
              "outlinewidth": 0,
              "ticks": ""
             }
            },
            "type": "scatterpolargl"
           }
          ],
          "scatterternary": [
           {
            "marker": {
             "colorbar": {
              "outlinewidth": 0,
              "ticks": ""
             }
            },
            "type": "scatterternary"
           }
          ],
          "surface": [
           {
            "colorbar": {
             "outlinewidth": 0,
             "ticks": ""
            },
            "colorscale": [
             [
              0,
              "#0d0887"
             ],
             [
              0.1111111111111111,
              "#46039f"
             ],
             [
              0.2222222222222222,
              "#7201a8"
             ],
             [
              0.3333333333333333,
              "#9c179e"
             ],
             [
              0.4444444444444444,
              "#bd3786"
             ],
             [
              0.5555555555555556,
              "#d8576b"
             ],
             [
              0.6666666666666666,
              "#ed7953"
             ],
             [
              0.7777777777777778,
              "#fb9f3a"
             ],
             [
              0.8888888888888888,
              "#fdca26"
             ],
             [
              1,
              "#f0f921"
             ]
            ],
            "type": "surface"
           }
          ],
          "table": [
           {
            "cells": {
             "fill": {
              "color": "#506784"
             },
             "line": {
              "color": "rgb(17,17,17)"
             }
            },
            "header": {
             "fill": {
              "color": "#2a3f5f"
             },
             "line": {
              "color": "rgb(17,17,17)"
             }
            },
            "type": "table"
           }
          ]
         },
         "layout": {
          "annotationdefaults": {
           "arrowcolor": "#f2f5fa",
           "arrowhead": 0,
           "arrowwidth": 1
          },
          "autotypenumbers": "strict",
          "coloraxis": {
           "colorbar": {
            "outlinewidth": 0,
            "ticks": ""
           }
          },
          "colorscale": {
           "diverging": [
            [
             0,
             "#8e0152"
            ],
            [
             0.1,
             "#c51b7d"
            ],
            [
             0.2,
             "#de77ae"
            ],
            [
             0.3,
             "#f1b6da"
            ],
            [
             0.4,
             "#fde0ef"
            ],
            [
             0.5,
             "#f7f7f7"
            ],
            [
             0.6,
             "#e6f5d0"
            ],
            [
             0.7,
             "#b8e186"
            ],
            [
             0.8,
             "#7fbc41"
            ],
            [
             0.9,
             "#4d9221"
            ],
            [
             1,
             "#276419"
            ]
           ],
           "sequential": [
            [
             0,
             "#0d0887"
            ],
            [
             0.1111111111111111,
             "#46039f"
            ],
            [
             0.2222222222222222,
             "#7201a8"
            ],
            [
             0.3333333333333333,
             "#9c179e"
            ],
            [
             0.4444444444444444,
             "#bd3786"
            ],
            [
             0.5555555555555556,
             "#d8576b"
            ],
            [
             0.6666666666666666,
             "#ed7953"
            ],
            [
             0.7777777777777778,
             "#fb9f3a"
            ],
            [
             0.8888888888888888,
             "#fdca26"
            ],
            [
             1,
             "#f0f921"
            ]
           ],
           "sequentialminus": [
            [
             0,
             "#0d0887"
            ],
            [
             0.1111111111111111,
             "#46039f"
            ],
            [
             0.2222222222222222,
             "#7201a8"
            ],
            [
             0.3333333333333333,
             "#9c179e"
            ],
            [
             0.4444444444444444,
             "#bd3786"
            ],
            [
             0.5555555555555556,
             "#d8576b"
            ],
            [
             0.6666666666666666,
             "#ed7953"
            ],
            [
             0.7777777777777778,
             "#fb9f3a"
            ],
            [
             0.8888888888888888,
             "#fdca26"
            ],
            [
             1,
             "#f0f921"
            ]
           ]
          },
          "colorway": [
           "#636efa",
           "#EF553B",
           "#00cc96",
           "#ab63fa",
           "#FFA15A",
           "#19d3f3",
           "#FF6692",
           "#B6E880",
           "#FF97FF",
           "#FECB52"
          ],
          "font": {
           "color": "#f2f5fa"
          },
          "geo": {
           "bgcolor": "rgb(17,17,17)",
           "lakecolor": "rgb(17,17,17)",
           "landcolor": "rgb(17,17,17)",
           "showlakes": true,
           "showland": true,
           "subunitcolor": "#506784"
          },
          "hoverlabel": {
           "align": "left"
          },
          "hovermode": "closest",
          "mapbox": {
           "style": "dark"
          },
          "paper_bgcolor": "rgb(17,17,17)",
          "plot_bgcolor": "rgb(17,17,17)",
          "polar": {
           "angularaxis": {
            "gridcolor": "#506784",
            "linecolor": "#506784",
            "ticks": ""
           },
           "bgcolor": "rgb(17,17,17)",
           "radialaxis": {
            "gridcolor": "#506784",
            "linecolor": "#506784",
            "ticks": ""
           }
          },
          "scene": {
           "xaxis": {
            "backgroundcolor": "rgb(17,17,17)",
            "gridcolor": "#506784",
            "gridwidth": 2,
            "linecolor": "#506784",
            "showbackground": true,
            "ticks": "",
            "zerolinecolor": "#C8D4E3"
           },
           "yaxis": {
            "backgroundcolor": "rgb(17,17,17)",
            "gridcolor": "#506784",
            "gridwidth": 2,
            "linecolor": "#506784",
            "showbackground": true,
            "ticks": "",
            "zerolinecolor": "#C8D4E3"
           },
           "zaxis": {
            "backgroundcolor": "rgb(17,17,17)",
            "gridcolor": "#506784",
            "gridwidth": 2,
            "linecolor": "#506784",
            "showbackground": true,
            "ticks": "",
            "zerolinecolor": "#C8D4E3"
           }
          },
          "shapedefaults": {
           "line": {
            "color": "#f2f5fa"
           }
          },
          "sliderdefaults": {
           "bgcolor": "#C8D4E3",
           "bordercolor": "rgb(17,17,17)",
           "borderwidth": 1,
           "tickwidth": 0
          },
          "ternary": {
           "aaxis": {
            "gridcolor": "#506784",
            "linecolor": "#506784",
            "ticks": ""
           },
           "baxis": {
            "gridcolor": "#506784",
            "linecolor": "#506784",
            "ticks": ""
           },
           "bgcolor": "rgb(17,17,17)",
           "caxis": {
            "gridcolor": "#506784",
            "linecolor": "#506784",
            "ticks": ""
           }
          },
          "title": {
           "x": 0.05
          },
          "updatemenudefaults": {
           "bgcolor": "#506784",
           "borderwidth": 0
          },
          "xaxis": {
           "automargin": true,
           "gridcolor": "#283442",
           "linecolor": "#506784",
           "ticks": "",
           "title": {
            "standoff": 15
           },
           "zerolinecolor": "#283442",
           "zerolinewidth": 2
          },
          "yaxis": {
           "automargin": true,
           "gridcolor": "#283442",
           "linecolor": "#506784",
           "ticks": "",
           "title": {
            "standoff": 15
           },
           "zerolinecolor": "#283442",
           "zerolinewidth": 2
          }
         }
        },
        "xaxis": {
         "anchor": "y",
         "domain": [
          0,
          1
         ],
         "title": {
          "text": "data"
         }
        },
        "yaxis": {
         "anchor": "x",
         "domain": [
          0,
          1
         ],
         "title": {
          "text": "média móvel"
         }
        }
       }
      }
     },
     "metadata": {},
     "output_type": "display_data"
    }
   ],
   "source": [
    "ativos_media_movel = df_yahoo['Close'].rolling(90, min_periods=1).mean()\n",
    "ativos_media_movel_vertical = ativos_media_movel.stack().reset_index()\n",
    "ativos_media_movel_vertical.columns = ['data', 'ativo', 'média móvel']\n",
    "\n",
    "fig = px.line(ativos_media_movel_vertical, x=\"data\", y=\"média móvel\", color='ativo', template='plotly_dark')\n",
    "fig.show()"
   ]
  },
  {
   "cell_type": "code",
   "execution_count": 6,
   "metadata": {},
   "outputs": [
    {
     "data": {
      "application/vnd.plotly.v1+json": {
       "config": {
        "plotlyServerURL": "https://plot.ly"
       },
       "data": [
        {
         "hovertemplate": "ativo=HGRE11.SA<br>data=%{x}<br>desvio_padrao=%{y}<extra></extra>",
         "legendgroup": "HGRE11.SA",
         "line": {
          "color": "#636efa",
          "dash": "solid"
         },
         "marker": {
          "symbol": "circle"
         },
         "mode": "lines",
         "name": "HGRE11.SA",
         "orientation": "v",
         "showlegend": true,
         "type": "scatter",
         "x": [
          "2021-01-05",
          "2021-01-06",
          "2021-01-07",
          "2021-01-08",
          "2021-01-11",
          "2021-01-12",
          "2021-01-13",
          "2021-01-14",
          "2021-01-15",
          "2021-01-18",
          "2021-01-19",
          "2021-01-20",
          "2021-01-21",
          "2021-01-22",
          "2021-01-26",
          "2021-01-27",
          "2021-01-28",
          "2021-01-29",
          "2021-02-01",
          "2021-02-02",
          "2021-02-03",
          "2021-02-04",
          "2021-02-05",
          "2021-02-08",
          "2021-02-09",
          "2021-02-10",
          "2021-02-11",
          "2021-02-12",
          "2021-02-17",
          "2021-02-18",
          "2021-02-19",
          "2021-02-22",
          "2021-02-23",
          "2021-02-24",
          "2021-02-25",
          "2021-02-26",
          "2021-03-01",
          "2021-03-02",
          "2021-03-03",
          "2021-03-04",
          "2021-03-05",
          "2021-03-08",
          "2021-03-09",
          "2021-03-10",
          "2021-03-11",
          "2021-03-12",
          "2021-03-15",
          "2021-03-16",
          "2021-03-17",
          "2021-03-18",
          "2021-03-19",
          "2021-03-22",
          "2021-03-23",
          "2021-03-24",
          "2021-03-25",
          "2021-03-26",
          "2021-03-29",
          "2021-03-30",
          "2021-03-31",
          "2021-04-01",
          "2021-04-05",
          "2021-04-06",
          "2021-04-07",
          "2021-04-08",
          "2021-04-09",
          "2021-04-12",
          "2021-04-13",
          "2021-04-14",
          "2021-04-15",
          "2021-04-16",
          "2021-04-19",
          "2021-04-20",
          "2021-04-22",
          "2021-04-23",
          "2021-04-26",
          "2021-04-27",
          "2021-04-28",
          "2021-04-29",
          "2021-04-30",
          "2021-05-03",
          "2021-05-04",
          "2021-05-05",
          "2021-05-06",
          "2021-05-07",
          "2021-05-10",
          "2021-05-11",
          "2021-05-12",
          "2021-05-13",
          "2021-05-14",
          "2021-05-17",
          "2021-05-18",
          "2021-05-19",
          "2021-05-20",
          "2021-05-21",
          "2021-05-24",
          "2021-05-25",
          "2021-05-26",
          "2021-05-27",
          "2021-05-28",
          "2021-05-31",
          "2021-06-01",
          "2021-06-02",
          "2021-06-04",
          "2021-06-07",
          "2021-06-08",
          "2021-06-09",
          "2021-06-10",
          "2021-06-11",
          "2021-06-14",
          "2021-06-15",
          "2021-06-16",
          "2021-06-17",
          "2021-06-18",
          "2021-06-21",
          "2021-06-22",
          "2021-06-23",
          "2021-06-24",
          "2021-06-25",
          "2021-06-28",
          "2021-06-29",
          "2021-06-30"
         ],
         "xaxis": "x",
         "y": {
          "bdata": "Jp856xS42z+8/HAWJlzlP18B6BmmZuQ/MCPRfWfS4z/dqhzXFsrjPzQtl0zc1+0/MyiUoebI7z/S/jSpoMPtP+TxJVWGEOw/Ba4nuvnu6j8Vi/D6RrTpPymdcUrznOg/YnHz36Jq6D/Yurg9UIjnPwkehbRhvuY/1fd+UDEG5j+g7IFFc17lP9TMxf3XxOQ/KpkI5Ipn5T/Fmff+BRDlPwqx6vYeouQ/f2yQnv9C5D8ynYVrX+DkPzTKhGUyteQ/dvqDDUZN5D+8Q5fvNzrkP1kcsrmu5+M/+5ZEKgjz4z/uFVIce8PjP4ZH5blnqOM/EqtdawFY4z8BacB4J9zlPyUI+a+YeuY/OjheVQto5z9RV3fyOi/oP9E1dSiQ0eg/SE0a9ZTw6T92s5lBEf/rP7fRYR9P9+4/Y2u6GC6i8D9RtN19J6HxP8ZXYXKU7PI/Yok52Ns99D/2O5eHY931P4BrP6/qI/c/oF2E20ae+D8xGgBrHCX7P1pFnfSgtP4/KuJiGIkdAkD2BQ6KVIAEQGTb9Z48hAVAr6ijOoH2BUCxK0ZPPnsGQM3s6AgHDQdAko+kh68ECEC9dS+mbcMIQOGSg+hosAlAa9Vff9NGCkCK/o2sZQsLQI0t7aP88gtAVGDa+TkRDUDBKMXDiw4OQORnJXRn6A5AKqoSKDOeD0CCtUCD3b8PQK2Sv712LBBAZFjlibJhEECLSrrgo4EQQJs48WCFpBBAryR8FR6lEECxVbUseqsQQAkzgffdsRBAUWF+hgTGEED/mu6808wQQA3ZgHT13hBAEEx/Ss0GEUBpe5TCxBgRQNHV+q56MxFAajSld9w/EUBy6yeAw1YRQJR+3wOjdxFAvkqNHLSeEUBQuECyJ74RQFvPydhc2hFA7MPlMYAAEkCtS7W79jASQJGBv8I0eRJAe+meIVHUEkC1IIPJWi0TQEXrEz2FbRNAYZxRUnmwE0DmGZDEDxYUQOslwWVIfRRAswsZ/UrHFECNz2hXm9IUQFLAn+1fCBVAFzSMAwFXFUDxQywbAZcVQKcC9qeAzhVAm7Po0lz9FUAVXXXxKToWQEATERpTdhZAAbzioYiZFkCqfDoYhb8WQBUzAOD7uRZANKHBtwaOFkC2ZxfJ6GoWQA90YXXvPRZAIQfJ7aIXFkAwTkNu0uQVQE7Zs8eUsxVAcC6FRcWJFUC05MnSAWEVQLOpHlTfIxVAYx4zu1jYFEArugixvZsUQGOc3HlzPhRAIqQirPfoE0A3Vjw/9oETQP+BKYZM/xJAJ+O06d1+EkA=",
          "dtype": "f8"
         },
         "yaxis": "y"
        },
        {
         "hovertemplate": "ativo=ITSA4.SA<br>data=%{x}<br>desvio_padrao=%{y}<extra></extra>",
         "legendgroup": "ITSA4.SA",
         "line": {
          "color": "#EF553B",
          "dash": "solid"
         },
         "marker": {
          "symbol": "circle"
         },
         "mode": "lines",
         "name": "ITSA4.SA",
         "orientation": "v",
         "showlegend": true,
         "type": "scatter",
         "x": [
          "2021-01-05",
          "2021-01-06",
          "2021-01-07",
          "2021-01-08",
          "2021-01-11",
          "2021-01-12",
          "2021-01-13",
          "2021-01-14",
          "2021-01-15",
          "2021-01-18",
          "2021-01-19",
          "2021-01-20",
          "2021-01-21",
          "2021-01-22",
          "2021-01-26",
          "2021-01-27",
          "2021-01-28",
          "2021-01-29",
          "2021-02-01",
          "2021-02-02",
          "2021-02-03",
          "2021-02-04",
          "2021-02-05",
          "2021-02-08",
          "2021-02-09",
          "2021-02-10",
          "2021-02-11",
          "2021-02-12",
          "2021-02-17",
          "2021-02-18",
          "2021-02-19",
          "2021-02-22",
          "2021-02-23",
          "2021-02-24",
          "2021-02-25",
          "2021-02-26",
          "2021-03-01",
          "2021-03-02",
          "2021-03-03",
          "2021-03-04",
          "2021-03-05",
          "2021-03-08",
          "2021-03-09",
          "2021-03-10",
          "2021-03-11",
          "2021-03-12",
          "2021-03-15",
          "2021-03-16",
          "2021-03-17",
          "2021-03-18",
          "2021-03-19",
          "2021-03-22",
          "2021-03-23",
          "2021-03-24",
          "2021-03-25",
          "2021-03-26",
          "2021-03-29",
          "2021-03-30",
          "2021-03-31",
          "2021-04-01",
          "2021-04-05",
          "2021-04-06",
          "2021-04-07",
          "2021-04-08",
          "2021-04-09",
          "2021-04-12",
          "2021-04-13",
          "2021-04-14",
          "2021-04-15",
          "2021-04-16",
          "2021-04-19",
          "2021-04-20",
          "2021-04-22",
          "2021-04-23",
          "2021-04-26",
          "2021-04-27",
          "2021-04-28",
          "2021-04-29",
          "2021-04-30",
          "2021-05-03",
          "2021-05-04",
          "2021-05-05",
          "2021-05-06",
          "2021-05-07",
          "2021-05-10",
          "2021-05-11",
          "2021-05-12",
          "2021-05-13",
          "2021-05-14",
          "2021-05-17",
          "2021-05-18",
          "2021-05-19",
          "2021-05-20",
          "2021-05-21",
          "2021-05-24",
          "2021-05-25",
          "2021-05-26",
          "2021-05-27",
          "2021-05-28",
          "2021-05-31",
          "2021-06-01",
          "2021-06-02",
          "2021-06-04",
          "2021-06-07",
          "2021-06-08",
          "2021-06-09",
          "2021-06-10",
          "2021-06-11",
          "2021-06-14",
          "2021-06-15",
          "2021-06-16",
          "2021-06-17",
          "2021-06-18",
          "2021-06-21",
          "2021-06-22",
          "2021-06-23",
          "2021-06-24",
          "2021-06-25",
          "2021-06-28",
          "2021-06-29",
          "2021-06-30"
         ],
         "xaxis": "x",
         "y": {
          "bdata": "il8sEzOQoj9TpTletOewP9iBibWWtcY/1MNx7s7fxz85Hu8062jFP12MhtMQ48M//bqi3Y9pwj+HSyFaAk7CP4MoFru3JcI/JQdheXLDwT+wJAI5H5DCPzVQVwHSjsQ/RFRjqMUFyD+U17Iji7zLP7NSWyU+L9A/UEL9e78C0j9CGqmSQQvSPzdnM7Oj8NI/DJ4vEzYj0z/5u7hTfDbTP6pTHhZBN9M/ohKrciku0z+lSNR/8TTTP6VJfNh5d9M/K78wBmeC0z/R+9ClHp/TP1pKifjGqdM/Z2P9dZS60z9snB3oQ9jTP6mDtnK1NtQ/x8asYP2t1D9rYJCscQXWP4oDIi3r8tU/yJ0tjFX31T8bhjmsFFzWP7TOTp9c79Y/PzVQzbj21z9ffvk4cGLYPxAxJE52oNg/9I3qTweb2D+9yd5phHTYP/EcbuoGqNg/6NsDXyu82D8nSCFHAJfYP3PTGBMudtg/dl9Lf6hh2D/OufsLPUfYP2aXoYewRdg/wrS5uDsY2D8LDsrlF+PXP352x91xsdc/Zi2fFdZ71z/cAAn7GV7XP/ip8Af7Xtc/vrM/dWxA1z9x+p4itBbXP3jEOLwE8dY/Var5VjPC1j+7sk61/p3WPwYm3/4PktY/0ATu5l121j9xgBfArmXWP1XJOZ6/VdY/iUWd2PdI1j+5DnYn5EHWP8C3B3GCJ9Y/zKd9/RQP1j+jVDaXFvHVP3T2y75609U/QoMMKaWz1T+D9NUuWZvVP2S2toirgdU/jeUBUzxo1T/rRkxT70jVPzuE8OnfLNU/Sq8Zyj4j1T944xnUaQHVP9D4hzEI7NQ/OyIywqXc1D8/HCP2rcPUP3d+d/owwtQ/JqBbLV6o1D/nvLGBaI/UP6Qy655tcdQ/cYVbNo9S1D/9F1kCOzTUP7E2pCyzGtQ/LGsMinD90z8GqbiE7OPTPwuwOOuFjdM/652pTc1D0z8R7KgP8s7SP2bJM/8Z0NE/mJw5FOPO0D8jBkt4Xx7QP45Ra+03fM4/8ERi+IsLzT+YOAOtU4jKP/4VEA73fsk/cOSNPVhLyD/CEC2N/lzIPyWTogTx3Mk/Ukj5/CVxzD8Q7KhpPGnPP6DAVJ2h7NA/xmHRkRIZ0j+LZk2QnQfTP/XRQA29wdM/k6tsUSN91D+zpGqrOzbVPz+9FyXNAtY/R+49n3Sp1j/xUoQB1zHXPxfOVUowvNc/rgJVbJ9T2D/rR+pKzM3YP+fM6Le5Stk/0ThLNoWS2T9WYKeQE8bZPwetT8Wp6Nk/mX1TQE7z2T8=",
          "dtype": "f8"
         },
         "yaxis": "y"
        },
        {
         "hovertemplate": "ativo=WEGE3.SA<br>data=%{x}<br>desvio_padrao=%{y}<extra></extra>",
         "legendgroup": "WEGE3.SA",
         "line": {
          "color": "#00cc96",
          "dash": "solid"
         },
         "marker": {
          "symbol": "circle"
         },
         "mode": "lines",
         "name": "WEGE3.SA",
         "orientation": "v",
         "showlegend": true,
         "type": "scatter",
         "x": [
          "2021-01-05",
          "2021-01-06",
          "2021-01-07",
          "2021-01-08",
          "2021-01-11",
          "2021-01-12",
          "2021-01-13",
          "2021-01-14",
          "2021-01-15",
          "2021-01-18",
          "2021-01-19",
          "2021-01-20",
          "2021-01-21",
          "2021-01-22",
          "2021-01-26",
          "2021-01-27",
          "2021-01-28",
          "2021-01-29",
          "2021-02-01",
          "2021-02-02",
          "2021-02-03",
          "2021-02-04",
          "2021-02-05",
          "2021-02-08",
          "2021-02-09",
          "2021-02-10",
          "2021-02-11",
          "2021-02-12",
          "2021-02-17",
          "2021-02-18",
          "2021-02-19",
          "2021-02-22",
          "2021-02-23",
          "2021-02-24",
          "2021-02-25",
          "2021-02-26",
          "2021-03-01",
          "2021-03-02",
          "2021-03-03",
          "2021-03-04",
          "2021-03-05",
          "2021-03-08",
          "2021-03-09",
          "2021-03-10",
          "2021-03-11",
          "2021-03-12",
          "2021-03-15",
          "2021-03-16",
          "2021-03-17",
          "2021-03-18",
          "2021-03-19",
          "2021-03-22",
          "2021-03-23",
          "2021-03-24",
          "2021-03-25",
          "2021-03-26",
          "2021-03-29",
          "2021-03-30",
          "2021-03-31",
          "2021-04-01",
          "2021-04-05",
          "2021-04-06",
          "2021-04-07",
          "2021-04-08",
          "2021-04-09",
          "2021-04-12",
          "2021-04-13",
          "2021-04-14",
          "2021-04-15",
          "2021-04-16",
          "2021-04-19",
          "2021-04-20",
          "2021-04-22",
          "2021-04-23",
          "2021-04-26",
          "2021-04-27",
          "2021-04-28",
          "2021-04-29",
          "2021-04-30",
          "2021-05-03",
          "2021-05-04",
          "2021-05-05",
          "2021-05-06",
          "2021-05-07",
          "2021-05-10",
          "2021-05-11",
          "2021-05-12",
          "2021-05-13",
          "2021-05-14",
          "2021-05-17",
          "2021-05-18",
          "2021-05-19",
          "2021-05-20",
          "2021-05-21",
          "2021-05-24",
          "2021-05-25",
          "2021-05-26",
          "2021-05-27",
          "2021-05-28",
          "2021-05-31",
          "2021-06-01",
          "2021-06-02",
          "2021-06-04",
          "2021-06-07",
          "2021-06-08",
          "2021-06-09",
          "2021-06-10",
          "2021-06-11",
          "2021-06-14",
          "2021-06-15",
          "2021-06-16",
          "2021-06-17",
          "2021-06-18",
          "2021-06-21",
          "2021-06-22",
          "2021-06-23",
          "2021-06-24",
          "2021-06-25",
          "2021-06-28",
          "2021-06-29",
          "2021-06-30"
         ],
         "xaxis": "x",
         "y": {
          "bdata": "63zj34Ii+D8WmzhG0XT5P7HpLCEyUf8/0IqCcp1FBUCN6rEbuY4EQGrfR+jDZgVARRrqAPmRBUB+ug/YoDQFQAzi+KRTBgRAsDEaHACGBEBg1zqZqfYDQNpBfJ14SANA3X7YMSORAkAeJhx+KQwCQBx5GXVmkAFADF7XLSoXAUAP4+olBZsAQPmiw0v1XQBAtv3kjf4KAEDbNjX0bF3/P7+UF1alx/4/gPcGLysg/j9x88G6B6b9P2eBSzu4Ef0/zutDndCR/D8VxNWaswX8P8ym+vA+gvs/+MHajKkD+z8dfXWJv8T6PwOKgHbeoPo/Z4EEcGCB+j9vqqWld3r6P6xRW93KQvo/9Px8uqri+T+LQ0EoCJn6P4avzrtr7fs/lyO2vVvv/D+bfMzqPCL+P4ztc1FdLf8/MiNTdMXJAEDSl1iAENYBQMr9lu1IlwNAWuXlkT6RBEDCB7tu5EYFQLfNp12E8wVAqLhneWmoBkB9t19/VAAHQBCqHdJLSAdA1pCUMTaNB0BDYkCoLfEHQOdfS7DNRQhA5Mf9DQ6jCEBi/90Xs+0IQJsyJxU3TQlAFueaPk+UCUA48Y61eq4JQOk0KBEU0QlA21pNm769CUDHrYx5ZbAJQKkuIEOMmwlAVfavt5pzCUCt7tml1koJQIZCW7p2KglAgF/zuMEHCUD9FAFlLe4IQIjWIROS1AhAOtYu82TACEDSiBBEcaAIQC6LM1VWdQhALpTrst9QCEAwF3cJ1jUIQHQdRid9LghAtaXBDvsyCEDB+iL+WxwIQHBrmrENCwhAFoyPkK3/B0CA5Jnpbf8HQKXT2LZHGghAwU34a0JCCEDr3RDNt3oIQB5eEurVywhAD5A5IbXyCEDeq1lt7DgJQH+Mc0AGhglAd5cwnHD7CUDV9PvUkWkKQAO5ivZY/QpAD3dOnpJvC0CWuJG1Nc4LQH9f+vO7RAxAu/nafjW1DEBTZEjjnDYNQAYM5I0Zjg1AuxUbFQOeDUCGcWsG3q8NQE3oTfaJgA1Ak73OzhtJDUAGlcua2A8NQNnk6U6K5wxAsxykAEFMDEDM5Tk0Yd4LQAQtYaSGiQtAiquMuv0wC0AGu/LgMbgKQOPCOPSmOApAcdWLVjSxCUDCXcGg6zUJQBR1an2G/QhApTMW46KqCEDQG4ECh0AIQFuMuLGzhwdAIC8fxPMSB0D2b0e/LKUGQKvrnX0UGwZAB2OCvmSeBUA6dxijHAUFQBS/j+THPwRA/2uns1aBA0DerBiBpvgCQHifMP8DbQJAK5UCx8HoAUA=",
          "dtype": "f8"
         },
         "yaxis": "y"
        }
       ],
       "layout": {
        "legend": {
         "title": {
          "text": "ativo"
         },
         "tracegroupgap": 0
        },
        "margin": {
         "t": 60
        },
        "template": {
         "data": {
          "bar": [
           {
            "error_x": {
             "color": "#f2f5fa"
            },
            "error_y": {
             "color": "#f2f5fa"
            },
            "marker": {
             "line": {
              "color": "rgb(17,17,17)",
              "width": 0.5
             },
             "pattern": {
              "fillmode": "overlay",
              "size": 10,
              "solidity": 0.2
             }
            },
            "type": "bar"
           }
          ],
          "barpolar": [
           {
            "marker": {
             "line": {
              "color": "rgb(17,17,17)",
              "width": 0.5
             },
             "pattern": {
              "fillmode": "overlay",
              "size": 10,
              "solidity": 0.2
             }
            },
            "type": "barpolar"
           }
          ],
          "carpet": [
           {
            "aaxis": {
             "endlinecolor": "#A2B1C6",
             "gridcolor": "#506784",
             "linecolor": "#506784",
             "minorgridcolor": "#506784",
             "startlinecolor": "#A2B1C6"
            },
            "baxis": {
             "endlinecolor": "#A2B1C6",
             "gridcolor": "#506784",
             "linecolor": "#506784",
             "minorgridcolor": "#506784",
             "startlinecolor": "#A2B1C6"
            },
            "type": "carpet"
           }
          ],
          "choropleth": [
           {
            "colorbar": {
             "outlinewidth": 0,
             "ticks": ""
            },
            "type": "choropleth"
           }
          ],
          "contour": [
           {
            "colorbar": {
             "outlinewidth": 0,
             "ticks": ""
            },
            "colorscale": [
             [
              0,
              "#0d0887"
             ],
             [
              0.1111111111111111,
              "#46039f"
             ],
             [
              0.2222222222222222,
              "#7201a8"
             ],
             [
              0.3333333333333333,
              "#9c179e"
             ],
             [
              0.4444444444444444,
              "#bd3786"
             ],
             [
              0.5555555555555556,
              "#d8576b"
             ],
             [
              0.6666666666666666,
              "#ed7953"
             ],
             [
              0.7777777777777778,
              "#fb9f3a"
             ],
             [
              0.8888888888888888,
              "#fdca26"
             ],
             [
              1,
              "#f0f921"
             ]
            ],
            "type": "contour"
           }
          ],
          "contourcarpet": [
           {
            "colorbar": {
             "outlinewidth": 0,
             "ticks": ""
            },
            "type": "contourcarpet"
           }
          ],
          "heatmap": [
           {
            "colorbar": {
             "outlinewidth": 0,
             "ticks": ""
            },
            "colorscale": [
             [
              0,
              "#0d0887"
             ],
             [
              0.1111111111111111,
              "#46039f"
             ],
             [
              0.2222222222222222,
              "#7201a8"
             ],
             [
              0.3333333333333333,
              "#9c179e"
             ],
             [
              0.4444444444444444,
              "#bd3786"
             ],
             [
              0.5555555555555556,
              "#d8576b"
             ],
             [
              0.6666666666666666,
              "#ed7953"
             ],
             [
              0.7777777777777778,
              "#fb9f3a"
             ],
             [
              0.8888888888888888,
              "#fdca26"
             ],
             [
              1,
              "#f0f921"
             ]
            ],
            "type": "heatmap"
           }
          ],
          "histogram": [
           {
            "marker": {
             "pattern": {
              "fillmode": "overlay",
              "size": 10,
              "solidity": 0.2
             }
            },
            "type": "histogram"
           }
          ],
          "histogram2d": [
           {
            "colorbar": {
             "outlinewidth": 0,
             "ticks": ""
            },
            "colorscale": [
             [
              0,
              "#0d0887"
             ],
             [
              0.1111111111111111,
              "#46039f"
             ],
             [
              0.2222222222222222,
              "#7201a8"
             ],
             [
              0.3333333333333333,
              "#9c179e"
             ],
             [
              0.4444444444444444,
              "#bd3786"
             ],
             [
              0.5555555555555556,
              "#d8576b"
             ],
             [
              0.6666666666666666,
              "#ed7953"
             ],
             [
              0.7777777777777778,
              "#fb9f3a"
             ],
             [
              0.8888888888888888,
              "#fdca26"
             ],
             [
              1,
              "#f0f921"
             ]
            ],
            "type": "histogram2d"
           }
          ],
          "histogram2dcontour": [
           {
            "colorbar": {
             "outlinewidth": 0,
             "ticks": ""
            },
            "colorscale": [
             [
              0,
              "#0d0887"
             ],
             [
              0.1111111111111111,
              "#46039f"
             ],
             [
              0.2222222222222222,
              "#7201a8"
             ],
             [
              0.3333333333333333,
              "#9c179e"
             ],
             [
              0.4444444444444444,
              "#bd3786"
             ],
             [
              0.5555555555555556,
              "#d8576b"
             ],
             [
              0.6666666666666666,
              "#ed7953"
             ],
             [
              0.7777777777777778,
              "#fb9f3a"
             ],
             [
              0.8888888888888888,
              "#fdca26"
             ],
             [
              1,
              "#f0f921"
             ]
            ],
            "type": "histogram2dcontour"
           }
          ],
          "mesh3d": [
           {
            "colorbar": {
             "outlinewidth": 0,
             "ticks": ""
            },
            "type": "mesh3d"
           }
          ],
          "parcoords": [
           {
            "line": {
             "colorbar": {
              "outlinewidth": 0,
              "ticks": ""
             }
            },
            "type": "parcoords"
           }
          ],
          "pie": [
           {
            "automargin": true,
            "type": "pie"
           }
          ],
          "scatter": [
           {
            "marker": {
             "line": {
              "color": "#283442"
             }
            },
            "type": "scatter"
           }
          ],
          "scatter3d": [
           {
            "line": {
             "colorbar": {
              "outlinewidth": 0,
              "ticks": ""
             }
            },
            "marker": {
             "colorbar": {
              "outlinewidth": 0,
              "ticks": ""
             }
            },
            "type": "scatter3d"
           }
          ],
          "scattercarpet": [
           {
            "marker": {
             "colorbar": {
              "outlinewidth": 0,
              "ticks": ""
             }
            },
            "type": "scattercarpet"
           }
          ],
          "scattergeo": [
           {
            "marker": {
             "colorbar": {
              "outlinewidth": 0,
              "ticks": ""
             }
            },
            "type": "scattergeo"
           }
          ],
          "scattergl": [
           {
            "marker": {
             "line": {
              "color": "#283442"
             }
            },
            "type": "scattergl"
           }
          ],
          "scattermap": [
           {
            "marker": {
             "colorbar": {
              "outlinewidth": 0,
              "ticks": ""
             }
            },
            "type": "scattermap"
           }
          ],
          "scattermapbox": [
           {
            "marker": {
             "colorbar": {
              "outlinewidth": 0,
              "ticks": ""
             }
            },
            "type": "scattermapbox"
           }
          ],
          "scatterpolar": [
           {
            "marker": {
             "colorbar": {
              "outlinewidth": 0,
              "ticks": ""
             }
            },
            "type": "scatterpolar"
           }
          ],
          "scatterpolargl": [
           {
            "marker": {
             "colorbar": {
              "outlinewidth": 0,
              "ticks": ""
             }
            },
            "type": "scatterpolargl"
           }
          ],
          "scatterternary": [
           {
            "marker": {
             "colorbar": {
              "outlinewidth": 0,
              "ticks": ""
             }
            },
            "type": "scatterternary"
           }
          ],
          "surface": [
           {
            "colorbar": {
             "outlinewidth": 0,
             "ticks": ""
            },
            "colorscale": [
             [
              0,
              "#0d0887"
             ],
             [
              0.1111111111111111,
              "#46039f"
             ],
             [
              0.2222222222222222,
              "#7201a8"
             ],
             [
              0.3333333333333333,
              "#9c179e"
             ],
             [
              0.4444444444444444,
              "#bd3786"
             ],
             [
              0.5555555555555556,
              "#d8576b"
             ],
             [
              0.6666666666666666,
              "#ed7953"
             ],
             [
              0.7777777777777778,
              "#fb9f3a"
             ],
             [
              0.8888888888888888,
              "#fdca26"
             ],
             [
              1,
              "#f0f921"
             ]
            ],
            "type": "surface"
           }
          ],
          "table": [
           {
            "cells": {
             "fill": {
              "color": "#506784"
             },
             "line": {
              "color": "rgb(17,17,17)"
             }
            },
            "header": {
             "fill": {
              "color": "#2a3f5f"
             },
             "line": {
              "color": "rgb(17,17,17)"
             }
            },
            "type": "table"
           }
          ]
         },
         "layout": {
          "annotationdefaults": {
           "arrowcolor": "#f2f5fa",
           "arrowhead": 0,
           "arrowwidth": 1
          },
          "autotypenumbers": "strict",
          "coloraxis": {
           "colorbar": {
            "outlinewidth": 0,
            "ticks": ""
           }
          },
          "colorscale": {
           "diverging": [
            [
             0,
             "#8e0152"
            ],
            [
             0.1,
             "#c51b7d"
            ],
            [
             0.2,
             "#de77ae"
            ],
            [
             0.3,
             "#f1b6da"
            ],
            [
             0.4,
             "#fde0ef"
            ],
            [
             0.5,
             "#f7f7f7"
            ],
            [
             0.6,
             "#e6f5d0"
            ],
            [
             0.7,
             "#b8e186"
            ],
            [
             0.8,
             "#7fbc41"
            ],
            [
             0.9,
             "#4d9221"
            ],
            [
             1,
             "#276419"
            ]
           ],
           "sequential": [
            [
             0,
             "#0d0887"
            ],
            [
             0.1111111111111111,
             "#46039f"
            ],
            [
             0.2222222222222222,
             "#7201a8"
            ],
            [
             0.3333333333333333,
             "#9c179e"
            ],
            [
             0.4444444444444444,
             "#bd3786"
            ],
            [
             0.5555555555555556,
             "#d8576b"
            ],
            [
             0.6666666666666666,
             "#ed7953"
            ],
            [
             0.7777777777777778,
             "#fb9f3a"
            ],
            [
             0.8888888888888888,
             "#fdca26"
            ],
            [
             1,
             "#f0f921"
            ]
           ],
           "sequentialminus": [
            [
             0,
             "#0d0887"
            ],
            [
             0.1111111111111111,
             "#46039f"
            ],
            [
             0.2222222222222222,
             "#7201a8"
            ],
            [
             0.3333333333333333,
             "#9c179e"
            ],
            [
             0.4444444444444444,
             "#bd3786"
            ],
            [
             0.5555555555555556,
             "#d8576b"
            ],
            [
             0.6666666666666666,
             "#ed7953"
            ],
            [
             0.7777777777777778,
             "#fb9f3a"
            ],
            [
             0.8888888888888888,
             "#fdca26"
            ],
            [
             1,
             "#f0f921"
            ]
           ]
          },
          "colorway": [
           "#636efa",
           "#EF553B",
           "#00cc96",
           "#ab63fa",
           "#FFA15A",
           "#19d3f3",
           "#FF6692",
           "#B6E880",
           "#FF97FF",
           "#FECB52"
          ],
          "font": {
           "color": "#f2f5fa"
          },
          "geo": {
           "bgcolor": "rgb(17,17,17)",
           "lakecolor": "rgb(17,17,17)",
           "landcolor": "rgb(17,17,17)",
           "showlakes": true,
           "showland": true,
           "subunitcolor": "#506784"
          },
          "hoverlabel": {
           "align": "left"
          },
          "hovermode": "closest",
          "mapbox": {
           "style": "dark"
          },
          "paper_bgcolor": "rgb(17,17,17)",
          "plot_bgcolor": "rgb(17,17,17)",
          "polar": {
           "angularaxis": {
            "gridcolor": "#506784",
            "linecolor": "#506784",
            "ticks": ""
           },
           "bgcolor": "rgb(17,17,17)",
           "radialaxis": {
            "gridcolor": "#506784",
            "linecolor": "#506784",
            "ticks": ""
           }
          },
          "scene": {
           "xaxis": {
            "backgroundcolor": "rgb(17,17,17)",
            "gridcolor": "#506784",
            "gridwidth": 2,
            "linecolor": "#506784",
            "showbackground": true,
            "ticks": "",
            "zerolinecolor": "#C8D4E3"
           },
           "yaxis": {
            "backgroundcolor": "rgb(17,17,17)",
            "gridcolor": "#506784",
            "gridwidth": 2,
            "linecolor": "#506784",
            "showbackground": true,
            "ticks": "",
            "zerolinecolor": "#C8D4E3"
           },
           "zaxis": {
            "backgroundcolor": "rgb(17,17,17)",
            "gridcolor": "#506784",
            "gridwidth": 2,
            "linecolor": "#506784",
            "showbackground": true,
            "ticks": "",
            "zerolinecolor": "#C8D4E3"
           }
          },
          "shapedefaults": {
           "line": {
            "color": "#f2f5fa"
           }
          },
          "sliderdefaults": {
           "bgcolor": "#C8D4E3",
           "bordercolor": "rgb(17,17,17)",
           "borderwidth": 1,
           "tickwidth": 0
          },
          "ternary": {
           "aaxis": {
            "gridcolor": "#506784",
            "linecolor": "#506784",
            "ticks": ""
           },
           "baxis": {
            "gridcolor": "#506784",
            "linecolor": "#506784",
            "ticks": ""
           },
           "bgcolor": "rgb(17,17,17)",
           "caxis": {
            "gridcolor": "#506784",
            "linecolor": "#506784",
            "ticks": ""
           }
          },
          "title": {
           "x": 0.05
          },
          "updatemenudefaults": {
           "bgcolor": "#506784",
           "borderwidth": 0
          },
          "xaxis": {
           "automargin": true,
           "gridcolor": "#283442",
           "linecolor": "#506784",
           "ticks": "",
           "title": {
            "standoff": 15
           },
           "zerolinecolor": "#283442",
           "zerolinewidth": 2
          },
          "yaxis": {
           "automargin": true,
           "gridcolor": "#283442",
           "linecolor": "#506784",
           "ticks": "",
           "title": {
            "standoff": 15
           },
           "zerolinecolor": "#283442",
           "zerolinewidth": 2
          }
         }
        },
        "xaxis": {
         "anchor": "y",
         "domain": [
          0,
          1
         ],
         "title": {
          "text": "data"
         }
        },
        "yaxis": {
         "anchor": "x",
         "domain": [
          0,
          1
         ],
         "title": {
          "text": "desvio_padrao"
         }
        }
       }
      }
     },
     "metadata": {},
     "output_type": "display_data"
    }
   ],
   "source": [
    "ativos_desvio_padrao = df_yahoo['Close'].rolling(90, min_periods=1).std()\n",
    "ativos_desvio_padrao_vertical = ativos_desvio_padrao.stack().reset_index()\n",
    "ativos_desvio_padrao_vertical.columns = ['data', 'ativo', 'desvio_padrao']\n",
    "\n",
    "fig = px.line(ativos_desvio_padrao_vertical, x=\"data\", y=\"desvio_padrao\", color='ativo', template='plotly_dark')\n",
    "fig.show()"
   ]
  },
  {
   "attachments": {
    "newplot%20%281%29.png": {
     "image/png": "[encoded data removed]"
    }
   },
   "cell_type": "markdown",
   "metadata": {},
   "source": [
    "![newplot%20%281%29.png](attachment:newplot%20%281%29.png)"
   ]
  },
  {
   "cell_type": "markdown",
   "metadata": {},
   "source": [
    "#### 3. Gráfico de *candlestick*\n",
    "1. Selecione o período dos últimos 60 dias (corridos) para um dos ativos da sua base\n",
    "2. Monte um gráfico de *candlestick* para esses dados."
   ]
  },
  {
   "cell_type": "code",
   "execution_count": 12,
   "metadata": {},
   "outputs": [
    {
     "data": {
      "text/html": [
       "<div>\n",
       "<style scoped>\n",
       "    .dataframe tbody tr th:only-of-type {\n",
       "        vertical-align: middle;\n",
       "    }\n",
       "\n",
       "    .dataframe tbody tr th {\n",
       "        vertical-align: top;\n",
       "    }\n",
       "\n",
       "    .dataframe thead th {\n",
       "        text-align: right;\n",
       "    }\n",
       "</style>\n",
       "<table border=\"1\" class=\"dataframe\">\n",
       "  <thead>\n",
       "    <tr style=\"text-align: right;\">\n",
       "      <th></th>\n",
       "      <th>Close</th>\n",
       "      <th>High</th>\n",
       "      <th>Low</th>\n",
       "      <th>Open</th>\n",
       "      <th>Volume</th>\n",
       "    </tr>\n",
       "    <tr>\n",
       "      <th>Date</th>\n",
       "      <th></th>\n",
       "      <th></th>\n",
       "      <th></th>\n",
       "      <th></th>\n",
       "      <th></th>\n",
       "    </tr>\n",
       "  </thead>\n",
       "  <tbody>\n",
       "    <tr>\n",
       "      <th>2021-01-04</th>\n",
       "      <td>34.756058</td>\n",
       "      <td>35.580476</td>\n",
       "      <td>34.700164</td>\n",
       "      <td>35.328958</td>\n",
       "      <td>7219800</td>\n",
       "    </tr>\n",
       "    <tr>\n",
       "      <th>2021-01-05</th>\n",
       "      <td>36.889294</td>\n",
       "      <td>36.889294</td>\n",
       "      <td>34.467271</td>\n",
       "      <td>34.770024</td>\n",
       "      <td>16633600</td>\n",
       "    </tr>\n",
       "    <tr>\n",
       "      <th>2021-01-06</th>\n",
       "      <td>37.867428</td>\n",
       "      <td>38.878157</td>\n",
       "      <td>36.390922</td>\n",
       "      <td>36.968484</td>\n",
       "      <td>21507400</td>\n",
       "    </tr>\n",
       "    <tr>\n",
       "      <th>2021-01-07</th>\n",
       "      <td>39.432434</td>\n",
       "      <td>39.595454</td>\n",
       "      <td>38.118948</td>\n",
       "      <td>38.370466</td>\n",
       "      <td>15129600</td>\n",
       "    </tr>\n",
       "    <tr>\n",
       "      <th>2021-01-08</th>\n",
       "      <td>41.817188</td>\n",
       "      <td>41.915000</td>\n",
       "      <td>39.520922</td>\n",
       "      <td>39.567499</td>\n",
       "      <td>17381000</td>\n",
       "    </tr>\n",
       "  </tbody>\n",
       "</table>\n",
       "</div>"
      ],
      "text/plain": [
       "                Close       High        Low       Open    Volume\n",
       "Date                                                            \n",
       "2021-01-04  34.756058  35.580476  34.700164  35.328958   7219800\n",
       "2021-01-05  36.889294  36.889294  34.467271  34.770024  16633600\n",
       "2021-01-06  37.867428  38.878157  36.390922  36.968484  21507400\n",
       "2021-01-07  39.432434  39.595454  38.118948  38.370466  15129600\n",
       "2021-01-08  41.817188  41.915000  39.520922  39.567499  17381000"
      ]
     },
     "execution_count": 12,
     "metadata": {},
     "output_type": "execute_result"
    }
   ],
   "source": [
    "lista_indicadores = ['Close', 'High', 'Low', 'Open', 'Volume']\n",
    "ativo = ['WEGE3.SA']*len(lista_indicadores)\n",
    "colunas = list(zip(lista_indicadores, ativo))\n",
    "\n",
    "wege = df_yahoo.loc['01/11/2022':, colunas]\n",
    "wege.columns = lista_indicadores\n",
    "\n",
    "wege.head()"
   ]
  },
  {
   "cell_type": "code",
   "execution_count": 13,
   "metadata": {},
   "outputs": [],
   "source": [
    "graph = {\n",
    "    'x': wege.index,\n",
    "    'open': wege.Open,\n",
    "    'close': wege.Close,\n",
    "    'high': wege.High,\n",
    "    'low': wege.Low,\n",
    "    'type': 'candlestick',\n",
    "    'name': 'WEGE3.SA',\n",
    "    'showlegend': True\n",
    "}"
   ]
  },
  {
   "cell_type": "code",
   "execution_count": 14,
   "metadata": {},
   "outputs": [
    {
     "data": {
      "application/vnd.plotly.v1+json": {
       "config": {
        "plotlyServerURL": "https://plot.ly"
       },
       "data": [
        {
         "close": {
          "bdata": "AAAAgMZgQUAAAABg1HFCQP///98H70JAAAAAAFq3Q0AAAACgmehEQAAAAACmRERAAAAAgOP5REAAAADgaAZFQAAAAID37URAAAAAgMcQREAAAACAeXlFQAAAAIDe3URAAQAA4DWoRED///+/nGlEQAAAACBPuERAAAAAAB63REAAAADAnadEQAAAAGCwfERAAAAAoHuDQ0ABAAAgMrBDQAAAAIBV2UNAAAAAYGymREAAAACAmu1DQAAAAODPrUNAAAAAoG7pQ0AAAAAAOMxDQAAAAEAHCURAAAAAANxCREAAAABALy9EQAEAAEAFjUNAAAAAQAlrQ0AAAAAAsWJDQAAAAOCwQ0NAAQAAQLt7Q0AAAAAg+TBEQAAAAKCGoUJAAAAA4EQtQkAAAABAMj9CQAAAAODmBkJAAAAAQE8DQkAAAAAAiSFBQAAAAKAnFkFAAAAAYDItQEAAAAAg7rlAQAAAAKCk6EBAAAAA4BTTQEAAAAAg+KRAQAAAAODvIEFAAAAAgLcrQUAAAACgIx9BQAAAAMB+zEBAAAAAAOHUQEAAAADg861AQAAAAICEwEBAAQAAQD1/QEAAAADALaBAQAAAAGAwBEFAAAAAQN/fQEAAAADAnpBBQAAAAABDc0FAAAAAIDiRQUAAAAAAEABCQAEAACByC0JAAAAAICDTQUAAAACgGeVBQAAAAIAurEFAAAAAgC6sQUAAAADgbIxBQAAAAABS10FAAAAAIFhTQkAAAABgcwhCQAAAAECOvUFAAAAAgOtJQUAAAADgmg5BQAAAAOA0mkFAAAAAwHR3QUAAAABg6FJBQAAAAGDLFUFAAAAAIMScQEAAAABAP2NAQAAAAMAkIEBA////H4qMP0AAAACATD9AQAAAACC7kz9AAQAAYG9JP0AAAAAAaj8+QAAAAOCeOj5AAQAAwCpGPUAAAACAL8U9QP////8VDT5AAAAAYNwdPkAAAAAA/FQ+QAAAAEBBlT1A////H5HTPUAAAAAgnq89QAAAAMDlkD5A////f5bdPkAAAAAg2LQ+QAAAAMA+tz5AAAAAwCYaQEAAAADAY/g/QAAAAKD8AEBAAAAAQKBQP0AAAABglQRAQAAAAGCY8z9AAQAAQDvZP0ABAABALQhAQAAAAMCpwz9AAQAAIGIDQEAAAACAq1NAQAAAAAAsmUBAAAAAwK1NQEAAAAAgjBxAQAAAACDReEBAAAAAgAGAQEAAAABg+AxAQP///590yD9AAAAAQMMRQEAAAAAg/Wo/QAAAAIBt2T9AAAAAAKVAQEABAACgFY8/QA==",
          "dtype": "f8"
         },
         "high": {
          "bdata": "aO4JC03KQUAAAABg1HFCQNvSIW9ncENAiu+n2DfMQ0DqAXa7HvVEQCYUtCDzD0VA31/KjssnRUCtQqfLlmdFQCwdKvD4SkVALiXVfCktRUCAQJe5b39FQOt7X7bY20VA5ndq1l9KRUAOqijBitJEQNmTOJ7Z4ERAAdJll0I9RUDH+j3aJDBFQDt8HhsKw0RAN+/ZhFiTREBfj6IbRwFEQBe7CrGIVkRAAAAAYGymREA27HtSfPpEQHkw4Y2gKERAAOAdRhw7REDj4HOoQgREQKvX2uLHL0RAsdytHjulREC82YFfjVNEQKENwrmkBkRAavTUZRm/Q0B9EanCz61DQFrhf6/epENAg+OnFa2jQ0AwAGQwXZBEQABLgCMmVERAgMrOvkglQ0DZudVf+7BCQPp08bMjXUJASbIvLwE7QkAx/qcreRZCQONMKqxrXUFA4nUgk9H1QEBLqlOP8hpBQA0AfGbU70BAnzOwlL8ZQUBFWMmKqN9AQDM95Ct8PEFAB9myvqRSQUAbSX+KuChBQD9GJgfKBEFAWOTiYNjmQEB/fR2NCetAQDvLbwn+AkFAxF4ILV0RQUBMOo1jU7xAQAxj4TflNUFAbOgAF9AJQUAEbYbzlahBQHjrIOAb30FA+L3AIpsnQkCMA0iPCg9CQOAn2FjHOkJAN3vni2waQkDKvgVDCBVCQOSeQs6F1UFAzxJOKKcGQkDpm1r36tdBQD4kwPNuFEJACaHUuVNfQkD+m0JgT2tCQLNQWgfTGUJAShgannrzQUAH7fwalatBQJETfS2XpUFAnyDgoiTHQUASdLP41YVBQOiu2vZiNUJAShBBO745QUBxZFqZYJRAQOB8DukBgEBAmeHVW4M0QEAHvxPYr0dAQFMBL8DvJEBAv1QkxQrSP0BqvRLum1w/QFmwtrz7VD5AxMpc1nYbPkAxqwnMbTM+QDbGY4pUez5A14yJz9M1PkC9rIBgiXY+QKzxsz4EPT5Ap+eBo8HaPUAyWGkpkdM9QE40qWk1zz5AUoAj63ywP0DfGIOapM8/QFJjcHSBGT9A0xUvLYwcQECeK93whS5AQK2gGXbtKkBAUp01oJAQQEC57dhuKw5AQDKcXMNbFUBAMc/PqkNXQECXN3U5wRdAQBSM47a6KUBAIRPWuiYaQEDWTU7biq1AQFkT/KmGuUBACytXXSWrQEDUlUvvEFZAQAAAACDReEBAMblFQOXNQEABSOdxCmhAQIHvlGFMP0BAXEjvlyYaQEBgZj2NgzRAQCxtdCIA+z9AY4ukIgdVQEDmLuLC2y9AQA==",
          "dtype": "f8"
         },
         "low": {
          "bdata": "G+nM9Z5ZQUDBPXSGzztBQK/eiLcJMkJAjMCErjkPQ0CrnGOVrcJDQOyAr3pWF0RAzSBiBWoqREACKe0Bxa5EQDF8ZZDe3URAgZh3oxDkQ0AMr7KH7zZEQA/ONDQUvURAvELD2+uWREAiXwqHpSVEQEdZNYg9B0RAjl/pwU6ZREBUq6RfhHhEQIEKzsmMNERASqLFM8V1Q0A56wroOmxDQHP2GPRAp0NAweWQHWTQQ0AAAACAmu1DQPiV1IpUm0NADuU1hOieQ0CfFnyhCopDQEyxpSSUk0NAoEY0f2UtREDMZM6fWvVDQOaSDj26PUNAfSbNzxshQ0DHbauI6z5DQDLrVLt4yUJAhIUVg3QKQ0CcQ7asHrxDQM0ETLcylkJAecyXXOIqQkBjJ3ayQCFCQFaNggK6j0FAJekX8uYyQUATbM8RaflAQGVUU7wunUBAOQnbdWYrQECoft1BikpAQASMTCgoQkBAIXek22WVQEAUaZm1EHJAQCjMtGkFikBAj3uPO+TOQEC8qs7L5shAQPqI9HyHukBArIlXuAONQEBQ7GV6FmZAQHRNblwMe0BAkdFrP6tvQEAE2t0161VAQCODA0r8m0BA3rZFBoqwQEB0dKCsHr1AQCmGXFboUkFA5ApHuT5/QUATZwmEWcJBQDu+eixVzkFAOFOBPy6sQUBKGIMlLLJBQKmI2BEZWkFAVD5UU5iiQUBvW3R8P3xBQNOr5G6Zn0FAfTvdpYPbQUC5dxx1dQJCQAAAAECOvUFApE2jMok+QUAAAADgmg5BQE6uQ533KEFA+MO6PhtUQUB5tTZeKipBQKXZ74qj9kBAGOAXLZx9QEBzN+9MIiZAQG9w2iRgCUBAEXDJsJJ0P0Bizd+hb0k/QHmTTGx4MT9AVae8gijzPkDXlEQqbjM+QGD8rNFxnD1AAQAAwCpGPUCLqwJvHWo9QOP0p5Dy4T1Abl+17TyhPUApOwQfI+k9QAAAAEBBlT1A69xnka9/PUDGRbP1Aic9QBTxxmc4rT1AefeM+tPAPkB7HE8Zd6Y+QCJLGEnmkD5ALkT9Ywm8PkAd8u7l65o/QDr3E/O6kz9AJCu/Q4UNP0Adru0bN1o/QF8jlJIOOz9AQO0X5JJ0P0BZ0IGpdMg/QN2ZT1Ypfj9ALMAcjYGkP0BFfGGLxQtAQLrG2se4L0BAqvmrDh4yQEClpp6sk/8/QNyFDl74DEBAgxg+lQ5cQEBGZE/jk/8/QKqK1paBpD9AgeShDhO6P0CbzQQ6rSw/QEtrfVCmxT5AYA9zUoB5P0CUjhPetHQ/QA==",
          "dtype": "f8"
         },
         "name": "WEGE3.SA",
         "open": {
          "bdata": "EeTaSRuqQUBmhRkpkGJBQItnckf3e0JAKp32b2svQ0DcGvjOo8hDQHyDzEFPuERAFztrkH5cREApyjXZowFFQFnXXh7gOkVAKBxogwDJREBrsJaV6jlEQPzJzPDNo0VAXsUVjoEWRUDtUoYUGbpEQBN6hiQ5KURAn+Hs+Oe4REBPHWXi57hEQN6sgHhJnERADqTJxRJgRECo32mGEORDQA3QlY89B0RAlZMy6qQGRECBYHVdLK5EQEMUQlSqIkRA81rFlry5Q0Czxd5+wbZDQOrLLrSB3UNAoEY0f2UtREA//ges5TxEQGTpaU19/0NAdbaSkDpsQ0BEf1RLCopDQLSzNUO1IUNAAm7V9GFUQ0D6U9mD/Q5EQM1PzDrSSERAiTSo6VW/QkDsJNjWSnZCQDHdOhTkDEJAk6QcKhsFQkCNmofpExRCQI1w2kJNMkFAWq6gq7THQECqD+jcGl1AQFrjInOq3EBAHR5flPYRQUC+tuO6iLdAQDN5wYiXmUBAsM9xBRRAQUBxtJJv1exAQKzf8NE670BAx7Uk8njYQEAx56AM7rlAQNx14gwIhEBAlieaKOXLQECbOzKYPX9AQMgffnb2p0BA6TwDDd3lQEAIqfAaTcpAQE+w8JD7qkFAP/lejmaeQUCkKfU/6tpBQGp6m0wIFUJAjJ3J/HELQkCPcfKbhNhBQMpJtQf0v0FAJV3S5ie+QUDd9XopL6lBQPkO0TuXpUFAD4vjdhbuQUBxPG8Kw0ZCQMXdtW3XDUJAbeKHvZOuQUCs8Jjdqm9BQH3953W/NkFAKGA12P2kQUDokatdEW9BQPYKmbCF1UFAw8Ry8fscQUBxZFqZYJRAQO+jWsoMYkBAb39qnSYaQEByLz44hpg/QHkuAJrFC0BAqAi8pUypP0D1ddWUb0k/QKdgXMZX5D1A1KD9ivbVPUCs0+4e5Ho9QPNsgJyjLj5AM4ebhREZPkCIkUTP6fk9QLogHGge9T1AGRggk22oPUAyWGkpkdM9QBTxxmc4rT1ATs0p7fvfPkC9zxzw2D8/QJX5oIbQzD5A+UlW2mHiPkDzrsn+JhpAQCgGC8YmGkBAYRNGey8CQEAKH/q1MmY/QN0MUHZj+D9AuBG6KXDUP0B/XPsspc8/QO/XEvhdD0BAC0r0f6nDP0CtdUfOJhpAQOpcmYCpWUBACytXXSWrQEC7Vylkq1NAQEIiGbZbFUBAEJPdEdNyQEABSOdxCmhAQLkQtZROOUBAxo5K/WEDQEDVpG6KZ+w/QOKRAcLpbz9AEG0sV6iwP0AlIBsBqihAQA==",
          "dtype": "f8"
         },
         "showlegend": true,
         "type": "candlestick",
         "x": [
          "2021-01-04",
          "2021-01-05",
          "2021-01-06",
          "2021-01-07",
          "2021-01-08",
          "2021-01-11",
          "2021-01-12",
          "2021-01-13",
          "2021-01-14",
          "2021-01-15",
          "2021-01-18",
          "2021-01-19",
          "2021-01-20",
          "2021-01-21",
          "2021-01-22",
          "2021-01-26",
          "2021-01-27",
          "2021-01-28",
          "2021-01-29",
          "2021-02-01",
          "2021-02-02",
          "2021-02-03",
          "2021-02-04",
          "2021-02-05",
          "2021-02-08",
          "2021-02-09",
          "2021-02-10",
          "2021-02-11",
          "2021-02-12",
          "2021-02-17",
          "2021-02-18",
          "2021-02-19",
          "2021-02-22",
          "2021-02-23",
          "2021-02-24",
          "2021-02-25",
          "2021-02-26",
          "2021-03-01",
          "2021-03-02",
          "2021-03-03",
          "2021-03-04",
          "2021-03-05",
          "2021-03-08",
          "2021-03-09",
          "2021-03-10",
          "2021-03-11",
          "2021-03-12",
          "2021-03-15",
          "2021-03-16",
          "2021-03-17",
          "2021-03-18",
          "2021-03-19",
          "2021-03-22",
          "2021-03-23",
          "2021-03-24",
          "2021-03-25",
          "2021-03-26",
          "2021-03-29",
          "2021-03-30",
          "2021-03-31",
          "2021-04-01",
          "2021-04-05",
          "2021-04-06",
          "2021-04-07",
          "2021-04-08",
          "2021-04-09",
          "2021-04-12",
          "2021-04-13",
          "2021-04-14",
          "2021-04-15",
          "2021-04-16",
          "2021-04-19",
          "2021-04-20",
          "2021-04-22",
          "2021-04-23",
          "2021-04-26",
          "2021-04-27",
          "2021-04-28",
          "2021-04-29",
          "2021-04-30",
          "2021-05-03",
          "2021-05-04",
          "2021-05-05",
          "2021-05-06",
          "2021-05-07",
          "2021-05-10",
          "2021-05-11",
          "2021-05-12",
          "2021-05-13",
          "2021-05-14",
          "2021-05-17",
          "2021-05-18",
          "2021-05-19",
          "2021-05-20",
          "2021-05-21",
          "2021-05-24",
          "2021-05-25",
          "2021-05-26",
          "2021-05-27",
          "2021-05-28",
          "2021-05-31",
          "2021-06-01",
          "2021-06-02",
          "2021-06-04",
          "2021-06-07",
          "2021-06-08",
          "2021-06-09",
          "2021-06-10",
          "2021-06-11",
          "2021-06-14",
          "2021-06-15",
          "2021-06-16",
          "2021-06-17",
          "2021-06-18",
          "2021-06-21",
          "2021-06-22",
          "2021-06-23",
          "2021-06-24",
          "2021-06-25",
          "2021-06-28",
          "2021-06-29",
          "2021-06-30"
         ]
        }
       ],
       "layout": {
        "template": {
         "data": {
          "bar": [
           {
            "error_x": {
             "color": "#2a3f5f"
            },
            "error_y": {
             "color": "#2a3f5f"
            },
            "marker": {
             "line": {
              "color": "#E5ECF6",
              "width": 0.5
             },
             "pattern": {
              "fillmode": "overlay",
              "size": 10,
              "solidity": 0.2
             }
            },
            "type": "bar"
           }
          ],
          "barpolar": [
           {
            "marker": {
             "line": {
              "color": "#E5ECF6",
              "width": 0.5
             },
             "pattern": {
              "fillmode": "overlay",
              "size": 10,
              "solidity": 0.2
             }
            },
            "type": "barpolar"
           }
          ],
          "carpet": [
           {
            "aaxis": {
             "endlinecolor": "#2a3f5f",
             "gridcolor": "white",
             "linecolor": "white",
             "minorgridcolor": "white",
             "startlinecolor": "#2a3f5f"
            },
            "baxis": {
             "endlinecolor": "#2a3f5f",
             "gridcolor": "white",
             "linecolor": "white",
             "minorgridcolor": "white",
             "startlinecolor": "#2a3f5f"
            },
            "type": "carpet"
           }
          ],
          "choropleth": [
           {
            "colorbar": {
             "outlinewidth": 0,
             "ticks": ""
            },
            "type": "choropleth"
           }
          ],
          "contour": [
           {
            "colorbar": {
             "outlinewidth": 0,
             "ticks": ""
            },
            "colorscale": [
             [
              0,
              "#0d0887"
             ],
             [
              0.1111111111111111,
              "#46039f"
             ],
             [
              0.2222222222222222,
              "#7201a8"
             ],
             [
              0.3333333333333333,
              "#9c179e"
             ],
             [
              0.4444444444444444,
              "#bd3786"
             ],
             [
              0.5555555555555556,
              "#d8576b"
             ],
             [
              0.6666666666666666,
              "#ed7953"
             ],
             [
              0.7777777777777778,
              "#fb9f3a"
             ],
             [
              0.8888888888888888,
              "#fdca26"
             ],
             [
              1,
              "#f0f921"
             ]
            ],
            "type": "contour"
           }
          ],
          "contourcarpet": [
           {
            "colorbar": {
             "outlinewidth": 0,
             "ticks": ""
            },
            "type": "contourcarpet"
           }
          ],
          "heatmap": [
           {
            "colorbar": {
             "outlinewidth": 0,
             "ticks": ""
            },
            "colorscale": [
             [
              0,
              "#0d0887"
             ],
             [
              0.1111111111111111,
              "#46039f"
             ],
             [
              0.2222222222222222,
              "#7201a8"
             ],
             [
              0.3333333333333333,
              "#9c179e"
             ],
             [
              0.4444444444444444,
              "#bd3786"
             ],
             [
              0.5555555555555556,
              "#d8576b"
             ],
             [
              0.6666666666666666,
              "#ed7953"
             ],
             [
              0.7777777777777778,
              "#fb9f3a"
             ],
             [
              0.8888888888888888,
              "#fdca26"
             ],
             [
              1,
              "#f0f921"
             ]
            ],
            "type": "heatmap"
           }
          ],
          "histogram": [
           {
            "marker": {
             "pattern": {
              "fillmode": "overlay",
              "size": 10,
              "solidity": 0.2
             }
            },
            "type": "histogram"
           }
          ],
          "histogram2d": [
           {
            "colorbar": {
             "outlinewidth": 0,
             "ticks": ""
            },
            "colorscale": [
             [
              0,
              "#0d0887"
             ],
             [
              0.1111111111111111,
              "#46039f"
             ],
             [
              0.2222222222222222,
              "#7201a8"
             ],
             [
              0.3333333333333333,
              "#9c179e"
             ],
             [
              0.4444444444444444,
              "#bd3786"
             ],
             [
              0.5555555555555556,
              "#d8576b"
             ],
             [
              0.6666666666666666,
              "#ed7953"
             ],
             [
              0.7777777777777778,
              "#fb9f3a"
             ],
             [
              0.8888888888888888,
              "#fdca26"
             ],
             [
              1,
              "#f0f921"
             ]
            ],
            "type": "histogram2d"
           }
          ],
          "histogram2dcontour": [
           {
            "colorbar": {
             "outlinewidth": 0,
             "ticks": ""
            },
            "colorscale": [
             [
              0,
              "#0d0887"
             ],
             [
              0.1111111111111111,
              "#46039f"
             ],
             [
              0.2222222222222222,
              "#7201a8"
             ],
             [
              0.3333333333333333,
              "#9c179e"
             ],
             [
              0.4444444444444444,
              "#bd3786"
             ],
             [
              0.5555555555555556,
              "#d8576b"
             ],
             [
              0.6666666666666666,
              "#ed7953"
             ],
             [
              0.7777777777777778,
              "#fb9f3a"
             ],
             [
              0.8888888888888888,
              "#fdca26"
             ],
             [
              1,
              "#f0f921"
             ]
            ],
            "type": "histogram2dcontour"
           }
          ],
          "mesh3d": [
           {
            "colorbar": {
             "outlinewidth": 0,
             "ticks": ""
            },
            "type": "mesh3d"
           }
          ],
          "parcoords": [
           {
            "line": {
             "colorbar": {
              "outlinewidth": 0,
              "ticks": ""
             }
            },
            "type": "parcoords"
           }
          ],
          "pie": [
           {
            "automargin": true,
            "type": "pie"
           }
          ],
          "scatter": [
           {
            "fillpattern": {
             "fillmode": "overlay",
             "size": 10,
             "solidity": 0.2
            },
            "type": "scatter"
           }
          ],
          "scatter3d": [
           {
            "line": {
             "colorbar": {
              "outlinewidth": 0,
              "ticks": ""
             }
            },
            "marker": {
             "colorbar": {
              "outlinewidth": 0,
              "ticks": ""
             }
            },
            "type": "scatter3d"
           }
          ],
          "scattercarpet": [
           {
            "marker": {
             "colorbar": {
              "outlinewidth": 0,
              "ticks": ""
             }
            },
            "type": "scattercarpet"
           }
          ],
          "scattergeo": [
           {
            "marker": {
             "colorbar": {
              "outlinewidth": 0,
              "ticks": ""
             }
            },
            "type": "scattergeo"
           }
          ],
          "scattergl": [
           {
            "marker": {
             "colorbar": {
              "outlinewidth": 0,
              "ticks": ""
             }
            },
            "type": "scattergl"
           }
          ],
          "scattermap": [
           {
            "marker": {
             "colorbar": {
              "outlinewidth": 0,
              "ticks": ""
             }
            },
            "type": "scattermap"
           }
          ],
          "scattermapbox": [
           {
            "marker": {
             "colorbar": {
              "outlinewidth": 0,
              "ticks": ""
             }
            },
            "type": "scattermapbox"
           }
          ],
          "scatterpolar": [
           {
            "marker": {
             "colorbar": {
              "outlinewidth": 0,
              "ticks": ""
             }
            },
            "type": "scatterpolar"
           }
          ],
          "scatterpolargl": [
           {
            "marker": {
             "colorbar": {
              "outlinewidth": 0,
              "ticks": ""
             }
            },
            "type": "scatterpolargl"
           }
          ],
          "scatterternary": [
           {
            "marker": {
             "colorbar": {
              "outlinewidth": 0,
              "ticks": ""
             }
            },
            "type": "scatterternary"
           }
          ],
          "surface": [
           {
            "colorbar": {
             "outlinewidth": 0,
             "ticks": ""
            },
            "colorscale": [
             [
              0,
              "#0d0887"
             ],
             [
              0.1111111111111111,
              "#46039f"
             ],
             [
              0.2222222222222222,
              "#7201a8"
             ],
             [
              0.3333333333333333,
              "#9c179e"
             ],
             [
              0.4444444444444444,
              "#bd3786"
             ],
             [
              0.5555555555555556,
              "#d8576b"
             ],
             [
              0.6666666666666666,
              "#ed7953"
             ],
             [
              0.7777777777777778,
              "#fb9f3a"
             ],
             [
              0.8888888888888888,
              "#fdca26"
             ],
             [
              1,
              "#f0f921"
             ]
            ],
            "type": "surface"
           }
          ],
          "table": [
           {
            "cells": {
             "fill": {
              "color": "#EBF0F8"
             },
             "line": {
              "color": "white"
             }
            },
            "header": {
             "fill": {
              "color": "#C8D4E3"
             },
             "line": {
              "color": "white"
             }
            },
            "type": "table"
           }
          ]
         },
         "layout": {
          "annotationdefaults": {
           "arrowcolor": "#2a3f5f",
           "arrowhead": 0,
           "arrowwidth": 1
          },
          "autotypenumbers": "strict",
          "coloraxis": {
           "colorbar": {
            "outlinewidth": 0,
            "ticks": ""
           }
          },
          "colorscale": {
           "diverging": [
            [
             0,
             "#8e0152"
            ],
            [
             0.1,
             "#c51b7d"
            ],
            [
             0.2,
             "#de77ae"
            ],
            [
             0.3,
             "#f1b6da"
            ],
            [
             0.4,
             "#fde0ef"
            ],
            [
             0.5,
             "#f7f7f7"
            ],
            [
             0.6,
             "#e6f5d0"
            ],
            [
             0.7,
             "#b8e186"
            ],
            [
             0.8,
             "#7fbc41"
            ],
            [
             0.9,
             "#4d9221"
            ],
            [
             1,
             "#276419"
            ]
           ],
           "sequential": [
            [
             0,
             "#0d0887"
            ],
            [
             0.1111111111111111,
             "#46039f"
            ],
            [
             0.2222222222222222,
             "#7201a8"
            ],
            [
             0.3333333333333333,
             "#9c179e"
            ],
            [
             0.4444444444444444,
             "#bd3786"
            ],
            [
             0.5555555555555556,
             "#d8576b"
            ],
            [
             0.6666666666666666,
             "#ed7953"
            ],
            [
             0.7777777777777778,
             "#fb9f3a"
            ],
            [
             0.8888888888888888,
             "#fdca26"
            ],
            [
             1,
             "#f0f921"
            ]
           ],
           "sequentialminus": [
            [
             0,
             "#0d0887"
            ],
            [
             0.1111111111111111,
             "#46039f"
            ],
            [
             0.2222222222222222,
             "#7201a8"
            ],
            [
             0.3333333333333333,
             "#9c179e"
            ],
            [
             0.4444444444444444,
             "#bd3786"
            ],
            [
             0.5555555555555556,
             "#d8576b"
            ],
            [
             0.6666666666666666,
             "#ed7953"
            ],
            [
             0.7777777777777778,
             "#fb9f3a"
            ],
            [
             0.8888888888888888,
             "#fdca26"
            ],
            [
             1,
             "#f0f921"
            ]
           ]
          },
          "colorway": [
           "#636efa",
           "#EF553B",
           "#00cc96",
           "#ab63fa",
           "#FFA15A",
           "#19d3f3",
           "#FF6692",
           "#B6E880",
           "#FF97FF",
           "#FECB52"
          ],
          "font": {
           "color": "#2a3f5f"
          },
          "geo": {
           "bgcolor": "white",
           "lakecolor": "white",
           "landcolor": "#E5ECF6",
           "showlakes": true,
           "showland": true,
           "subunitcolor": "white"
          },
          "hoverlabel": {
           "align": "left"
          },
          "hovermode": "closest",
          "mapbox": {
           "style": "light"
          },
          "paper_bgcolor": "white",
          "plot_bgcolor": "#E5ECF6",
          "polar": {
           "angularaxis": {
            "gridcolor": "white",
            "linecolor": "white",
            "ticks": ""
           },
           "bgcolor": "#E5ECF6",
           "radialaxis": {
            "gridcolor": "white",
            "linecolor": "white",
            "ticks": ""
           }
          },
          "scene": {
           "xaxis": {
            "backgroundcolor": "#E5ECF6",
            "gridcolor": "white",
            "gridwidth": 2,
            "linecolor": "white",
            "showbackground": true,
            "ticks": "",
            "zerolinecolor": "white"
           },
           "yaxis": {
            "backgroundcolor": "#E5ECF6",
            "gridcolor": "white",
            "gridwidth": 2,
            "linecolor": "white",
            "showbackground": true,
            "ticks": "",
            "zerolinecolor": "white"
           },
           "zaxis": {
            "backgroundcolor": "#E5ECF6",
            "gridcolor": "white",
            "gridwidth": 2,
            "linecolor": "white",
            "showbackground": true,
            "ticks": "",
            "zerolinecolor": "white"
           }
          },
          "shapedefaults": {
           "line": {
            "color": "#2a3f5f"
           }
          },
          "ternary": {
           "aaxis": {
            "gridcolor": "white",
            "linecolor": "white",
            "ticks": ""
           },
           "baxis": {
            "gridcolor": "white",
            "linecolor": "white",
            "ticks": ""
           },
           "bgcolor": "#E5ECF6",
           "caxis": {
            "gridcolor": "white",
            "linecolor": "white",
            "ticks": ""
           }
          },
          "title": {
           "x": 0.05
          },
          "xaxis": {
           "automargin": true,
           "gridcolor": "white",
           "linecolor": "white",
           "ticks": "",
           "title": {
            "standoff": 15
           },
           "zerolinecolor": "white",
           "zerolinewidth": 2
          },
          "yaxis": {
           "automargin": true,
           "gridcolor": "white",
           "linecolor": "white",
           "ticks": "",
           "title": {
            "standoff": 15
           },
           "zerolinecolor": "white",
           "zerolinewidth": 2
          }
         }
        },
        "title": {
         "text": "Índice Microsoft"
        },
        "xaxis": {
         "gridcolor": "LightGrey",
         "gridwidth": 1,
         "showgrid": true
        },
        "yaxis": {
         "gridcolor": "LightGrey",
         "gridwidth": 1,
         "showgrid": true
        }
       }
      }
     },
     "metadata": {},
     "output_type": "display_data"
    }
   ],
   "source": [
    "grafico = graph_objects.Figure(\n",
    "    data=[graph],\n",
    "    layout_title=\"Índice Microsoft\",\n",
    "    # layout=layout\n",
    ")\n",
    "grafico.update_xaxes(showgrid=True, gridwidth=1, gridcolor='LightGrey')\n",
    "grafico.update_yaxes(showgrid=True, gridwidth=1, gridcolor='LightGrey')\n",
    "\n",
    "grafico\n"
   ]
  },
  {
   "cell_type": "code",
   "execution_count": null,
   "metadata": {},
   "outputs": [],
   "source": []
  }
 ],
 "metadata": {
  "kernelspec": {
   "display_name": "Python 3",
   "language": "python",
   "name": "python3"
  },
  "language_info": {
   "codemirror_mode": {
    "name": "ipython",
    "version": 3
   },
   "file_extension": ".py",
   "mimetype": "text/x-python",
   "name": "python",
   "nbconvert_exporter": "python",
   "pygments_lexer": "ipython3",
   "version": "3.12.9"
  },
  "toc": {
   "base_numbering": 1,
   "nav_menu": {},
   "number_sections": false,
   "sideBar": true,
   "skip_h1_title": true,
   "title_cell": "Índice",
   "title_sidebar": "Conteúdo",
   "toc_cell": false,
   "toc_position": {},
   "toc_section_display": true,
   "toc_window_display": false
  },
  "varInspector": {
   "cols": {
    "lenName": 16,
    "lenType": 16,
    "lenVar": 40
   },
   "kernels_config": {
    "python": {
     "delete_cmd_postfix": "",
     "delete_cmd_prefix": "del ",
     "library": "var_list.py",
     "varRefreshCmd": "print(var_dic_list())"
    },
    "r": {
     "delete_cmd_postfix": ") ",
     "delete_cmd_prefix": "rm(",
     "library": "var_list.r",
     "varRefreshCmd": "cat(var_dic_list()) "
    }
   },
   "types_to_exclude": [
    "module",
    "function",
    "builtin_function_or_method",
    "instance",
    "_Feature"
   ],
   "window_display": false
  }
 },
 "nbformat": 4,
 "nbformat_minor": 4
}
